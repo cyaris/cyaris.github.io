{
 "cells": [
  {
   "cell_type": "code",
   "execution_count": 1,
   "metadata": {},
   "outputs": [],
   "source": [
    "import pandas as pd\n",
    "import numpy as np\n",
    "from copy import deepcopy\n",
    "from traceback import format_exc\n",
    "from pprint import pprint\n",
    "import the_networks_of_war_python_functions"
   ]
  },
  {
   "cell_type": "code",
   "execution_count": 2,
   "metadata": {},
   "outputs": [],
   "source": [
    "pd.set_option('display.max_columns', None)\n",
    "pd.set_option('display.float_format', lambda x: '%.5f' % x)"
   ]
  },
  {
   "cell_type": "markdown",
   "metadata": {},
   "source": [
    "# Descriptive Statistics for Each Country by Year\n",
    "### Note: Applies to states/countries only.\n",
    "### This will be joined to the participants of each war"
   ]
  },
  {
   "cell_type": "code",
   "execution_count": 3,
   "metadata": {},
   "outputs": [],
   "source": [
    "csv_directory = '/Users/the_networks_of_war/data_sources/csvs/'\n",
    "part_df_1 = pd.read_csv(csv_directory + 'alliance_v4.1_by_member_yearly.csv', encoding = 'latin-1')\n",
    "\n",
    "part_df_1.rename({'ccode': 'c_code',\n",
    "                  'defense': 'defense_alliances',\n",
    "                  'entente': 'entente_alliances',\n",
    "                  'neutrality': 'neutrality_alliances',\n",
    "                  'ss_type': 'alliances'}, axis = 1, inplace = True)\n",
    "\n",
    "part_df_1['defense_alliances'] = part_df_1['defense_alliances'].astype(float)\n",
    "part_df_1['entente_alliances'] = part_df_1['entente_alliances'].astype(float)\n",
    "part_df_1['neutrality_alliances'] = part_df_1['neutrality_alliances'].astype(float)\n",
    "\n",
    "aggregations = {\n",
    "    'alliances': 'count',\n",
    "    'defense_alliances': 'sum',\n",
    "    'entente_alliances': 'sum',\n",
    "    'neutrality_alliances': 'sum',\n",
    "    }\n",
    "\n",
    "part_df_1 = deepcopy(part_df_1.groupby(['c_code', 'year']).agg(aggregations).reset_index())"
   ]
  },
  {
   "cell_type": "code",
   "execution_count": 4,
   "metadata": {},
   "outputs": [],
   "source": [
    "## dyadic trade data that will need to be adjusted to be non-dyadic (by country, by year)\n",
    "part_df_2_1 = pd.read_csv(csv_directory + 'Dyadic_COW_4.0.csv', encoding = 'utf8')\n",
    "part_df_2_1.rename({'ccode1': 'c_code_a',\n",
    "                    'ccode2': 'c_code_b',\n",
    "                    'flow2': 'money_flow_in_a',\n",
    "                    ## money flow out\n",
    "                    'flow1': 'money_flow_in_b'}, axis = 1, inplace = True)\n",
    "\n",
    "## need to union to take summations but won't need to dedupe because there are no duplicates between a and b.\n",
    "# this means a can be summed on its own when it's combined with b.\n",
    "switched_columns_list = ['c_code_a',\n",
    "                         'c_code_b',\n",
    "                         'money_flow_in_a',\n",
    "                         'money_flow_in_b']\n",
    "part_df_2_1 = deepcopy(the_networks_of_war_python_functions.union_opposite_columns(part_df_2_1, switched_columns_list))\n",
    "part_df_2_1.rename({'money_flow_in_a': 'money_flow_in',\n",
    "                    'money_flow_in_b': 'money_flow_out'}, axis = 1, inplace = True)\n",
    "\n",
    "aggregations = {'money_flow_in': 'sum',\n",
    "                'money_flow_out': 'sum'}\n",
    "part_df_2_1 = part_df_2_1.groupby(['c_code_a', 'year']).agg(aggregations).reset_index()\n",
    "part_df_2_1.rename({'c_code_a':'c_code'}, axis = 1, inplace = True)\n",
    "\n",
    "part_df_2_2 = pd.read_csv(csv_directory + 'National_COW_4.0.csv', encoding = 'latin-1')\n",
    "part_df_2_2.rename({'ccode': 'c_code'}, axis = 1, inplace = True)\n",
    "\n",
    "part_df_2_2 = deepcopy(part_df_2_2[['c_code', 'year', 'imports', 'exports']])\n",
    "\n",
    "part_df_2 = deepcopy(pd.merge(part_df_2_1, part_df_2_2, how = 'outer', on = ['c_code', 'year']))"
   ]
  },
  {
   "cell_type": "code",
   "execution_count": 5,
   "metadata": {},
   "outputs": [],
   "source": [
    "# trade_df.head(3)"
   ]
  },
  {
   "cell_type": "code",
   "execution_count": 6,
   "metadata": {},
   "outputs": [],
   "source": [
    "part_df_3 = pd.read_csv(csv_directory + 'NMC_5_0-wsupplementary.csv', encoding = 'latin-1')\n",
    "\n",
    "part_df_3.rename({'milex': 'military_expenditure',\n",
    "                  'milper': 'military_personnel',\n",
    "                  'irst': 'iron_steel_production',\n",
    "                  'pec': 'prim_energy_consumption',\n",
    "                  'tpop': 'total_population',\n",
    "                  'upop': 'urban_population',\n",
    "                  'upopgrowth': 'urban_pop_growth_rate',\n",
    "                  'ccode': 'c_code',\n",
    "                  'cinc': 'cinc_score'}, axis = 1, inplace = True)\n",
    "\n",
    "part_df_3 = part_df_3.sort_values(by = 'year', ascending = True).reset_index(drop = True)\n",
    "part_df_3 = deepcopy(part_df_3[['c_code',\n",
    "                                'year',\n",
    "                                'military_expenditure',\n",
    "                                'military_personnel',\n",
    "                                'prim_energy_consumption',\n",
    "                                'iron_steel_production',\n",
    "                                'total_population',\n",
    "                                'urban_population',\n",
    "                                'cinc_score']])"
   ]
  },
  {
   "cell_type": "code",
   "execution_count": 7,
   "metadata": {},
   "outputs": [],
   "source": [
    "descriptive_df_1 = deepcopy(pd.merge(part_df_1, part_df_2, how = 'outer', on = ['c_code', 'year']))\n",
    "descriptive_df_1 = deepcopy(pd.merge(descriptive_df_1, part_df_3, how = 'outer', on = ['c_code', 'year']))\n",
    "descriptive_df_1['year'] = descriptive_df_1['year'].astype(float)"
   ]
  },
  {
   "cell_type": "code",
   "execution_count": 8,
   "metadata": {},
   "outputs": [
    {
     "name": "stdout",
     "output_type": "stream",
     "text": [
      "total rows of descriptive participant data: 16,388\n"
     ]
    }
   ],
   "source": [
    "print('total rows of descriptive participant data: {}'.format(format(len(descriptive_df_1), ',d')))\n",
    "pickle_directory = '/Users/the_networks_of_war/data_sources/pickles/'\n",
    "descriptive_df_1.to_pickle(pickle_directory + 'participant_descriptive_df.pkl')"
   ]
  },
  {
   "cell_type": "markdown",
   "metadata": {},
   "source": [
    "# Dyadic Descriptive Statistics by Year\n",
    "### Note: Applies to states/countries only.\n",
    "### This will be joined to the dyadic pairs for each war"
   ]
  },
  {
   "cell_type": "markdown",
   "metadata": {},
   "source": [
    "### Taking care of the easy ones first"
   ]
  },
  {
   "cell_type": "code",
   "execution_count": 9,
   "metadata": {},
   "outputs": [],
   "source": [
    "## lot's to use in this dataset so I'll start with the basics\n",
    "data_source = csv_directory + 'tc2018.csv'\n",
    "dy_df_1 = deepcopy(the_networks_of_war_python_functions.descriptive_dyad_from_source(data_source, 'gainer', 'loser', 'year', 'territory_exchange'))\n",
    "## must be dyadic (two states per row)\n",
    "dy_df_1 = deepcopy(dy_df_1[(dy_df_1['c_code_a']!=-8) & (dy_df_1['c_code_a']!=-9) & (dy_df_1['c_code_b']!=-8) & (dy_df_1['c_code_b']!=-9)])\n",
    "\n",
    "## contiguity dataframe for states of colonial dependencies\n",
    "data_source = '/Users/the_networks_of_war/data_sources/csvs/contcold.csv'\n",
    "dy_df_2 = deepcopy(the_networks_of_war_python_functions.descriptive_dyad_from_source(data_source, 'statelno', 'statehno', 'year', 'colonial_contiguity'))\n",
    "\n",
    "data_source = '/Users/the_networks_of_war/data_sources/csvs/contdird.csv'\n",
    "dy_df_3 = deepcopy(the_networks_of_war_python_functions.descriptive_dyad_from_source(data_source, 'state1no', 'state2no', 'year', 'contiguity'))\n",
    "\n",
    "data_source = '/Users/the_networks_of_war/data_sources/csvs/alliance_v4.1_by_dyad_yearly.csv'\n",
    "dy_df_4 = deepcopy(the_networks_of_war_python_functions.descriptive_dyad_from_source(data_source, 'ccode1', 'ccode2', 'year', 'alliance'))\n",
    "\n",
    "data_source = '/Users/the_networks_of_war/data_sources/csvs/DCAD-v1.0-dyadic.csv'\n",
    "dy_df_5 = deepcopy(the_networks_of_war_python_functions.descriptive_dyad_from_source(data_source, 'ccode1', 'ccode2', 'year', 'defense_cooperation_agreements'))\n",
    "\n",
    "data_source = '/Users/the_networks_of_war/data_sources/csvs/dyadic_formatv3.csv'\n",
    "dy_df_6 = deepcopy(the_networks_of_war_python_functions.descriptive_dyad_from_source(data_source, 'ccode1', 'ccode2', 'year', 'inter_governmental_organizations'))\n",
    "\n",
    "## this one needs to be filled since its only 5 years\n",
    "data_source = '/Users/the_networks_of_war/data_sources/csvs/Diplomatic_Exchange_2006v1.csv'\n",
    "dy_df_7 = deepcopy(the_networks_of_war_python_functions.descriptive_dyad_from_source(data_source, 'ccode1', 'ccode2', 'year', 'diplomatic_exchange'))\n",
    "\n",
    "data_source = '/Users/the_networks_of_war/data_sources/csvs/Dyadic_COW_4.0.csv'\n",
    "dy_df_8 = deepcopy(the_networks_of_war_python_functions.descriptive_dyad_from_source(data_source, 'ccode1', 'ccode2', 'year', 'trade_relations'))"
   ]
  },
  {
   "cell_type": "code",
   "execution_count": 10,
   "metadata": {},
   "outputs": [],
   "source": [
    "# for year in np.arange(1800, 2020):\n",
    "#     for row in dy_df_7['year']:\n",
    "#         if len(dy_df_7[dy_df_7['year']==year])== 0:\n",
    "#             temp_dyad_df = deepcopy(dy_df_7[dy_df_7['year']==year].reset_index())\n",
    "#             for i, dyad in enumerate(temp_dyad_df['year']):\n",
    "#                 dyad_df_length = deepcopy(len(dy_df_7))\n",
    "#                 dy_df_7.loc[dyad_df_length, 'year'] = year\n",
    "#                 dy_df_7.loc[dyad_df_length, 'c_code_a'] = temp_dyad_df.loc[i, 'c_code_a']\n",
    "#                 dy_df_7.loc[dyad_df_length, 'c_code_b'] = temp_dyad_df.loc[i, 'c_code_b']\n",
    "#         else:\n",
    "#             current_year = year\n",
    "            \n",
    "# dy_df_7['diplomatic_exchange'] = 1\n",
    "# print(len(dy_df_7))"
   ]
  },
  {
   "cell_type": "markdown",
   "metadata": {},
   "source": [
    "### Setting up processing of 'ddrevisited_data_v1'"
   ]
  },
  {
   "cell_type": "code",
   "execution_count": 11,
   "metadata": {},
   "outputs": [],
   "source": [
    "dd_df_1 = pd.read_csv(csv_directory + 'ddrevisited_data_v1.csv', encoding = 'latin-1')[['cowcode', 'year', 'emil', 'royal', 'comm', 'democracy', 'regime', 'collect']]\n",
    "dd_df_1.rename({'cowcode': 'c_code',\n",
    "                'emil': 'military_leader',\n",
    "                'royal': 'royal_leader',\n",
    "                'comm': 'communist_leader',\n",
    "                'democracy': 'democratic_regime',\n",
    "                'collect': 'collective_leadership',\n",
    "                'regime': 'regime_type'}, axis = 1, inplace = True)\n",
    "dd_df_2 = pd.read_csv('/Users/the_networks_of_war/data_sources/csvs/ddrevisited_data_v1.csv', encoding = 'latin-1')[['cowcode2', 'year', 'emil', 'royal', 'comm', 'democracy', 'regime', 'collect']]\n",
    "dd_df_2.rename({'cowcode2': 'c_code',\n",
    "                'emil': 'military_leader',\n",
    "                'royal': 'royal_leader',\n",
    "                'comm': 'communist_leader',\n",
    "                'democracy': 'democratic_regime',\n",
    "                'collect': 'collective_leadership',\n",
    "                'regime': 'regime_type'}, axis = 1, inplace = True)\n",
    "## unioning the two ccodes above so they can both be represented\n",
    "## this will also allow for substates to be joined to the larger states\n",
    "## this will need to be recognized later on to prevent from saying same leadership when it's the same leader\n",
    "dd_df = deepcopy(pd.concat([dd_df_1, dd_df_2]))\n",
    "## removing duplicates from concat\n",
    "duplicate_list = ['c_code',\n",
    "                  'military_leader',\n",
    "                  'royal_leader',\n",
    "                  'communist_leader',\n",
    "                  'democratic_regime',\n",
    "                  'regime_type',\n",
    "                  'collective_leadership',\n",
    "                  'year']\n",
    "dd_df.drop_duplicates(subset = duplicate_list, keep = 'first', inplace = True)\n",
    "\n",
    "dd_df = deepcopy(pd.merge(dd_df, dd_df, how = 'left', on = ['year']))\n",
    "for column in dd_df.columns:\n",
    "    if column[-2:]=='_x':\n",
    "        dd_df.rename({column: column[:-2] + '_a'}, axis = 1, inplace = True)\n",
    "    elif column[-2:]=='_y':\n",
    "        dd_df.rename({column: column[:-2] + '_b'}, axis = 1, inplace = True)\n",
    "    else:\n",
    "        pass\n",
    "    \n",
    "dd_df = deepcopy(dd_df[dd_df['c_code_a']!=dd_df['c_code_b']])"
   ]
  },
  {
   "cell_type": "code",
   "execution_count": 12,
   "metadata": {},
   "outputs": [],
   "source": [
    "conditional_statement = (dd_df['military_leader_a']==dd_df['military_leader_b']) & (dd_df['communist_leader_a']==dd_df['communist_leader_b']) & (dd_df['royal_leader_a']==dd_df['royal_leader_b']) & (dd_df['democratic_regime_a']==dd_df['democratic_regime_b'])\n",
    "dy_df_9 = deepcopy(the_networks_of_war_python_functions.descriptive_dyad_from_dd(dd_df, conditional_statement, 'same_leader_type'))\n",
    "\n",
    "conditional_statement = (dd_df['military_leader_a']==1) & (dd_df['military_leader_b']==1)\n",
    "dy_df_10 = deepcopy(the_networks_of_war_python_functions.descriptive_dyad_from_dd(dd_df, conditional_statement, 'both_military_leaders'))\n",
    "\n",
    "conditional_statement = (dd_df['communist_leader_a']==1) & (dd_df['communist_leader_b']==1)\n",
    "dy_df_11 = deepcopy(the_networks_of_war_python_functions.descriptive_dyad_from_dd(dd_df, conditional_statement, 'both_communist_leaders'))\n",
    "\n",
    "conditional_statement = (dd_df['royal_leader_a']==1) & (dd_df['royal_leader_b']==1)\n",
    "dy_df_12 = deepcopy(the_networks_of_war_python_functions.descriptive_dyad_from_dd(dd_df, conditional_statement, 'both_royal_leaders'))\n",
    "\n",
    "conditional_statement = dd_df['regime_type_a']==dd_df['regime_type_b']\n",
    "dy_df_13 = deepcopy(the_networks_of_war_python_functions.descriptive_dyad_from_dd(dd_df, conditional_statement, 'same_regime_type'))\n",
    "\n",
    "conditional_statement = ((dd_df['democratic_regime_a']==1)& (dd_df['democratic_regime_b']==1)) | (((dd_df['regime_type_a']==0) | (dd_df['regime_type_a']==1) | (dd_df['regime_type_a']==2)) & ((dd_df['regime_type_b']==0) | (dd_df['regime_type_b']==1) | (dd_df['regime_type_b']==2)))\n",
    "dy_df_14 = deepcopy(the_networks_of_war_python_functions.descriptive_dyad_from_dd(dd_df, conditional_statement, 'both_democratic_regimes'))\n",
    "\n",
    "conditional_statement = ((dd_df['regime_type_a']==3) | (dd_df['regime_type_a']==4) | (dd_df['regime_type_a']==5)) & ((dd_df['regime_type_b']==3) | (dd_df['regime_type_b']==4) | (dd_df['regime_type_b']==5))\n",
    "dy_df_15 = deepcopy(the_networks_of_war_python_functions.descriptive_dyad_from_dd(dd_df, conditional_statement, 'both_dictatorships'))\n",
    "\n",
    "conditional_statement = (dd_df['collective_leadership_a']==1) & (dd_df['collective_leadership_b']==1)\n",
    "dy_df_16 = deepcopy(the_networks_of_war_python_functions.descriptive_dyad_from_dd(dd_df, conditional_statement, 'both_collective_leadership'))"
   ]
  },
  {
   "cell_type": "code",
   "execution_count": 13,
   "metadata": {},
   "outputs": [],
   "source": [
    "descriptive_df_2 = deepcopy(pd.merge(dy_df_1, dy_df_2, how = 'outer', on = ['c_code_a', 'c_code_b', 'year']))\n",
    "descriptive_df_2 = deepcopy(pd.merge(descriptive_df_2, dy_df_3, how = 'outer', on = ['c_code_a', 'c_code_b', 'year']))\n",
    "descriptive_df_2 = deepcopy(pd.merge(descriptive_df_2, dy_df_4, how = 'outer', on = ['c_code_a', 'c_code_b', 'year']))\n",
    "descriptive_df_2 = deepcopy(pd.merge(descriptive_df_2, dy_df_5, how = 'outer', on = ['c_code_a', 'c_code_b', 'year']))\n",
    "descriptive_df_2 = deepcopy(pd.merge(descriptive_df_2, dy_df_6, how = 'outer', on = ['c_code_a', 'c_code_b', 'year']))\n",
    "descriptive_df_2 = deepcopy(pd.merge(descriptive_df_2, dy_df_7, how = 'outer', on = ['c_code_a', 'c_code_b', 'year']))\n",
    "descriptive_df_2 = deepcopy(pd.merge(descriptive_df_2, dy_df_8, how = 'outer', on = ['c_code_a', 'c_code_b', 'year']))\n",
    "descriptive_df_2 = deepcopy(pd.merge(descriptive_df_2, dy_df_9, how = 'outer', on = ['c_code_a', 'c_code_b', 'year']))\n",
    "descriptive_df_2 = deepcopy(pd.merge(descriptive_df_2, dy_df_10, how = 'outer', on = ['c_code_a', 'c_code_b', 'year']))\n",
    "descriptive_df_2 = deepcopy(pd.merge(descriptive_df_2, dy_df_11, how = 'outer', on = ['c_code_a', 'c_code_b', 'year']))\n",
    "descriptive_df_2 = deepcopy(pd.merge(descriptive_df_2, dy_df_12, how = 'outer', on = ['c_code_a', 'c_code_b', 'year']))\n",
    "descriptive_df_2 = deepcopy(pd.merge(descriptive_df_2, dy_df_13, how = 'outer', on = ['c_code_a', 'c_code_b', 'year']))\n",
    "descriptive_df_2 = deepcopy(pd.merge(descriptive_df_2, dy_df_14, how = 'outer', on = ['c_code_a', 'c_code_b', 'year']))\n",
    "descriptive_df_2 = deepcopy(pd.merge(descriptive_df_2, dy_df_15, how = 'outer', on = ['c_code_a', 'c_code_b', 'year']))\n",
    "descriptive_df_2 = deepcopy(pd.merge(descriptive_df_2, dy_df_16, how = 'outer', on = ['c_code_a', 'c_code_b', 'year']))\n",
    "descriptive_df_2['year'] = descriptive_df_2['year'].astype(float)"
   ]
  },
  {
   "cell_type": "code",
   "execution_count": null,
   "metadata": {},
   "outputs": [
    {
     "name": "stdout",
     "output_type": "stream",
     "text": [
      "total rows of descriptive dyadic data: 10,561,738\n"
     ]
    }
   ],
   "source": [
    "print('total rows of descriptive dyadic data: {}'.format(format(len(descriptive_df_2), ',d')))\n",
    "descriptive_df_2.to_pickle(pickle_directory + 'dyadic_descriptive_df.pkl')"
   ]
  },
  {
   "cell_type": "code",
   "execution_count": null,
   "metadata": {},
   "outputs": [],
   "source": []
  }
 ],
 "metadata": {
  "kernelspec": {
   "display_name": "Python 3",
   "language": "python",
   "name": "python3"
  },
  "language_info": {
   "codemirror_mode": {
    "name": "ipython",
    "version": 3
   },
   "file_extension": ".py",
   "mimetype": "text/x-python",
   "name": "python",
   "nbconvert_exporter": "python",
   "pygments_lexer": "ipython3",
   "version": "3.6.4"
  }
 },
 "nbformat": 4,
 "nbformat_minor": 2
}
