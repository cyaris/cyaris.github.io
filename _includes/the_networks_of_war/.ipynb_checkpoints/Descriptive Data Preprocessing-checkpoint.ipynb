{
 "cells": [
  {
   "cell_type": "code",
   "execution_count": 1,
   "metadata": {},
   "outputs": [],
   "source": [
    "from warnings import filterwarnings\n",
    "\n",
    "filterwarnings('ignore')\n",
    "\n",
    "import pandas as pd\n",
    "import numpy as np\n",
    "from copy import deepcopy\n",
    "from traceback import format_exc\n",
    "from pprint import pprint\n",
    "import the_networks_of_war_python_functions"
   ]
  },
  {
   "cell_type": "code",
   "execution_count": 2,
   "metadata": {},
   "outputs": [],
   "source": [
    "pd.set_option('display.max_columns', None)\n",
    "pd.set_option('display.float_format', lambda x: '%.5f' % x)"
   ]
  },
  {
   "cell_type": "markdown",
   "metadata": {},
   "source": [
    "# Descriptive Statistics for Each Country by Year\n",
    "### Note: Applies to states/countries only.\n",
    "### This will be joined to the participants of each war"
   ]
  },
  {
   "cell_type": "code",
   "execution_count": 3,
   "metadata": {},
   "outputs": [],
   "source": [
    "alliance_df = pd.read_csv('/Users/the_networks_of_war/data_sources/csvs/alliance_v4.1_by_member_yearly.csv', encoding = 'latin-1')\n",
    "\n",
    "# print('alliance_v4.1_by_member_yearly columns: \\n')\n",
    "# pprint(sorted(list(alliance_df.columns)))\n",
    "# print('\\n')\n",
    "\n",
    "alliance_df.rename({'ccode': 'c_code',\n",
    "                    'defense': 'defense_alliances',\n",
    "                    'entente': 'entente_alliances',\n",
    "                    'neutrality': 'neutrality_alliances',\n",
    "                    'ss_type': 'alliances'}, axis = 1, inplace = True)\n",
    "\n",
    "alliance_df['defense_alliances'] = alliance_df['defense_alliances'].astype(float)\n",
    "alliance_df['entente_alliances'] = alliance_df['entente_alliances'].astype(float)\n",
    "alliance_df['neutrality_alliances'] = alliance_df['neutrality_alliances'].astype(float)\n",
    "\n",
    "aggregations = {\n",
    "    'alliances': 'count',\n",
    "    'defense_alliances': 'sum',\n",
    "    'entente_alliances': 'sum',\n",
    "    'neutrality_alliances': 'sum',\n",
    "    }\n",
    "\n",
    "alliance_df = deepcopy(alliance_df.groupby(['c_code', 'year']).agg(aggregations).reset_index())"
   ]
  },
  {
   "cell_type": "code",
   "execution_count": 4,
   "metadata": {},
   "outputs": [],
   "source": [
    "## dyadic trade data that will need to be adjusted to be non-dyadic (by country, by year)\n",
    "trade_df_1 = pd.read_csv('/Users/the_networks_of_war/data_sources/csvs/Dyadic_COW_4.0.csv', encoding = 'utf8')\n",
    "trade_df_1.rename({'ccode1': 'c_code_a',\n",
    "                   'ccode2': 'c_code_b',\n",
    "                   'flow2': 'money_flow_in_a',\n",
    "                   ## money flow out\n",
    "                   'flow1': 'money_flow_in_b'}, axis = 1, inplace = True)\n",
    "\n",
    "# print('Dyadic_COW_4.0 columns: \\n')\n",
    "# pprint(sorted(list(trade_df_1.columns)))\n",
    "# print('\\n')\n",
    "\n",
    "## need to union to take summations but won't need to dedupe because there are no duplicates between a and b.\n",
    "# this means a can be summed on its own when it's combined with b.\n",
    "switched_columns_list = ['c_code_a',\n",
    "                         'c_code_b',\n",
    "                         'money_flow_in_a',\n",
    "                         'money_flow_in_b']\n",
    "trade_df_1 = deepcopy(the_networks_of_war_python_functions.union_opposite_columns(trade_df_1, switched_columns_list))\n",
    "trade_df_1.rename({'money_flow_in_a': 'money_flow_in',\n",
    "                   'money_flow_in_b': 'money_flow_out'}, axis = 1, inplace = True)\n",
    "\n",
    "aggregations = {'money_flow_in': 'sum',\n",
    "                'money_flow_out': 'sum'}\n",
    "trade_df_1 = trade_df_1.groupby(['c_code_a', 'year']).agg(aggregations).reset_index()\n",
    "trade_df_1.rename({'c_code_a':'c_code'}, axis = 1, inplace = True)\n",
    "\n",
    "trade_df_2 = pd.read_csv('/Users/the_networks_of_war/data_sources/csvs/National_COW_4.0.csv', encoding = 'latin-1')\n",
    "trade_df_2.rename({'ccode': 'c_code'}, axis = 1, inplace = True)\n",
    "\n",
    "# print('National_COW_4.0 columns: \\n')\n",
    "# pprint(sorted(list(trade_df_2.columns)))\n",
    "# print('\\n')\n",
    "\n",
    "trade_df_2 = deepcopy(trade_df_2[['c_code', 'year', 'imports', 'exports']])\n",
    "\n",
    "trade_df = deepcopy(pd.merge(trade_df_1, trade_df_2, how = 'outer', on = ['c_code', 'year']))"
   ]
  },
  {
   "cell_type": "code",
   "execution_count": 5,
   "metadata": {},
   "outputs": [],
   "source": [
    "# trade_df.head(3)"
   ]
  },
  {
   "cell_type": "code",
   "execution_count": 6,
   "metadata": {},
   "outputs": [],
   "source": [
    "mil_cap_df = pd.read_csv('/Users/the_networks_of_war/data_sources/csvs/NMC_5_0-wsupplementary.csv', encoding = 'latin-1')\n",
    "\n",
    "mil_cap_df.rename({'milex': 'military_expenditure',\n",
    "                   'milper': 'military_personnel',\n",
    "                   'irst': 'iron_steel_production',\n",
    "                   'pec': 'prim_energy_consumption',\n",
    "                   'tpop': 'total_population',\n",
    "                   'upop': 'urban_population',\n",
    "                   'upopgrowth': 'urban_pop_growth_rate',\n",
    "                   'ccode': 'c_code',\n",
    "                   'cinc': 'cinc_score'}, axis = 1, inplace = True)\n",
    "\n",
    "# print('NMC_5_0-wsupplementary columns: \\n')\n",
    "# pprint(sorted(list(mil_cap_df.columns)))\n",
    "# print('\\n')\n",
    "\n",
    "mil_cap_df = mil_cap_df.sort_values(by = 'year', ascending = True).reset_index(drop = True)\n",
    "mil_cap_df = deepcopy(mil_cap_df[['c_code',\n",
    "                                  'year',\n",
    "                                  'military_expenditure',\n",
    "                                  'military_personnel',\n",
    "                                  'prim_energy_consumption',\n",
    "                                  'iron_steel_production',\n",
    "                                  'total_population',\n",
    "                                  'urban_population',\n",
    "                                  'cinc_score']])"
   ]
  },
  {
   "cell_type": "code",
   "execution_count": 7,
   "metadata": {},
   "outputs": [],
   "source": [
    "descriptive_df_1 = deepcopy(pd.merge(trade_df, mil_cap_df, how = 'outer', on = ['c_code', 'year']))\n",
    "descriptive_df_1 = deepcopy(pd.merge(descriptive_df_1, alliance_df, how = 'outer', on = ['c_code', 'year']))\n",
    "descriptive_df_1['year'] = descriptive_df_1['year'].astype(float)"
   ]
  },
  {
   "cell_type": "code",
   "execution_count": 8,
   "metadata": {},
   "outputs": [
    {
     "name": "stdout",
     "output_type": "stream",
     "text": [
      "total rows of descriptive participant data: 16,388\n"
     ]
    }
   ],
   "source": [
    "print('total rows of descriptive participant data: {}'.format(format(len(descriptive_df_1), ',d')))\n",
    "descriptive_df_1.to_pickle('/Users/the_networks_of_war/data_sources/pickles/participant_descriptive_df.pkl')"
   ]
  },
  {
   "cell_type": "markdown",
   "metadata": {},
   "source": [
    "# Dyadic Descriptive Statistics by Year\n",
    "### Note: Applies to states/countries only.\n",
    "### This will be joined to the dyadic pairs for each war"
   ]
  },
  {
   "cell_type": "code",
   "execution_count": 9,
   "metadata": {},
   "outputs": [],
   "source": [
    "## lot's to use in this dataset so I'll start with the basics\n",
    "territory_dy_df = pd.read_csv('/Users/the_networks_of_war/data_sources/csvs/tc2018.csv', encoding = 'utf8')\n",
    "## must be dyadic (two states per row)\n",
    "territory_dy_df = deepcopy(territory_dy_df[territory_dy_df['loser']!=-9])\n",
    "## starting with a binary representation of this dataset\n",
    "## just checking which states appear in here at all.\n",
    "## specific fields can be added later\n",
    "territory_dy_df['territory_exchange'] = 1\n",
    "territory_dy_df.rename({'gainer': 'c_code_a',\n",
    "                        'loser': 'c_code_b'}, axis = 1, inplace = True)\n",
    "\n",
    "# print('contcold columns: \\n')\n",
    "# pprint(sorted(list(colonial_contiguity_dy_df.columns)))\n",
    "# print('\\n')\n",
    "\n",
    "territory_dy_df = deepcopy(territory_dy_df[['c_code_a',\n",
    "                                            'c_code_b',\n",
    "                                            'year',\n",
    "                                            'territory_exchange']])\n",
    "\n",
    "## unioning mismatching columns so each participant will get their own row\n",
    "switched_columns_list = ['c_code_a',\n",
    "                         'c_code_b']\n",
    "territory_dy_df = deepcopy(the_networks_of_war_python_functions.union_opposite_columns(territory_dy_df, switched_columns_list))"
   ]
  },
  {
   "cell_type": "code",
   "execution_count": 10,
   "metadata": {},
   "outputs": [],
   "source": [
    "## contiguity dataframe for states of colonial dependencies\n",
    "colonial_contiguity_dy_df = pd.read_csv('/Users/the_networks_of_war/data_sources/csvs/contcold.csv', encoding = 'utf8')\n",
    "colonial_contiguity_dy_df.rename({'statelno': 'c_code_a',\n",
    "                                  'statehno': 'c_code_b',\n",
    "                                  'land': 'land_colonial_contiguity',\n",
    "                                  'sea': 'sea_colonial_contiguity',\n",
    "                                  'total': 'total_colonial_contiguity'}, axis = 1, inplace = True)\n",
    "\n",
    "# print('contcold columns: \\n')\n",
    "# pprint(sorted(list(colonial_contiguity_dy_df.columns)))\n",
    "# print('\\n')\n",
    "\n",
    "colonial_contiguity_dy_df = deepcopy(colonial_contiguity_dy_df[['c_code_a',\n",
    "                                                                'c_code_b',\n",
    "                                                                'year',\n",
    "                                                                'land_colonial_contiguity',\n",
    "                                                                'sea_colonial_contiguity',\n",
    "                                                                'total_colonial_contiguity']])\n",
    "\n",
    "## unioning mismatching columns so each participant will get their own row\n",
    "switched_columns_list = ['c_code_a',\n",
    "                         'c_code_b']\n",
    "colonial_contiguity_dy_df = deepcopy(the_networks_of_war_python_functions.union_opposite_columns(colonial_contiguity_dy_df, switched_columns_list))"
   ]
  },
  {
   "cell_type": "code",
   "execution_count": 11,
   "metadata": {},
   "outputs": [],
   "source": [
    "contiguity_dy_df = pd.read_csv('/Users/the_networks_of_war/data_sources/csvs/contdird.csv', encoding = 'utf8')\n",
    "contiguity_dy_df.rename({'state1no': 'c_code_a',\n",
    "                             'state2no': 'c_code_b',\n",
    "                             'conttype': 'contiguity_level'}, axis = 1, inplace = True)\n",
    "\n",
    "# print('contdird columns: \\n')\n",
    "# pprint(sorted(list(contiguity_dy_df.columns)))\n",
    "# print('\\n')\n",
    "\n",
    "# ## dictionary for the contiguity_level meanings\n",
    "# ## obtained from Direct Contiguity Codebook.pdf\n",
    "# contiguity_level_dic = {1: 'Separated by a land or river border',\n",
    "#                         2: 'Separated by 12 miles of water or less',\n",
    "#                         3: 'Separated by 24 miles of water or less (but more than 12 miles)',\n",
    "#                         4: 'Separated by 150 miles of water or less (but more than 24 miles)',\n",
    "#                         5: 'Separated by 400 miles of water or less (but more than 150 miles)'\n",
    "#                        }\n",
    "\n",
    "# for i, contiguity_level in enumerate(contiguity_level_dic.keys()):\n",
    "#     ## specifying the subtypes of each war based on the documentation\n",
    "#     contiguity_dy_df.loc[contiguity_dy_df['contiguity_level']==contiguity_level, 'contiguity_level_meaning'] = contiguity_level_dic[contiguity_level]\n",
    "\n",
    "contiguity_dy_df = deepcopy(contiguity_dy_df[['c_code_a',\n",
    "                                                      'c_code_b',\n",
    "                                                      'year',\n",
    "                                                      'contiguity_level'\n",
    "#                                                       , 'contiguity_level_meaning'\n",
    "                                                     ]])\n",
    "\n",
    "## unioning mismatching columns so each participant will get their own row\n",
    "switched_columns_list = ['c_code_a',\n",
    "                         'c_code_b']\n",
    "contiguity_dy_df = deepcopy(the_networks_of_war_python_functions.union_opposite_columns(contiguity_dy_df, switched_columns_list))"
   ]
  },
  {
   "cell_type": "code",
   "execution_count": 12,
   "metadata": {},
   "outputs": [],
   "source": [
    "alliance_dy_df = pd.read_csv('/Users/the_networks_of_war/data_sources/csvs/alliance_v4.1_by_dyad_yearly.csv', encoding = 'utf8')\n",
    "alliance_dy_df.rename({'ccode1': 'c_code_a',\n",
    "                       'ccode2': 'c_code_b',\n",
    "                       'defense': 'defense_alliance',\n",
    "                       'neutrality': 'neutrality_alliance',\n",
    "                       'entente': 'entente_alliance'}, axis = 1, inplace = True)\n",
    "\n",
    "# print('alliance_v4.1_by_dyad_yearly columns: \\n')\n",
    "# pprint(sorted(list(dyadic_alliance_df.columns)))\n",
    "# print('\\n')\n",
    "\n",
    "alliance_dy_df = deepcopy(alliance_dy_df[['c_code_a',\n",
    "                                          'c_code_b',\n",
    "                                          'year',\n",
    "                                          'defense_alliance',\n",
    "                                          'neutrality_alliance',\n",
    "                                          'entente_alliance']])\n",
    "\n",
    "## unioning mismatching columns so each participant will get their own row\n",
    "switched_columns_list = ['c_code_a',\n",
    "                         'c_code_b',\n",
    "                         'participant_a',\n",
    "                         'participant_b']\n",
    "alliance_dy_df = deepcopy(the_networks_of_war_python_functions.union_opposite_columns(alliance_dy_df, switched_columns_list))"
   ]
  },
  {
   "cell_type": "code",
   "execution_count": 13,
   "metadata": {},
   "outputs": [],
   "source": [
    "descriptive_df_2 = deepcopy(pd.merge(alliance_dy_df, contiguity_dy_df, how = 'outer', on = ['c_code_a', 'c_code_b', 'year']))\n",
    "descriptive_df_2 = deepcopy(pd.merge(descriptive_df_2, colonial_contiguity_dy_df, how = 'outer', on = ['c_code_a', 'c_code_b', 'year']))\n",
    "descriptive_df_2 = deepcopy(pd.merge(descriptive_df_2, territory_dy_df, how = 'outer', on = ['c_code_a', 'c_code_b', 'year']))\n",
    "descriptive_df_2['year'] = descriptive_df_2['year'].astype(float)"
   ]
  },
  {
   "cell_type": "code",
   "execution_count": 14,
   "metadata": {},
   "outputs": [
    {
     "name": "stdout",
     "output_type": "stream",
     "text": [
      "total rows of descriptive dyadic data: 314,336\n"
     ]
    }
   ],
   "source": [
    "print('total rows of descriptive dyadic data: {}'.format(format(len(descriptive_df_2), ',d')))\n",
    "descriptive_df_2.to_pickle('/Users/the_networks_of_war/data_sources/pickles/dyadic_descriptive_df.pkl')"
   ]
  },
  {
   "cell_type": "code",
   "execution_count": null,
   "metadata": {},
   "outputs": [],
   "source": []
  }
 ],
 "metadata": {
  "kernelspec": {
   "display_name": "Python 3",
   "language": "python",
   "name": "python3"
  },
  "language_info": {
   "codemirror_mode": {
    "name": "ipython",
    "version": 3
   },
   "file_extension": ".py",
   "mimetype": "text/x-python",
   "name": "python",
   "nbconvert_exporter": "python",
   "pygments_lexer": "ipython3",
   "version": "3.6.4"
  }
 },
 "nbformat": 4,
 "nbformat_minor": 2
}
