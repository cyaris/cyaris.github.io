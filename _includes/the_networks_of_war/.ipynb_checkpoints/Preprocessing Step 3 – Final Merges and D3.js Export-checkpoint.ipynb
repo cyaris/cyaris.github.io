{
 "cells": [
  {
   "cell_type": "code",
   "execution_count": 1,
   "metadata": {},
   "outputs": [],
   "source": [
    "import pandas as pd\n",
    "import numpy as np\n",
    "from copy import deepcopy\n",
    "from traceback import format_exc\n",
    "from pprint import pprint\n",
    "import the_networks_of_war_python_functions"
   ]
  },
  {
   "cell_type": "code",
   "execution_count": 2,
   "metadata": {},
   "outputs": [],
   "source": [
    "pd.set_option('display.max_columns', None)\n",
    "pd.set_option('display.float_format', lambda x: '%.5f' % x)"
   ]
  },
  {
   "cell_type": "markdown",
   "metadata": {},
   "source": [
    "## Setup for Identifying Countries by Code\n",
    "### Note: This is helpful for when different names are used for the same country."
   ]
  },
  {
   "cell_type": "code",
   "execution_count": 3,
   "metadata": {},
   "outputs": [
    {
     "name": "stdout",
     "output_type": "stream",
     "text": [
      "Total Country Codes: 217\n"
     ]
    }
   ],
   "source": [
    "c_code_dic = the_networks_of_war_python_functions.define_c_code_dic()"
   ]
  },
  {
   "cell_type": "markdown",
   "metadata": {},
   "source": [
    "## Integrating Descriptive Data (Defined in Outside Notebook)"
   ]
  },
  {
   "cell_type": "markdown",
   "metadata": {},
   "source": [
    "### Merging Participant Data with Participant-Level Descriptive Data"
   ]
  },
  {
   "cell_type": "code",
   "execution_count": 4,
   "metadata": {},
   "outputs": [],
   "source": [
    "csv_directory = '/Users/the_networks_of_war/data_sources/csvs/'\n",
    "pickle_directory = '/Users/the_networks_of_war/data_sources/pickles/'"
   ]
  },
  {
   "cell_type": "code",
   "execution_count": 5,
   "metadata": {},
   "outputs": [],
   "source": [
    "part_df = pd.read_pickle(pickle_directory + 'initial_part_df.pkl')\n",
    "dyad_df = pd.read_pickle(pickle_directory + 'initial_dyad_df.pkl')\n",
    "war_df = pd.read_pickle(pickle_directory + 'initial_war_df.pkl')"
   ]
  },
  {
   "cell_type": "code",
   "execution_count": 6,
   "metadata": {},
   "outputs": [],
   "source": [
    "descriptive_df_1 = pd.read_pickle(pickle_directory + 'participant_descriptive_df.pkl')\n",
    "\n",
    "part_df['start_year'] = part_df['start_year'].astype(float)\n",
    "part_df['end_year'] = part_df['end_year'].astype(float)\n",
    "descriptive_df_1.rename({'year': 'start_year'}, axis=1, inplace=True)\n",
    "\n",
    "part_df = deepcopy(pd.merge(part_df, descriptive_df_1, how='left', on=['c_code', 'start_year']))\n",
    "descriptive_df_1.rename({'start_year': 'end_year'}, axis=1, inplace=True)\n",
    "part_df = deepcopy(pd.merge(part_df, descriptive_df_1, how='left', on=['c_code', 'end_year']))"
   ]
  },
  {
   "cell_type": "markdown",
   "metadata": {},
   "source": [
    "### Merging Dyadic Data with Dyadic-Level Descriptive Data"
   ]
  },
  {
   "cell_type": "code",
   "execution_count": 7,
   "metadata": {},
   "outputs": [],
   "source": [
    "# initial_descriptive_columns = deepcopy(set(list(dyad_df.columns)))\n",
    "\n",
    "descriptive_df_2 = pd.read_pickle(pickle_directory + 'dyadic_descriptive_df.pkl')\n",
    "dyad_df = deepcopy(pd.merge(dyad_df, descriptive_df_2, how='left', on=['c_code_a', 'c_code_b', 'year']))\n",
    "\n",
    "# print('Counting Total Dyadic War and Year Combinations by Descriptive Field\\n')\n",
    "# the_networks_of_war_python_functions.print_new_fields(dyad_df, initial_descriptive_columns, None)"
   ]
  },
  {
   "cell_type": "markdown",
   "metadata": {},
   "source": [
    "## Finalizing Participant and Dyadic Dataframes"
   ]
  },
  {
   "cell_type": "markdown",
   "metadata": {},
   "source": [
    "### Keeping values for first and last year of each dyad\n",
    "### Combining these into one row per dyad"
   ]
  },
  {
   "cell_type": "code",
   "execution_count": 8,
   "metadata": {
    "code_folding": [
     8
    ]
   },
   "outputs": [],
   "source": [
    "## creating unique identifier \"conflict_pair\" for each dyad\n",
    "## based on name\n",
    "for i, participant_a in enumerate(dyad_df['participant_a']):\n",
    "    ## standardizing participant names with ccode when available\n",
    "    dyad_list = []\n",
    "    if dyad_df.loc[i, 'c_code_a'] in c_code_dic.keys():\n",
    "        dyad_list.append(str(dyad_df.loc[i, 'c_code_a']))\n",
    "    else:\n",
    "        dyad_list.append(participant_a)\n",
    "    if dyad_df.loc[i, 'c_code_b'] in c_code_dic.keys():\n",
    "        dyad_list.append(str(dyad_df.loc[i, 'c_code_b']))\n",
    "    else:\n",
    "        dyad_list.append(dyad_df.loc[i, 'participant_b'])\n",
    "    dyad_list = str(sorted(dyad_list))\n",
    "    dyad_df.loc[i, 'conflict_pair'] = dyad_list\n",
    "\n",
    "dyad_df_columns = ['war_num', 'year', 'participant_a', 'participant_b', 'conflict_pair']\n",
    "for column in list(descriptive_df_2.columns):\n",
    "    dyad_df_columns.append(column)\n",
    "    dyad_df['year'] = dyad_df['year'].astype(int)\n",
    "## not including any row without any participants\n",
    "dyad_df = deepcopy(dyad_df[(dyad_df['participant_a'].isnull()==False) & (dyad_df['participant_b'].isnull()==False)])\n",
    "\n",
    "## creating new dyad_df to get the max of each field during all the years of the dyad\n",
    "max_dyad_df = deepcopy(dyad_df)\n",
    "descriptive_columns =  list(descriptive_df_2.columns)\n",
    "descriptive_columns.remove('year')\n",
    "descriptive_columns.remove('c_code_a')\n",
    "descriptive_columns.remove('c_code_b')\n",
    "aggregations = {}\n",
    "for column in descriptive_columns:\n",
    "    max_dyad_df.rename({column: column + '_z'}, axis=1, inplace=True)\n",
    "    aggregations[column + '_z'] = 'max'\n",
    "max_dyad_df = deepcopy(max_dyad_df.groupby(['war_num', 'conflict_pair']).agg(aggregations).reset_index())\n",
    "\n",
    "## need to dedupe across conflict pair so a vs b are never repeated interchangably\n",
    "duplicate_list = ['war_num', 'conflict_pair']\n",
    "\n",
    "first_year_dyad_df = deepcopy(dyad_df)\n",
    "first_year_dyad_df.sort_values(by = 'year', ascending=True, inplace=True)\n",
    "## keeping the values for only the first year of conflict within a given dyad\n",
    "first_year_dyad_df.drop_duplicates(subset = duplicate_list, keep='first', inplace=True)\n",
    "first_year_dyad_df.rename({'year': 'first_year'}, axis=1, inplace =True)\n",
    "\n",
    "last_year_dyad_df = deepcopy(dyad_df)\n",
    "last_year_dyad_df.sort_values(by = 'year', ascending=True, inplace=True)\n",
    "## keeping the values for only the last year of conflict within a given dyad\n",
    "last_year_dyad_df.drop_duplicates(subset = duplicate_list, keep='last', inplace=True)\n",
    "last_year_dyad_df.rename({'year': 'last_year'}, axis=1, inplace=True)\n",
    "\n",
    "## combining first and last year dyads into one dataframe\n",
    "dyad_df = deepcopy(pd.merge(first_year_dyad_df, last_year_dyad_df, how='left', on=['conflict_pair', 'war_num']))\n",
    "## combining the maximum df into the final version of the dataframe\n",
    "dyad_df = deepcopy(pd.merge(dyad_df, max_dyad_df, how='left', on=['conflict_pair', 'war_num']))\n",
    "## changing column names and then dropping duplicates\n",
    "## adding them into the join woudl fail (since not all have c_codes)\n",
    "dyad_df.rename({'c_code_a_x':'c_code_a',\n",
    "                'c_code_b_x': 'c_code_b',\n",
    "                'participant_a_x':'participant_a',\n",
    "                'participant_b_x': 'participant_b'}, axis=1, inplace=True)\n",
    "dyad_df = deepcopy(dyad_df.reset_index(drop=True))\n",
    "dyad_df.drop(['conflict_pair',\n",
    "              'c_code_a_y',\n",
    "              'c_code_b_y',\n",
    "              'side_a_x',\n",
    "              'side_a_y',\n",
    "              'side_b_x',\n",
    "              'side_b_y',\n",
    "              'participant_a_y',\n",
    "              'participant_b_y'], axis=1, inplace=True)"
   ]
  },
  {
   "cell_type": "code",
   "execution_count": 9,
   "metadata": {},
   "outputs": [
    {
     "name": "stdout",
     "output_type": "stream",
     "text": [
      "Counting Total Dyadic War Combinations by Descriptive Field\n",
      "\n",
      " Overall  inter_governmental_organizations  294\n",
      " Overall                   trade_relations  243\n",
      " Overall                             mtops  178\n",
      " Overall                        contiguity  152\n",
      " Overall               diplomatic_exchange   90\n",
      " Overall               same_incumbent_type   89\n",
      " Overall             same_legislation_type   60\n",
      " Overall                territory_exchange   56\n",
      " Overall                              atop   55\n",
      " Overall                          alliance   40\n",
      " Overall               colonial_contiguity   40\n",
      " Overall                     dictatorships   31\n",
      " Overall    defense_cooperation_agreements   24\n",
      " Overall                  military_leaders   12\n",
      " Overall                  same_leader_type   12\n",
      " Overall           regime_only_legislature    5\n",
      " Overall               single_party_states    5\n",
      " Overall           both_democratic_regimes    4\n",
      " Overall                 communist_leaders    4\n",
      " Overall                    no_legislation    2\n",
      " Overall                all_parties_banned    0\n",
      " Overall            collective_leaderships    0\n",
      " Overall                        no_parties    0\n",
      " Overall                     royal_leaders    0\n",
      " Overall       unconstitutional_incumbents    0\n"
     ]
    }
   ],
   "source": [
    "print('Counting Total Dyadic War Combinations by Descriptive Field\\n')\n",
    "max_dyad_columns = list(max_dyad_df.drop(['war_num', 'conflict_pair'], axis=1).columns)\n",
    "the_networks_of_war_python_functions.print_new_fields(dyad_df, None, max_dyad_columns)\n",
    "# descriptive_dyad_columns = list(dyad_df.drop(['war_num', 'c_code_a', 'c_code_b', 'participant_a', 'participant_b', 'first_year', 'last_year'], axis=1).columns)\n",
    "# the_networks_of_war_python_functions.print_new_fields(dyad_df, None, descriptive_dyad_columns)"
   ]
  },
  {
   "cell_type": "markdown",
   "metadata": {},
   "source": [
    "### Addressing in null values, missing data, and conversions for dyads and participants"
   ]
  },
  {
   "cell_type": "code",
   "execution_count": 10,
   "metadata": {},
   "outputs": [
    {
     "name": "stdout",
     "output_type": "stream",
     "text": [
      "\n",
      "Addressng null values, missing data, and conversions for part_df.\n",
      "\n",
      "Total Columns Adjusted: 32\n",
      "Total Columns Adjusted for Conversion: 16\n",
      "Total Null Values Notated: 27,561\n",
      "Total Unknown Values Notated: 476\n",
      "\n",
      "Addressng null values, missing data, and conversions for dyad_df.\n",
      "\n",
      "Total Columns Adjusted: 75\n",
      "Total Columns Adjusted for Conversion: 0\n",
      "Total Null Values Notated: 77,453\n",
      "Total Unknown Values Notated: 0\n"
     ]
    }
   ],
   "source": [
    "conversion_dic = {'money_flow_in': 1000000,\n",
    "                  'money_flow_out': 1000000,\n",
    "                  'military_expenditure': 1000,\n",
    "                  'military_personnel': 1000,\n",
    "                  'total_population': 1000,\n",
    "                  'urban_population': 1000,\n",
    "                  ## these are thousands of tons\n",
    "                  'iron_steel_production': 2000000,\n",
    "                  'prim_energy_consumption': 2000000\n",
    "                 }\n",
    "\n",
    "print('\\nAddressng null values, missing data, and conversions for part_df.')\n",
    "part_df = deepcopy(the_networks_of_war_python_functions.column_fills_and_converions(part_df, conversion_dic))\n",
    "print('\\nAddressng null values, missing data, and conversions for dyad_df.')\n",
    "dyad_df = deepcopy(the_networks_of_war_python_functions.column_fills_and_converions(dyad_df, None))"
   ]
  },
  {
   "cell_type": "markdown",
   "metadata": {},
   "source": [
    "### Saving the data"
   ]
  },
  {
   "cell_type": "code",
   "execution_count": 11,
   "metadata": {},
   "outputs": [
    {
     "name": "stdout",
     "output_type": "stream",
     "text": [
      "Total Participants: 1,713\n",
      "Total Dyadic Combinations: 1,086\n",
      "Total Wars: 678\n"
     ]
    }
   ],
   "source": [
    "print('Total Participants: {}'.format(format(len(part_df), ',d')))\n",
    "print('Total Dyadic Combinations: {}'.format(format(len(dyad_df), ',d')))\n",
    "print('Total Wars: {}'.format(format(len(war_df), ',d')))\n",
    "\n",
    "part_df.to_pickle(pickle_directory + 'part_df.pkl')\n",
    "dyad_df.to_pickle(pickle_directory + 'dyad_df.pkl')\n",
    "war_df.to_pickle(pickle_directory + 'war_df.pkl')"
   ]
  },
  {
   "cell_type": "code",
   "execution_count": 12,
   "metadata": {},
   "outputs": [],
   "source": [
    "# part_df = pd.read_pickle(pickle_directory + 'part_df.pkl')\n",
    "# dyad_df = pd.read_pickle(pickle_directory + 'dyad_df.pkl')\n",
    "# war_df = pd.read_pickle(pickle_directory + 'war_df.pkl')"
   ]
  },
  {
   "cell_type": "markdown",
   "metadata": {},
   "source": [
    "## JSON Export for D3.js Processing"
   ]
  },
  {
   "cell_type": "code",
   "execution_count": 13,
   "metadata": {
    "code_folding": [],
    "scrolled": true
   },
   "outputs": [
    {
     "name": "stdout",
     "output_type": "stream",
     "text": [
      "JSON Files to be Rewritten: 678\n",
      "\n",
      "Floating Node in Third Somalia War: Eritrea\n",
      "Floating Node in Africa's World War: Rwanda\n",
      "Floating Node in Africa's World War: Burundi\n",
      "Floating Node in Africa's World War: Uganda\n",
      "Floating Node in Fourth Lebanese War: Iran\n",
      "Floating Node in Fourth Lebanese War: Syria\n",
      "Floating Node in Second South Sudan War: Uganda\n",
      "Floating Node in Chad - FAN War: France\n",
      "Floating Node in Chad - FAN War: Democratic Republic of the Congo\n",
      "Floating Node in Third Lebanese War: Israel\n",
      "Floating Node in Second Ogaden War phase 3: Somalia\n",
      "Floating Node in Chad - FAP War: Libya\n",
      "Floating Node in Angolan Control War: South Africa\n",
      "Floating Node in Western Saharan: Algeria\n",
      "Floating Node in First Khmer Rouge War: Vietnam\n",
      "Floating Node in First Laotian War: Vietnam\n",
      "Floating Node in Vietnam War phase 1: Vietnam\n",
      "Floating Node in First Lebanese War: Syria\n",
      "Floating Node in Spanish Civil War: Portugal\n",
      "Floating Node in Spanish Civil War: Germany\n",
      "Floating Node in Spanish Civil War: Italy\n",
      "Floating Node in Gilan Marxists Rebellion: Russia\n",
      "Floating Node in Finnish Civil War: Russia\n",
      "Floating Node in World War I: Japan\n"
     ]
    }
   ],
   "source": [
    "file_df = pd.DataFrame()\n",
    "\n",
    "war_column_list = list(war_df.columns)\n",
    "## dropping fields that won't be needed in the participant section of the json file\n",
    "part_column_list = list(part_df.drop(['war_num',\n",
    "                                      'war_name',\n",
    "                                      'war_type',\n",
    "                                      'war_sub_type',\n",
    "                                      'total_deaths_both_sides'], axis=1).columns)\n",
    "## dropping fields that won't be needed in the dyad section of the json file\n",
    "dyad_column_list = list(dyad_df.drop(['war_num',\n",
    "                                      'c_code_a',\n",
    "                                      'c_code_b',\n",
    "                                      'participant_a',\n",
    "                                      'participant_b'], axis=1).columns)\n",
    "\n",
    "csv_output_directory = '../../assets/the_networks_of_war/'\n",
    "print('JSON Files to be Rewritten: {}\\n'.format(format(len(war_df), ',d')))\n",
    "for i, war in enumerate(war_df['war_num']):\n",
    "    \n",
    "    file_name = 'war_num_' + str(war).replace('.', '_') + '.json'\n",
    "    file_df.loc[i, 'file_name'] = file_name\n",
    "    for column in war_column_list:\n",
    "        file_df.loc[i, column] = war_df[war_df['war_num']==war][column].values[0]\n",
    "\n",
    "    part_df_copy = deepcopy(pd.read_pickle(pickle_directory + 'part_df.pkl'))\n",
    "    part_df_copy = deepcopy(part_df_copy[part_df_copy['war_num']==war].reset_index(drop = True))\n",
    "    dyad_df_copy = deepcopy(pd.read_pickle(pickle_directory + 'dyad_df.pkl'))\n",
    "    dyad_df_copy = deepcopy(dyad_df_copy[dyad_df_copy['war_num']==war].reset_index(drop = True))\n",
    "    war_df_copy = deepcopy(pd.read_pickle(pickle_directory + 'war_df.pkl'))\n",
    "    war_df_copy = deepcopy(war_df_copy[war_df_copy['war_num']==war].reset_index(drop = True))\n",
    "    \n",
    "    node_names = []\n",
    "    sides = []\n",
    "    for i, participant in enumerate(part_df_copy['participant']):\n",
    "        c_code_input = part_df_copy.loc[i, 'c_code']\n",
    "        sides.append(part_df_copy.loc[i, 'side'])\n",
    "        if c_code_input==-8:\n",
    "            node_names.append(participant)\n",
    "        else:\n",
    "            node_names.append(part_df_copy.loc[i, 'c_code'])\n",
    "\n",
    "    ## rewriting all of the files each time\n",
    "    graph_file = open(csv_output_directory + 'json_files_by_war/' + file_name, 'w').close()\n",
    "    graph_file = open(csv_output_directory + 'json_files_by_war/' + file_name, 'w')\n",
    "    graph_file.write('{\\n  \"war\": [\\n    {')\n",
    "    war_line = ''\n",
    "    for i, column in enumerate(war_column_list):\n",
    "        if i==0:\n",
    "            war_line = deepcopy(war_line + '\"' + column + '\": \"' + str(war_df_copy.loc[0, column]))\n",
    "        else:\n",
    "            war_line = deepcopy(war_line + '\", \"' + column + '\": \"' + str(war_df_copy.loc[0, column]))\n",
    "\n",
    "    war_line = deepcopy(war_line + '\"}\\n')\n",
    "    graph_file.write(war_line)\n",
    "    graph_file.write('  ],\\n  \"nodes\": [\\n')\n",
    "\n",
    "    participant_line = ''\n",
    "    for i, node in enumerate(part_df_copy['participant']):\n",
    "        participant_line = deepcopy(participant_line + '    {\"id\": \"' + str(i))\n",
    "        for column in part_column_list:\n",
    "            participant_line = deepcopy(participant_line + '\", \"' + column + '\": \"' + str(part_df_copy.loc[i, column]))\n",
    "        participant_line = deepcopy(participant_line + '\"},\\n')\n",
    "        \n",
    "    participant_line = deepcopy(participant_line[:-2] + '\\n')\n",
    "    graph_file.write(participant_line)\n",
    "    graph_file.write('  ],\\n  \"links\": [\\n')\n",
    "\n",
    "    link_line = ''\n",
    "    dyad_inputs = []\n",
    "    if len(dyad_df_copy)==0:\n",
    "        print('No dyads for war_num {} ({}), {} participants'.format(war, war_df_copy.loc[0, 'war_name'], len(part_df_copy)))\n",
    "    for i, node_1 in enumerate(dyad_df_copy['c_code_a']):\n",
    "        if dyad_df_copy.loc[i, 'c_code_a']==-8:\n",
    "            node_1_input = dyad_df_copy.loc[i, 'participant_a']\n",
    "            dyad_inputs.append(node_1_input)\n",
    "        else:\n",
    "            node_1_input = node_1\n",
    "            dyad_inputs.append(node_1_input)\n",
    "        if dyad_df_copy.loc[i, 'c_code_b']==-8:\n",
    "            node_2_input = dyad_df_copy.loc[i, 'participant_b']\n",
    "            dyad_inputs.append(node_2_input)\n",
    "        else:\n",
    "            node_2_input = dyad_df_copy.loc[i, 'c_code_b']\n",
    "            dyad_inputs.append(node_2_input)\n",
    "        ## sometimes a country could be in the dyad and not in the participant df_copy.\n",
    "        ## this is rare but has happened (see Spain in WWII)\n",
    "        ## should be taken care of in processes above, so checking below to see if that process failed\n",
    "        if node_1_input not in node_names:\n",
    "            print(\"Participant Missing in Dyadic Data: {} for {}.\".format(dyad_df_copy.loc[i, 'participant_a'], war_df_copy.loc[0, 'war_name']))   \n",
    "        elif node_2_input not in node_names:\n",
    "            print(\"Participant Missing in Dyadic Data: {} for {}.\".format(dyad_df_copy.loc[i, 'participant_b'], war_df_copy.loc[0, 'war_name']))   \n",
    "        else:\n",
    "            link_line = deepcopy(link_line\n",
    "                + '    {\"source\": \"' + str(node_names.index(node_1_input))\n",
    "                + '\", \"target\": \"' + str(node_names.index(node_2_input)))\n",
    "            for column in dyad_column_list:\n",
    "                link_line = deepcopy(link_line + '\", \"' + column + '\": \"' + str(dyad_df_copy.loc[i, column]))\n",
    "            link_line = deepcopy(link_line + '\"},\\n')\n",
    "            ## checking for any dyads that are paired with participants on the same side as them\n",
    "            ## this would most likely suggest a mistake in pre-processing\n",
    "            ## does not apply to side 3 (switched sides)\n",
    "            if sides[node_names.index(node_1_input)]==sides[node_names.index(node_2_input)] and sides[node_names.index(node_1_input)]!=3:\n",
    "                print('Dyads on the Same Side: {} and {} for {}.'.format(dyad_df_copy.loc[i, 'participant_a'], dyad_df_copy.loc[i, 'participant_b'], war_df_copy.loc[0, 'war_name']))   \n",
    "                                \n",
    "    link_line = deepcopy(link_line[:-2] + '\\n')\n",
    "    graph_file.write(link_line)\n",
    "    graph_file.write('\\n  ]\\n}')\n",
    "\n",
    "    for node in node_names:\n",
    "        if node not in dyad_inputs:\n",
    "            if int(str(node)[0]) in np.arange(0, 10):\n",
    "                print('Floating Node in {}: {}'.format(war_df_copy.loc[0, 'war_name'], c_code_dic[node]))\n",
    "            else:\n",
    "                print('Floating Node in {}: {}'.format(war_df_copy.loc[0, 'war_name'], node))"
   ]
  },
  {
   "cell_type": "code",
   "execution_count": 14,
   "metadata": {},
   "outputs": [],
   "source": [
    "file_df.to_csv(csv_output_directory + 'war_file_list.csv', index = None)"
   ]
  },
  {
   "cell_type": "code",
   "execution_count": null,
   "metadata": {},
   "outputs": [],
   "source": []
  }
 ],
 "metadata": {
  "kernelspec": {
   "display_name": "Python 3",
   "language": "python",
   "name": "python3"
  },
  "language_info": {
   "codemirror_mode": {
    "name": "ipython",
    "version": 3
   },
   "file_extension": ".py",
   "mimetype": "text/x-python",
   "name": "python",
   "nbconvert_exporter": "python",
   "pygments_lexer": "ipython3",
   "version": "3.6.4"
  }
 },
 "nbformat": 4,
 "nbformat_minor": 2
}
