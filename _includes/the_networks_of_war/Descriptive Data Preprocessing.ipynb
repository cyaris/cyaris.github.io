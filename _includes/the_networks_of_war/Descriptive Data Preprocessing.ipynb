{
 "cells": [
  {
   "cell_type": "code",
   "execution_count": 1,
   "metadata": {},
   "outputs": [],
   "source": [
    "from warnings import filterwarnings\n",
    "\n",
    "filterwarnings('ignore')\n",
    "\n",
    "import pandas as pd\n",
    "import numpy as np\n",
    "from copy import deepcopy\n",
    "from traceback import format_exc\n",
    "from pprint import pprint\n",
    "import the_networks_of_war_python_functions"
   ]
  },
  {
   "cell_type": "code",
   "execution_count": 2,
   "metadata": {},
   "outputs": [],
   "source": [
    "pd.set_option('display.max_columns', None)\n",
    "pd.set_option('display.float_format', lambda x: '%.5f' % x)"
   ]
  },
  {
   "cell_type": "markdown",
   "metadata": {},
   "source": [
    "# Descriptive Statistics for Each Country by Year\n",
    "### Note: Applies to states/countries only.\n",
    "### This will be joined to the participants of each war"
   ]
  },
  {
   "cell_type": "code",
   "execution_count": 3,
   "metadata": {},
   "outputs": [],
   "source": [
    "part_df_1 = pd.read_csv('/Users/the_networks_of_war/data_sources/csvs/alliance_v4.1_by_member_yearly.csv', encoding = 'latin-1')\n",
    "\n",
    "# print('alliance_v4.1_by_member_yearly columns: \\n')\n",
    "# pprint(sorted(list(part_df_1.columns)))\n",
    "# print('\\n')\n",
    "\n",
    "part_df_1.rename({'ccode': 'c_code',\n",
    "                  'defense': 'defense_alliances',\n",
    "                  'entente': 'entente_alliances',\n",
    "                  'neutrality': 'neutrality_alliances',\n",
    "                  'ss_type': 'alliances'}, axis = 1, inplace = True)\n",
    "\n",
    "part_df_1['defense_alliances'] = part_df_1['defense_alliances'].astype(float)\n",
    "part_df_1['entente_alliances'] = part_df_1['entente_alliances'].astype(float)\n",
    "part_df_1['neutrality_alliances'] = part_df_1['neutrality_alliances'].astype(float)\n",
    "\n",
    "aggregations = {\n",
    "    'alliances': 'count',\n",
    "    'defense_alliances': 'sum',\n",
    "    'entente_alliances': 'sum',\n",
    "    'neutrality_alliances': 'sum',\n",
    "    }\n",
    "\n",
    "part_df_1 = deepcopy(part_df_1.groupby(['c_code', 'year']).agg(aggregations).reset_index())"
   ]
  },
  {
   "cell_type": "code",
   "execution_count": 4,
   "metadata": {},
   "outputs": [],
   "source": [
    "## dyadic trade data that will need to be adjusted to be non-dyadic (by country, by year)\n",
    "part_df_2_1 = pd.read_csv('/Users/the_networks_of_war/data_sources/csvs/Dyadic_COW_4.0.csv', encoding = 'utf8')\n",
    "part_df_2_1.rename({'ccode1': 'c_code_a',\n",
    "                    'ccode2': 'c_code_b',\n",
    "                    'flow2': 'money_flow_in_a',\n",
    "                    ## money flow out\n",
    "                    'flow1': 'money_flow_in_b'}, axis = 1, inplace = True)\n",
    "\n",
    "# print('Dyadic_COW_4.0 columns: \\n')\n",
    "# pprint(sorted(list(part_df_2_1.columns)))\n",
    "# print('\\n')\n",
    "\n",
    "## need to union to take summations but won't need to dedupe because there are no duplicates between a and b.\n",
    "# this means a can be summed on its own when it's combined with b.\n",
    "switched_columns_list = ['c_code_a',\n",
    "                         'c_code_b',\n",
    "                         'money_flow_in_a',\n",
    "                         'money_flow_in_b']\n",
    "part_df_2_1 = deepcopy(the_networks_of_war_python_functions.union_opposite_columns(part_df_2_1, switched_columns_list))\n",
    "part_df_2_1.rename({'money_flow_in_a': 'money_flow_in',\n",
    "                    'money_flow_in_b': 'money_flow_out'}, axis = 1, inplace = True)\n",
    "\n",
    "aggregations = {'money_flow_in': 'sum',\n",
    "                'money_flow_out': 'sum'}\n",
    "part_df_2_1 = part_df_2_1.groupby(['c_code_a', 'year']).agg(aggregations).reset_index()\n",
    "part_df_2_1.rename({'c_code_a':'c_code'}, axis = 1, inplace = True)\n",
    "\n",
    "part_df_2_2 = pd.read_csv('/Users/the_networks_of_war/data_sources/csvs/National_COW_4.0.csv', encoding = 'latin-1')\n",
    "part_df_2_2.rename({'ccode': 'c_code'}, axis = 1, inplace = True)\n",
    "\n",
    "# print('National_COW_4.0 columns: \\n')\n",
    "# pprint(sorted(list(trade_df_2.columns)))\n",
    "# print('\\n')\n",
    "\n",
    "part_df_2_2 = deepcopy(part_df_2_2[['c_code', 'year', 'imports', 'exports']])\n",
    "\n",
    "part_df_2 = deepcopy(pd.merge(part_df_2_1, part_df_2_2, how = 'outer', on = ['c_code', 'year']))"
   ]
  },
  {
   "cell_type": "code",
   "execution_count": 5,
   "metadata": {},
   "outputs": [],
   "source": [
    "# trade_df.head(3)"
   ]
  },
  {
   "cell_type": "code",
   "execution_count": 6,
   "metadata": {},
   "outputs": [],
   "source": [
    "part_df_3 = pd.read_csv('/Users/the_networks_of_war/data_sources/csvs/NMC_5_0-wsupplementary.csv', encoding = 'latin-1')\n",
    "\n",
    "part_df_3.rename({'milex': 'military_expenditure',\n",
    "                  'milper': 'military_personnel',\n",
    "                  'irst': 'iron_steel_production',\n",
    "                  'pec': 'prim_energy_consumption',\n",
    "                  'tpop': 'total_population',\n",
    "                  'upop': 'urban_population',\n",
    "                  'upopgrowth': 'urban_pop_growth_rate',\n",
    "                  'ccode': 'c_code',\n",
    "                  'cinc': 'cinc_score'}, axis = 1, inplace = True)\n",
    "\n",
    "# print('NMC_5_0-wsupplementary columns: \\n')\n",
    "# pprint(sorted(list(part_df_3.columns)))\n",
    "# print('\\n')\n",
    "\n",
    "part_df_3 = part_df_3.sort_values(by = 'year', ascending = True).reset_index(drop = True)\n",
    "part_df_3 = deepcopy(part_df_3[['c_code',\n",
    "                                'year',\n",
    "                                'military_expenditure',\n",
    "                                'military_personnel',\n",
    "                                'prim_energy_consumption',\n",
    "                                'iron_steel_production',\n",
    "                                'total_population',\n",
    "                                'urban_population',\n",
    "                                'cinc_score']])"
   ]
  },
  {
   "cell_type": "code",
   "execution_count": 7,
   "metadata": {},
   "outputs": [],
   "source": [
    "descriptive_df_1 = deepcopy(pd.merge(part_df_1, part_df_2, how = 'outer', on = ['c_code', 'year']))\n",
    "descriptive_df_1 = deepcopy(pd.merge(descriptive_df_1, part_df_3, how = 'outer', on = ['c_code', 'year']))\n",
    "descriptive_df_1['year'] = descriptive_df_1['year'].astype(float)"
   ]
  },
  {
   "cell_type": "code",
   "execution_count": 8,
   "metadata": {},
   "outputs": [
    {
     "name": "stdout",
     "output_type": "stream",
     "text": [
      "total rows of descriptive participant data: 16,388\n"
     ]
    }
   ],
   "source": [
    "print('total rows of descriptive participant data: {}'.format(format(len(descriptive_df_1), ',d')))\n",
    "descriptive_df_1.to_pickle('/Users/the_networks_of_war/data_sources/pickles/participant_descriptive_df.pkl')"
   ]
  },
  {
   "cell_type": "markdown",
   "metadata": {},
   "source": [
    "# Dyadic Descriptive Statistics by Year\n",
    "### Note: Applies to states/countries only.\n",
    "### This will be joined to the dyadic pairs for each war"
   ]
  },
  {
   "cell_type": "code",
   "execution_count": 9,
   "metadata": {},
   "outputs": [],
   "source": [
    "## lot's to use in this dataset so I'll start with the basics\n",
    "dy_df_1 = pd.read_csv('/Users/the_networks_of_war/data_sources/csvs/tc2018.csv', encoding = 'utf8')[['gainer', 'loser', 'year']]\n",
    "## must be dyadic (two states per row)\n",
    "dy_df_1 = deepcopy(dy_df_1[dy_df_1['loser']!=-9])\n",
    "dy_df_1.rename({'gainer': 'c_code_a',\n",
    "                'loser': 'c_code_b'}, axis = 1, inplace = True)\n",
    "## creating a binary field to represent this dataset\n",
    "## more specific fields can be added later\n",
    "dy_df_1['territory_exchange'] = 1\n",
    "dy_df_1 = deepcopy(dy_df_1[['c_code_a',\n",
    "                            'c_code_b',\n",
    "                            'year',\n",
    "                            'territory_exchange']])\n",
    "## unioning mismatching columns so each participant will get their own row\n",
    "switched_columns_list = ['c_code_a',\n",
    "                         'c_code_b']\n",
    "dy_df_1 = deepcopy(the_networks_of_war_python_functions.union_opposite_columns(dy_df_1, switched_columns_list))"
   ]
  },
  {
   "cell_type": "code",
   "execution_count": 10,
   "metadata": {},
   "outputs": [],
   "source": [
    "## contiguity dataframe for states of colonial dependencies\n",
    "dy_df_2 = pd.read_csv('/Users/the_networks_of_war/data_sources/csvs/contcold.csv', encoding = 'utf8')[['statelno', 'statehno', 'year']]\n",
    "dy_df_2.rename({'statelno': 'c_code_a',\n",
    "                'statehno': 'c_code_b',}, axis = 1, inplace = True)\n",
    "## creating a binary field to represent this dataset\n",
    "## more specific fields can be added later\n",
    "dy_df_2['colonial_contiguity'] = 1\n",
    "\n",
    "dy_df_2 = deepcopy(dy_df_2[['c_code_a',\n",
    "                            'c_code_b',\n",
    "                            'year',\n",
    "                            'colonial_contiguity']])\n",
    "## unioning mismatching columns so each participant will get their own row\n",
    "switched_columns_list = ['c_code_a',\n",
    "                         'c_code_b']\n",
    "dy_df_2 = deepcopy(the_networks_of_war_python_functions.union_opposite_columns(dy_df_2, switched_columns_list))"
   ]
  },
  {
   "cell_type": "code",
   "execution_count": 11,
   "metadata": {},
   "outputs": [],
   "source": [
    "dy_df_3 = pd.read_csv('/Users/the_networks_of_war/data_sources/csvs/contdird.csv', encoding = 'utf8')[['state1no', 'state2no', 'year']]\n",
    "dy_df_3.rename({'state1no': 'c_code_a',\n",
    "                'state2no': 'c_code_b'}, axis = 1, inplace = True)\n",
    "## creating a binary field to represent this dataset\n",
    "## more specific fields can be added later\n",
    "dy_df_3['contiguity'] = 1\n",
    "dy_df_3 = deepcopy(dy_df_3[['c_code_a',\n",
    "                            'c_code_b',\n",
    "                            'year',\n",
    "                            'contiguity']])\n",
    "## unioning mismatching columns so each participant will get their own row\n",
    "switched_columns_list = ['c_code_a',\n",
    "                         'c_code_b']\n",
    "dy_df_3 = deepcopy(the_networks_of_war_python_functions.union_opposite_columns(dy_df_3, switched_columns_list))"
   ]
  },
  {
   "cell_type": "code",
   "execution_count": 12,
   "metadata": {},
   "outputs": [],
   "source": [
    "dy_df_4 = pd.read_csv('/Users/the_networks_of_war/data_sources/csvs/alliance_v4.1_by_dyad_yearly.csv', encoding = 'utf8')[['ccode1', 'ccode2', 'year']]\n",
    "dy_df_4.rename({'ccode1': 'c_code_a',\n",
    "                'ccode2': 'c_code_b'}, axis = 1, inplace = True)\n",
    "## creating a binary field to represent this dataset\n",
    "## more specific fields can be added later\n",
    "dy_df_4['alliance'] = 1\n",
    "dy_df_4 = deepcopy(dy_df_4[['c_code_a',\n",
    "                            'c_code_b',\n",
    "                            'year',\n",
    "                            'alliance']])\n",
    "## unioning mismatching columns so each participant will get their own row\n",
    "switched_columns_list = ['c_code_a',\n",
    "                         'c_code_b']\n",
    "dy_df_4 = deepcopy(the_networks_of_war_python_functions.union_opposite_columns(dy_df_4, switched_columns_list))"
   ]
  },
  {
   "cell_type": "code",
   "execution_count": 13,
   "metadata": {},
   "outputs": [],
   "source": [
    "dy_df_5 = pd.read_csv('/Users/the_networks_of_war/data_sources/csvs/DCAD-v1.0-dyadic.csv', encoding = 'latin-1')[['ccode1', 'ccode2', 'year']]\n",
    "dy_df_5.rename({'ccode1': 'c_code_a',\n",
    "                  'ccode2': 'c_code_b'}, axis = 1, inplace = True)\n",
    "## creating a binary field to represent this dataset\n",
    "## more specific fields can be added later\n",
    "dy_df_5['defense_cooperation_agreements'] = 1\n",
    "dy_df_5 = deepcopy(dy_df_5[['c_code_a',\n",
    "                            'c_code_b',\n",
    "                            'year',\n",
    "                            'defense_cooperation_agreements']])\n",
    "## unioning mismatching columns so each participant will get their own row\n",
    "switched_columns_list = ['c_code_a',\n",
    "                         'c_code_b']\n",
    "dy_df_5 = deepcopy(the_networks_of_war_python_functions.union_opposite_columns(dy_df_5, switched_columns_list))"
   ]
  },
  {
   "cell_type": "code",
   "execution_count": 14,
   "metadata": {},
   "outputs": [],
   "source": [
    "dy_df_6 = pd.read_csv('/Users/the_networks_of_war/data_sources/csvs/dyadic_formatv3.csv', encoding = 'utf8')[['ccode1', 'ccode2', 'year']]\n",
    "dy_df_6.rename({'ccode1': 'c_code_a',\n",
    "                'ccode2': 'c_code_b'}, axis = 1, inplace = True)\n",
    "## creating a binary field to represent this dataset\n",
    "## more specific fields can be added later\n",
    "dy_df_6['inter_governmental_organizations'] = 1\n",
    "dy_df_6 = deepcopy(dy_df_6[['c_code_a',\n",
    "                            'c_code_b',\n",
    "                            'year',\n",
    "                            'inter_governmental_organizations']])\n",
    "## unioning mismatching columns so each participant will get their own row\n",
    "switched_columns_list = ['c_code_a',\n",
    "                         'c_code_b']\n",
    "dy_df_6 = deepcopy(the_networks_of_war_python_functions.union_opposite_columns(dy_df_6, switched_columns_list))"
   ]
  },
  {
   "cell_type": "code",
   "execution_count": 15,
   "metadata": {},
   "outputs": [],
   "source": [
    "## this one needs to be filled since its only 5 years\n",
    "dy_df_7 = pd.read_csv('/Users/the_networks_of_war/data_sources/csvs/Diplomatic_Exchange_2006v1.csv', encoding = 'utf8')[['ccode1', 'ccode2', 'year']]\n",
    "dy_df_7.rename({'ccode1': 'c_code_a',\n",
    "                'ccode2': 'c_code_b'}, axis = 1, inplace = True)\n",
    "## creating a binary field to represent this dataset\n",
    "## more specific fields can be added later\n",
    "dy_df_7['diplomatic_exchange'] = 1\n",
    "dy_df_7 = deepcopy(dy_df_7[['c_code_a',\n",
    "                            'c_code_b',\n",
    "                            'year',\n",
    "                            'diplomatic_exchange']])\n",
    "## unioning mismatching columns so each participant will get their own row\n",
    "switched_columns_list = ['c_code_a',\n",
    "                         'c_code_b']\n",
    "dy_df_7 = deepcopy(the_networks_of_war_python_functions.union_opposite_columns(dy_df_7, switched_columns_list))"
   ]
  },
  {
   "cell_type": "code",
   "execution_count": 16,
   "metadata": {},
   "outputs": [],
   "source": [
    "# for year in np.arange(1800, 2020):\n",
    "#     for row in dy_df_7['year']:\n",
    "#         if len(dy_df_7[dy_df_7['year']==year])== 0:\n",
    "#             temp_dyad_df = deepcopy(dy_df_7[dy_df_7['year']==year].reset_index())\n",
    "#             for i, dyad in enumerate(temp_dyad_df['year']):\n",
    "#                 dyad_df_length = deepcopy(len(dy_df_7))\n",
    "#                 dy_df_7.loc[dyad_df_length, 'year'] = year\n",
    "#                 dy_df_7.loc[dyad_df_length, 'c_code_a'] = temp_dyad_df.loc[i, 'c_code_a']\n",
    "#                 dy_df_7.loc[dyad_df_length, 'c_code_b'] = temp_dyad_df.loc[i, 'c_code_b']\n",
    "#         else:\n",
    "#             current_year = year\n",
    "            \n",
    "# dy_df_7['diplomatic_exchange'] = 1\n",
    "# print(len(dy_df_7))"
   ]
  },
  {
   "cell_type": "code",
   "execution_count": 17,
   "metadata": {},
   "outputs": [],
   "source": [
    "## this one needs to be filled since its only 5 years\n",
    "dy_df_8 = pd.read_csv('/Users/the_networks_of_war/data_sources/csvs/Dyadic_COW_4.0.csv', encoding = 'utf8')[['ccode1', 'ccode2', 'year']]\n",
    "dy_df_8.rename({'ccode1': 'c_code_a',\n",
    "                'ccode2': 'c_code_b'}, axis = 1, inplace = True)\n",
    "## creating a binary field to represent this dataset\n",
    "## more specific fields can be added later\n",
    "dy_df_8['trade_relations'] = 1\n",
    "dy_df_8 = deepcopy(dy_df_8[['c_code_a',\n",
    "                            'c_code_b',\n",
    "                            'year',\n",
    "                            'trade_relations']])\n",
    "## unioning mismatching columns so each participant will get their own row\n",
    "switched_columns_list = ['c_code_a',\n",
    "                         'c_code_b']\n",
    "dy_df_8 = deepcopy(the_networks_of_war_python_functions.union_opposite_columns(dy_df_8, switched_columns_list))"
   ]
  },
  {
   "cell_type": "code",
   "execution_count": 18,
   "metadata": {},
   "outputs": [],
   "source": [
    "# dy_df_test = pd.read_csv('/Users/the_networks_of_war/data_sources/csvs/ddrevisited_data_v1.csv', encoding = 'latin-1')"
   ]
  },
  {
   "cell_type": "code",
   "execution_count": 19,
   "metadata": {},
   "outputs": [],
   "source": [
    "descriptive_df_2 = deepcopy(pd.merge(dy_df_1, dy_df_2, how = 'outer', on = ['c_code_a', 'c_code_b', 'year']))\n",
    "descriptive_df_2 = deepcopy(pd.merge(descriptive_df_2, dy_df_3, how = 'outer', on = ['c_code_a', 'c_code_b', 'year']))\n",
    "descriptive_df_2 = deepcopy(pd.merge(descriptive_df_2, dy_df_4, how = 'outer', on = ['c_code_a', 'c_code_b', 'year']))\n",
    "descriptive_df_2 = deepcopy(pd.merge(descriptive_df_2, dy_df_5, how = 'outer', on = ['c_code_a', 'c_code_b', 'year']))\n",
    "descriptive_df_2 = deepcopy(pd.merge(descriptive_df_2, dy_df_6, how = 'outer', on = ['c_code_a', 'c_code_b', 'year']))\n",
    "descriptive_df_2 = deepcopy(pd.merge(descriptive_df_2, dy_df_7, how = 'outer', on = ['c_code_a', 'c_code_b', 'year']))\n",
    "descriptive_df_2 = deepcopy(pd.merge(descriptive_df_2, dy_df_8, how = 'outer', on = ['c_code_a', 'c_code_b', 'year']))\n",
    "descriptive_df_2['year'] = descriptive_df_2['year'].astype(float)"
   ]
  },
  {
   "cell_type": "code",
   "execution_count": 20,
   "metadata": {},
   "outputs": [
    {
     "name": "stdout",
     "output_type": "stream",
     "text": [
      "total rows of descriptive dyadic data: 3,536,632\n"
     ]
    }
   ],
   "source": [
    "print('total rows of descriptive dyadic data: {}'.format(format(len(descriptive_df_2), ',d')))\n",
    "descriptive_df_2.to_pickle('/Users/the_networks_of_war/data_sources/pickles/dyadic_descriptive_df.pkl')"
   ]
  },
  {
   "cell_type": "code",
   "execution_count": null,
   "metadata": {},
   "outputs": [],
   "source": []
  }
 ],
 "metadata": {
  "kernelspec": {
   "display_name": "Python 3",
   "language": "python",
   "name": "python3"
  },
  "language_info": {
   "codemirror_mode": {
    "name": "ipython",
    "version": 3
   },
   "file_extension": ".py",
   "mimetype": "text/x-python",
   "name": "python",
   "nbconvert_exporter": "python",
   "pygments_lexer": "ipython3",
   "version": "3.6.4"
  }
 },
 "nbformat": 4,
 "nbformat_minor": 2
}
