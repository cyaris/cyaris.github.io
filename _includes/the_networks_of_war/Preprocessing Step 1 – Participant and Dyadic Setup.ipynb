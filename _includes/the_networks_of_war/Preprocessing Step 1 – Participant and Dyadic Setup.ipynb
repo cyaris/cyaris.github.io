{
 "cells": [
  {
   "cell_type": "code",
   "execution_count": 1,
   "metadata": {},
   "outputs": [],
   "source": [
    "import pandas as pd\n",
    "import numpy as np\n",
    "from copy import deepcopy\n",
    "from traceback import format_exc\n",
    "# from pprint import pprint\n",
    "import the_networks_of_war_python_functions"
   ]
  },
  {
   "cell_type": "code",
   "execution_count": 2,
   "metadata": {},
   "outputs": [],
   "source": [
    "pd.set_option('display.max_columns', None)\n",
    "pd.set_option('display.float_format', lambda x: '%.5f' % x)"
   ]
  },
  {
   "cell_type": "code",
   "execution_count": 3,
   "metadata": {},
   "outputs": [],
   "source": [
    "csv_directory = '/Users/the_networks_of_war/data_sources/csvs/'"
   ]
  },
  {
   "cell_type": "markdown",
   "metadata": {},
   "source": [
    "## Setup for Identifying Countries by Code\n",
    "### Note: This is helpful for when different names are used for the same country."
   ]
  },
  {
   "cell_type": "code",
   "execution_count": 4,
   "metadata": {},
   "outputs": [
    {
     "name": "stdout",
     "output_type": "stream",
     "text": [
      "Total Country Codes: 217\n"
     ]
    }
   ],
   "source": [
    "c_code_dic = the_networks_of_war_python_functions.define_c_code_dic()"
   ]
  },
  {
   "cell_type": "markdown",
   "metadata": {},
   "source": [
    "## Participant DataFrames\n",
    "### Note: Only inter-state wars have different source files for dyadic and participant data."
   ]
  },
  {
   "cell_type": "markdown",
   "metadata": {},
   "source": [
    "### Inter-State Wars"
   ]
  },
  {
   "cell_type": "code",
   "execution_count": 5,
   "metadata": {},
   "outputs": [
    {
     "name": "stdout",
     "output_type": "stream",
     "text": [
      "Total Rows With Both Dates Found: 337\n",
      "Total Rows With At Least One Date Not Found: 0\n",
      "Total Estimated Start Dates: 0\n",
      "Total Estimated End Dates: 0\n",
      "\n"
     ]
    }
   ],
   "source": [
    "part_df_1 = pd.read_csv(csv_directory + 'Inter-StateWarData_v4.0.csv', encoding='latin-1')\n",
    "part_df_1_renaming = {'WarNum': 'war_num',\n",
    "                      'WarName': 'war_name',\n",
    "                      'WarType': 'war_type',\n",
    "                      'ccode': 'c_code',\n",
    "                      'StateName': 'participant',\n",
    "                      'Side': 'side',\n",
    "                      'BatDeath': 'battle_deaths',\n",
    "                      'StartYear1': 'start_year',\n",
    "                      'StartMonth1': 'start_month',\n",
    "                      'StartDay1': 'start_day',\n",
    "                      'EndYear1': 'end_year',\n",
    "                      'EndMonth1': 'end_month',\n",
    "                      'EndDay1': 'end_day'}\n",
    "part_df_1.rename(part_df_1_renaming, axis=1, inplace=True)\n",
    "part_df_1 = deepcopy(part_df_1[list(part_df_1_renaming.values())])\n",
    "part_df_1 = deepcopy(the_networks_of_war_python_functions.start_and_end_dates(part_df_1))"
   ]
  },
  {
   "cell_type": "code",
   "execution_count": 6,
   "metadata": {},
   "outputs": [],
   "source": [
    "aggregations = {\n",
    "    ## accounting for all cases where countries have more than one side\n",
    "    ## they will become side 3\n",
    "    'side': 'sum',\n",
    "    'battle_deaths': 'sum',\n",
    "    'start_date': 'min',\n",
    "    'start_year': 'max',\n",
    "    'end_date': 'max',\n",
    "    'end_year': 'max',\n",
    "    'days_at_war': 'max',\n",
    "    ## aggregation for estimation fields.\n",
    "    ## this could fail for aggregations over multiple dates\n",
    "    'start_date_estimated': 'max',\n",
    "    'end_date_estimated': 'max',\n",
    "    'ongoing_participation': 'max'\n",
    "    }\n",
    "part_df_1 = deepcopy(part_df_1.groupby(['war_num',\n",
    "                                        'war_name',\n",
    "                                        'war_type',\n",
    "                                        'c_code',\n",
    "                                        'participant']).agg(aggregations).reset_index())"
   ]
  },
  {
   "cell_type": "code",
   "execution_count": 7,
   "metadata": {},
   "outputs": [
    {
     "name": "stdout",
     "output_type": "stream",
     "text": [
      "Manually changing USSR to side 3 for WWII based on dyadic data.\n",
      "Manually changing Finland to side 3 for WWII based on dyadic data.\n"
     ]
    }
   ],
   "source": [
    "print('Manually changing USSR to side 3 for WWII based on dyadic data.')\n",
    "## manually changing USSR to side 3 for WWII because they invaded Poland before fighting against Germany.\n",
    "part_df_1.loc[(part_df_1['war_num']==139) & (part_df_1['c_code']==365), 'side'] = 3\n",
    "\n",
    "print('Manually changing Finland to side 3 for WWII based on dyadic data.')\n",
    "## manually changing Finald to side 3 for WWII because they fought with Germany before Fighting against Germany.\n",
    "part_df_1.loc[(part_df_1['war_num']==139) & (part_df_1['c_code']==375), 'side'] = 3"
   ]
  },
  {
   "cell_type": "markdown",
   "metadata": {},
   "source": [
    "### Intra-State Wars\n",
    "#### Using the same file to create the participant dataframe and dyadic dataframe."
   ]
  },
  {
   "cell_type": "code",
   "execution_count": 8,
   "metadata": {},
   "outputs": [
    {
     "name": "stdout",
     "output_type": "stream",
     "text": [
      "Total Rows With Both Dates Found: 569\n",
      "Total Rows With At Least One Date Not Found: 24\n",
      "Total Estimated Start Dates: 80\n",
      "Total Estimated End Dates: 70\n",
      "\n"
     ]
    }
   ],
   "source": [
    "## creating new dataframe to union to interstate wars part_df\n",
    "## note: the code below is very intefficient because something is off with integer formatting in this file.\n",
    "## this did not occur in the interstate war file.\n",
    "dyad_df_2 = pd.read_csv(csv_directory + 'INTRA-STATE_State_participants v5.1.csv', encoding='latin-1')\n",
    "## either one of these a or b may not actually be states.\n",
    "## this wil be fixed later on\n",
    "dyad_df_2_renaming = {'WarNum': 'war_num',\n",
    "                      'WarName': 'war_name',\n",
    "                      'WarType': 'war_type',\n",
    "                      'CcodeA': 'c_code_a',\n",
    "                      'CcodeB': 'c_code_b',\n",
    "                      'SideA': 'participant_a',\n",
    "                      'SideB': 'participant_b',\n",
    "                      'StartDy1': 'start_day',\n",
    "                      'StartMo1': 'start_month',\n",
    "                      'StartYr1': 'start_year',\n",
    "                      'EndDy1': 'end_day',\n",
    "                      'EndMo1': 'end_month',\n",
    "                      'EndYr1': 'end_year',\n",
    "                      ## unsure if these are the same as battle deaths, or include civilians\n",
    "                      'Deaths A': 'battle_deaths_a',\n",
    "                      'Deaths B': 'battle_deaths_b',\n",
    "                      ## according to documentation, this includes both sides\n",
    "                      'TotalBDeaths': 'total_deaths_both_sides',\n",
    "                      'WDuratDays': 'total_days_in_war',\n",
    "                      'SideAPeakTotForces': 'peak_forces_available_a',\n",
    "                      'SideBPeakTotForces': 'peak_forces_available_b',\n",
    "                      'SideAPeak TheatForces': 'peak_battle_forces_a',\n",
    "                      'SideBPeakTheatForces': 'peak_battle_forces_b',\n",
    "                      'TransFrom': 'lagging_war',\n",
    "                      'TransTo': 'leading_war'}\n",
    "dyad_df_2.rename(dyad_df_2_renaming, axis=1, inplace = True)\n",
    "dyad_df_2 = deepcopy(dyad_df_2[list(dyad_df_2_renaming.values())])\n",
    "\n",
    "## fixing for leap year issue\n",
    "dyad_df_2.loc[(dyad_df_2['start_day']==29) & (dyad_df_2['start_month']==2) & (dyad_df_2['start_year']==1894), 'start_day'] = 28\n",
    "\n",
    "## adjusting for wrong start year\n",
    "## this needs to be automated (check for  'of ___' in war_name where start_year <> ___)\n",
    "dyad_df_2.loc[dyad_df_2['war_num']==976, 'start_year'] = 2011\n",
    "\n",
    "## two syrian arab spring wars starting on the same date.\n",
    "## I believe one of these is a data entry error.\n",
    "## combining both war_nums into one war\n",
    "dyad_df_2.loc[dyad_df_2['war_num']==977, 'war_num'] = 979\n",
    "\n",
    "format_part_df_return = deepcopy(the_networks_of_war_python_functions.format_part_df_from_dyadic_data(dyad_df_2))\n",
    "part_df_2 = deepcopy(format_part_df_return[0])\n",
    "dyad_df_2 = deepcopy(format_part_df_return[1])"
   ]
  },
  {
   "cell_type": "markdown",
   "metadata": {},
   "source": [
    "### Extra State Wars\n",
    "#### Using the same file to create the participant dataframe and dyadic dataframe."
   ]
  },
  {
   "cell_type": "code",
   "execution_count": 9,
   "metadata": {},
   "outputs": [
    {
     "name": "stdout",
     "output_type": "stream",
     "text": [
      "Total Rows With Both Dates Found: 185\n",
      "Total Rows With At Least One Date Not Found: 13\n",
      "Total Estimated Start Dates: 46\n",
      "Total Estimated End Dates: 38\n",
      "\n"
     ]
    }
   ],
   "source": [
    "## creating new dataframe to union to extra-state wars part_df\n",
    "## inefficient pipeline from above was used to accomodate integer formatting\n",
    "## unsure if that problem occurs for this one too though\n",
    "dyad_df_3 = pd.read_csv(csv_directory + 'Extra-StateWarData_v4.0.csv', encoding='latin-1')\n",
    "## either one of these a or b may not actually be states.\n",
    "## this wil be fixed later on\n",
    "dyad_df_3_renaming = {'WarNum': 'war_num',\n",
    "                      'WarName': 'war_name',\n",
    "                      'WarType': 'war_type',\n",
    "                      'ccode1': 'c_code_a',\n",
    "                      'ccode2': 'c_code_b',\n",
    "                      'SideA': 'participant_a',\n",
    "                      'SideB': 'participant_b',\n",
    "                      'StartDay1': 'start_day',\n",
    "                      'StartMonth1': 'start_month',\n",
    "                      'StartYear1': 'start_year',\n",
    "                      'EndDay1': 'end_day',\n",
    "                      'EndMonth1': 'end_month',\n",
    "                      'EndYear1': 'end_year',\n",
    "                      ## unsure if these are the same as battle deaths, or include civilians\n",
    "                      'BatDeath': 'battle_deaths_a',\n",
    "                      'NonStateDeaths': 'battle_deaths_b'}\n",
    "dyad_df_3.rename(dyad_df_3_renaming, axis=1, inplace=True)\n",
    "dyad_df_3 = deepcopy(dyad_df_3[list(dyad_df_3_renaming.values())])\n",
    "\n",
    "format_part_df_return = deepcopy(the_networks_of_war_python_functions.format_part_df_from_dyadic_data(dyad_df_3))\n",
    "part_df_3 = deepcopy(format_part_df_return[0])\n",
    "dyad_df_3 = deepcopy(format_part_df_return[1])"
   ]
  },
  {
   "cell_type": "markdown",
   "metadata": {},
   "source": [
    "### Combining Participant Sources"
   ]
  },
  {
   "cell_type": "code",
   "execution_count": 10,
   "metadata": {},
   "outputs": [
    {
     "name": "stdout",
     "output_type": "stream",
     "text": [
      "Adjusting and consolidating participant names for part_df.\n"
     ]
    },
    {
     "ename": "NameError",
     "evalue": "name 'part_df' is not defined",
     "output_type": "error",
     "traceback": [
      "\u001b[0;31m---------------------------------------------------------------------------\u001b[0m",
      "\u001b[0;31mNameError\u001b[0m                                 Traceback (most recent call last)",
      "\u001b[0;32m<ipython-input-10-5f1a8261a549>\u001b[0m in \u001b[0;36m<module>\u001b[0;34m\u001b[0m\n\u001b[1;32m      1\u001b[0m \u001b[0mprint\u001b[0m\u001b[0;34m(\u001b[0m\u001b[0;34m'Adjusting and consolidating participant names for part_df.'\u001b[0m\u001b[0;34m)\u001b[0m\u001b[0;34m\u001b[0m\u001b[0m\n\u001b[1;32m      2\u001b[0m \u001b[0mtotal_adjustments\u001b[0m \u001b[0;34m=\u001b[0m \u001b[0;36m1\u001b[0m\u001b[0;34m\u001b[0m\u001b[0m\n\u001b[0;32m----> 3\u001b[0;31m \u001b[0mpart_df\u001b[0m\u001b[0;34m.\u001b[0m\u001b[0mloc\u001b[0m\u001b[0;34m[\u001b[0m\u001b[0mpart_df\u001b[0m\u001b[0;34m[\u001b[0m\u001b[0;34m'participant'\u001b[0m\u001b[0;34m]\u001b[0m\u001b[0;34m==\u001b[0m\u001b[0;34m'United States of America'\u001b[0m\u001b[0;34m,\u001b[0m \u001b[0;34m'participant'\u001b[0m\u001b[0;34m]\u001b[0m \u001b[0;34m=\u001b[0m \u001b[0;34m'United States'\u001b[0m\u001b[0;34m\u001b[0m\u001b[0m\n\u001b[0m\u001b[1;32m      4\u001b[0m \u001b[0mtotal_adjustments\u001b[0m\u001b[0;34m+=\u001b[0m\u001b[0;36m1\u001b[0m\u001b[0;34m\u001b[0m\u001b[0m\n\u001b[1;32m      5\u001b[0m \u001b[0mpart_df\u001b[0m\u001b[0;34m.\u001b[0m\u001b[0mloc\u001b[0m\u001b[0;34m[\u001b[0m\u001b[0mpart_df\u001b[0m\u001b[0;34m[\u001b[0m\u001b[0;34m'participant'\u001b[0m\u001b[0;34m]\u001b[0m\u001b[0;34m==\u001b[0m\u001b[0;34m'Baron von Ungern-Sternberg\\x92s White army'\u001b[0m\u001b[0;34m,\u001b[0m \u001b[0;34m'participant'\u001b[0m\u001b[0;34m]\u001b[0m \u001b[0;34m=\u001b[0m \u001b[0;34m'Baron von Ungern-Sternberg\\'s White army'\u001b[0m\u001b[0;34m\u001b[0m\u001b[0m\n",
      "\u001b[0;31mNameError\u001b[0m: name 'part_df' is not defined"
     ]
    }
   ],
   "source": [
    "print('Adjusting and consolidating participant names for part_df.')\n",
    "total_adjustments = 1\n",
    "part_df.loc[part_df['participant']=='United States of America', 'participant'] = 'United States'\n",
    "total_adjustments+=1\n",
    "part_df.loc[part_df['participant']=='Baron von Ungern-Sternberg\\x92s White army', 'participant'] = 'Baron von Ungern-Sternberg\\'s White army'\n",
    "total_adjustments+=1\n",
    "part_df.loc[part_df['participant']==' Janissaries', 'participant'] = 'Janissaries'\n",
    "total_adjustments+=1\n",
    "part_df.loc[part_df['participant']=='Turkey/Ottoman Empire/Egypt', 'participant'] = 'Turkey, Ottoman Empire & Egypt'\n",
    "for i, participant in enumerate(part_df['participant']):\n",
    "    if  ' and ' in participant:\n",
    "        part_df.loc[i, 'participant'] = part_df.loc[i, 'participant'].replace(' and ', ' & ')\n",
    "        total_adjustments+=1\n",
    "    if  ' rebels' in participant:\n",
    "        part_df.loc[i, 'participant'] = part_df.loc[i, 'participant'].replace(' rebels', ' Rebels')\n",
    "        total_adjustments+=1\n",
    "    if  ' tribe' in participant:\n",
    "        part_df.loc[i, 'participant'] = part_df.loc[i, 'participant'].replace(' tribe', ' Tribe')\n",
    "        total_adjustments+=1\n",
    "        \n",
    "print('Total Participant Name Adjustments: {}'.format(format(total_adjustments, ',d')))"
   ]
  },
  {
   "cell_type": "code",
   "execution_count": null,
   "metadata": {},
   "outputs": [],
   "source": [
    "print('Displaying all participant names.\\n')\n",
    "sorted(list(part_df['participant'].unique()))"
   ]
  },
  {
   "cell_type": "code",
   "execution_count": null,
   "metadata": {
    "code_folding": []
   },
   "outputs": [],
   "source": [
    "part_df = deepcopy(pd.concat([part_df_1, part_df_2], sort=True, ignore_index=True).reset_index(drop=True))\n",
    "part_df = deepcopy(pd.concat([part_df, part_df_3], sort=True, ignore_index=True).reset_index(drop=True))\n",
    "\n",
    "## one more check whether years were inputted correctly\n",
    "part_df = deepcopy(the_networks_of_war_python_functions.final_date_formatting(part_df))\n",
    "\n",
    "## keeping only essential columns\n",
    "part_df = deepcopy(part_df[['war_num',\n",
    "                            'war_name',\n",
    "                            'war_type',\n",
    "                            'c_code',\n",
    "                            'participant',\n",
    "                            'side',\n",
    "                            'battle_deaths',\n",
    "                            'start_date',\n",
    "                            'start_year',\n",
    "                            'end_date',\n",
    "                            'end_year',\n",
    "                            'days_at_war',\n",
    "                            'lagging_war',\n",
    "                            'leading_war',\n",
    "                            'ongoing_participation',\n",
    "                            'total_deaths_both_sides',\n",
    "                            'peak_forces_available',\n",
    "                            'peak_battle_forces',\n",
    "                            'start_date_estimated',\n",
    "                            'end_date_estimated']])\n",
    "\n",
    "print('Total War Participants After Merging All War Types: {}'.format(format(len(part_df), ',d')))"
   ]
  },
  {
   "cell_type": "code",
   "execution_count": null,
   "metadata": {},
   "outputs": [],
   "source": [
    "part_df.rename({'war_type': 'war_type_code'}, axis=1, inplace=True)\n",
    "\n",
    "## two lists, one for war_types and one for war_sub_types.\n",
    "## the indexes for each must line up.\n",
    "war_types = ['Inter-State War',\n",
    "             'Extra-State War',\n",
    "             'Extra-State War',\n",
    "             'Intra-State War',\n",
    "             'Intra-State War',\n",
    "             'Intra-State War',\n",
    "             'Intra-State War',\n",
    "             'Non-State War',\n",
    "             'Non-State War']\n",
    "\n",
    "war_sub_types = ['',\n",
    "                 'Colonial (conflict with colony)',\n",
    "                 'Imperial (state vs non-state)',\n",
    "                 'Civil War (for central control)',\n",
    "                 'Civil War (over local issues)',\n",
    "                 'Regional/Internal',\n",
    "                 'Intercommunal',\n",
    "                 'In Non-State Territory',\n",
    "                 'Across State Borders']\n",
    "\n",
    "for i, war_type in enumerate(war_types):\n",
    "    ## specifying the subtypes of each war based on the documentation\n",
    "    part_df.loc[part_df['war_type_code']==i+1, 'war_type'] = war_types[i]\n",
    "    part_df.loc[part_df['war_type_code']==i+1, 'war_sub_type'] = war_sub_types[i]"
   ]
  },
  {
   "cell_type": "code",
   "execution_count": null,
   "metadata": {},
   "outputs": [],
   "source": [
    "remaining_participant_fields = list(part_df.drop(['war_num',\n",
    "                                                  'war_name',\n",
    "                                                  'war_type_code',\n",
    "                                                  'war_type',\n",
    "                                                  'war_sub_type',\n",
    "                                                  'c_code',\n",
    "                                                  'participant',\n",
    "                                                  'side',\n",
    "                                                  'start_year',\n",
    "                                                  'end_year',\n",
    "                                                  'start_date',\n",
    "                                                  'end_date',\n",
    "                                                  'days_at_war',\n",
    "                                                  'start_date_estimated',\n",
    "                                                  'end_date_estimated'], axis=1).columns)\n",
    "## filling in non-applicable values with None\n",
    "part_df = deepcopy(the_networks_of_war_python_functions.remaining_participant_null_values(part_df, remaining_participant_fields))"
   ]
  },
  {
   "cell_type": "markdown",
   "metadata": {},
   "source": [
    "### Creating Dictionary to Lookup Wars Individually"
   ]
  },
  {
   "cell_type": "code",
   "execution_count": null,
   "metadata": {},
   "outputs": [],
   "source": [
    "## creating war_dic that will be used to fill in missing values\n",
    "war_dic = the_networks_of_war_python_functions.dictionary_from_field(part_df, 'war_num', 'war_name')"
   ]
  },
  {
   "cell_type": "markdown",
   "metadata": {},
   "source": [
    "## Creating Inter-State Dyadic DataFrame"
   ]
  },
  {
   "cell_type": "markdown",
   "metadata": {},
   "source": [
    "### Note: The other dyadic dataframes have already been defined above."
   ]
  },
  {
   "cell_type": "markdown",
   "metadata": {},
   "source": [
    "### Reading in the data and unioning each participant so they both appear as a and b"
   ]
  },
  {
   "cell_type": "code",
   "execution_count": null,
   "metadata": {},
   "outputs": [],
   "source": [
    "## battle deaths and start/end dates are in this file too, but it's more confusing than the part_df.\n",
    "## this will just be used to get the combinations of countries directly at war with each other.\n",
    "dyad_df_1 = pd.read_csv(csv_directory + 'directed_dyadic_war.csv', encoding='latin-1')\n",
    "\n",
    "## including columns that need to be included later on (that don't need name changes)\n",
    "dyad_df_1_renaming = {'warnum': 'war_num',\n",
    "                      'statea': 'c_code_a',\n",
    "                      'stateb': 'c_code_b',\n",
    "                      'batdtha': 'battle_deaths_a',\n",
    "                      'batdthb': 'battle_deaths_b',\n",
    "                      'batdths': 'total_battle_deaths',\n",
    "                      'year': 'year',\n",
    "                      'disno': 'disno'}\n",
    "\n",
    "dyad_df_1.rename(dyad_df_1_renaming, axis=1, inplace = True)\n",
    "dyad_df_1 = deepcopy(dyad_df_1[list(dyad_df_1_renaming.values())])\n",
    "\n",
    "for i, c_code_a in enumerate(dyad_df_1['c_code_a']):\n",
    "    dyad_df_1.loc[i, 'participant_a'] = c_code_dic[c_code_a]\n",
    "    dyad_df_1.loc[i, 'participant_b'] = c_code_dic[dyad_df_1.loc[i, 'c_code_b']] \n",
    "    \n",
    "dyad_df_1 = deepcopy(the_networks_of_war_python_functions.union_opposite_columns(dyad_df_1))"
   ]
  },
  {
   "cell_type": "code",
   "execution_count": null,
   "metadata": {},
   "outputs": [],
   "source": [
    "# # ## fixing data entry error\n",
    "# dyad_df.loc[dyad_df['war_num']==106, 'war_end_year'] = 1918"
   ]
  },
  {
   "cell_type": "markdown",
   "metadata": {},
   "source": [
    "### Checking for any missing dyads that can be extracted from MID data\n",
    "### Adding in Dyads (Not Included) Marked as War==1 in MID Data"
   ]
  },
  {
   "cell_type": "code",
   "execution_count": null,
   "metadata": {},
   "outputs": [],
   "source": [
    "mid_df = pd.read_csv(csv_directory + 'dyadic MIDs 3.1.csv', encoding='latin-1')\n",
    "## only including war conflicts\n",
    "mid_df = deepcopy(mid_df[mid_df['war']==1])\n",
    "mid_df.rename({'statea': 'c_code_a',\n",
    "               'stateb': 'c_code_b'}, axis=1, inplace=True)\n",
    "mid_df = deepcopy(mid_df[['c_code_a',\n",
    "                          'c_code_b',\n",
    "                          'year']])\n",
    "mid_df = deepcopy(the_networks_of_war_python_functions.union_opposite_columns(mid_df))\n",
    "dyad_df_1 = deepcopy(pd.merge(dyad_df_1, mid_df, how='outer', on=['c_code_a', 'c_code_b', 'year']))"
   ]
  },
  {
   "cell_type": "code",
   "execution_count": null,
   "metadata": {},
   "outputs": [],
   "source": [
    "## these have been manually reviewed to all be WWII dyads\n",
    "total_dyads_added = deepcopy(len(dyad_df_1[dyad_df_1['war_num'].isnull()]))\n",
    "\n",
    "for i, war in enumerate(dyad_df_1['war_num']):\n",
    "    if str(dyad_df_1.loc[i, 'war_num'])=='nan':\n",
    "        ## these have been manually reviewed to all be WWII dyads\n",
    "        dyad_df_1.loc[i, 'war_num'] = 139\n",
    "        dyad_df_1.loc[i, 'participant_a'] = c_code_dic[dyad_df_1.loc[i, 'c_code_a']]\n",
    "        dyad_df_1.loc[i, 'participant_b'] = c_code_dic[dyad_df_1.loc[i, 'c_code_b']]\n",
    "\n",
    "## should be 8\n",
    "if total_dyads_added!=8:\n",
    "    raise Exception('There are usually 8 MIDs added here.')\n",
    "    \n",
    "print('Total Dyads Added From MIDs: {}'.format(format(total_dyads_added, ',d')))\n",
    "print('Note: These have all been manually reviewed to be WWII dyads.')"
   ]
  },
  {
   "cell_type": "code",
   "execution_count": null,
   "metadata": {},
   "outputs": [],
   "source": [
    "dyad_df_1.tail(total_dyads_added)"
   ]
  },
  {
   "cell_type": "markdown",
   "metadata": {},
   "source": [
    "## Combining Dyadic Sources\n",
    "#### Second and third dyadic sources are defined above during processing for participant dataframes."
   ]
  },
  {
   "cell_type": "code",
   "execution_count": null,
   "metadata": {},
   "outputs": [],
   "source": [
    "dyad_df = deepcopy(pd.concat([dyad_df_1, dyad_df_2], sort=True, ignore_index=True).reset_index(drop=True))\n",
    "dyad_df = deepcopy(pd.concat([dyad_df, dyad_df_3], sort=True, ignore_index=True).reset_index(drop=True))\n",
    "\n",
    "## saving this for process below\n",
    "dyad_df_for_missing_values = deepcopy(dyad_df)\n",
    "\n",
    "## dropping all columns that were only needed for adding missing values\n",
    "dyad_df.drop(['disno',\n",
    "              'battle_deaths_a',\n",
    "              'battle_deaths_b',\n",
    "              'total_battle_deaths'], axis=1, inplace=True)\n",
    "\n",
    "## removing any duplicates that were present in the three dyadic sources\n",
    "dyad_df.drop_duplicates(subset=list(dyad_df.columns), keep='first', inplace=True)\n",
    "dyad_df = deepcopy(dyad_df.reset_index(drop=True))\n",
    "\n",
    "print('Total Unique Dyads After Merging All War Types: {}'.format(format(int(len(dyad_df)/2), ',d')))"
   ]
  },
  {
   "cell_type": "markdown",
   "metadata": {},
   "source": [
    "## Final Data Adjustments"
   ]
  },
  {
   "cell_type": "markdown",
   "metadata": {},
   "source": [
    "## Addressing Missing Values from both Participant and Dyadic Data"
   ]
  },
  {
   "cell_type": "markdown",
   "metadata": {},
   "source": [
    "### Adding in Missing Dyads for Wars with Only One Possible Adverary"
   ]
  },
  {
   "cell_type": "code",
   "execution_count": null,
   "metadata": {},
   "outputs": [],
   "source": [
    "## need to figure out a way to add dyadic data when it's missing.\n",
    "## these are clear cases where it should be added because one side on the war is only one country.\n",
    "## or, both sides are only one country\n",
    "## it'll be trickier when each side isn't just one country.\n",
    "## that will lead to a floating noad that isn't grounded in the network analysis graph\n",
    "\n",
    "total_dyads = deepcopy(len(dyad_df))\n",
    "\n",
    "for war_num in list(part_df['war_num'].unique()):\n",
    "    \n",
    "    part_df_copy = deepcopy(part_df[part_df['war_num']==war_num].reset_index(drop=True))\n",
    "    total_side_1 = len(list(part_df_copy[part_df_copy['side']==1]['participant'].unique()))\n",
    "    total_side_2 = len(list(part_df_copy[part_df_copy['side']==2]['participant'].unique()))\n",
    "    ## non-state only\n",
    "    total_side_1_non_state = len(list(part_df_copy[(part_df_copy['side']==1) & (part_df_copy['c_code']==-8)]['participant'].unique()))\n",
    "    total_side_2_non_state = len(list(part_df_copy[(part_df_copy['side']==2) & (part_df_copy['c_code']==-8)]['participant'].unique()))\n",
    "    \n",
    "    if total_side_1==1:\n",
    "        dyad_df = deepcopy(the_networks_of_war_python_functions.add_missing_dyads(part_df_copy, dyad_df, war_num, 1, 'all_participants'))\n",
    "    elif total_side_2==1:\n",
    "        dyad_df = deepcopy(the_networks_of_war_python_functions.add_missing_dyads(part_df_copy, dyad_df, war_num, 2, 'all_participants'))\n",
    "    \n",
    "    ## if the above processes fail, at the very least we can link all opposing parties to the non-state participant on the other side\n",
    "    ## if there is only on non-state participant on the other side, we know that all opposing forces fought against them\n",
    "    ## the thought here is that if there is only one non-state participant on a particular side, we can assume all members of the other side fought against them because this isn't an inter-state war\n",
    "    elif total_side_1_non_state==1:\n",
    "        dyad_df = deepcopy(the_networks_of_war_python_functions.add_missing_dyads(part_df_copy, dyad_df, war_num, 1, 'non-state'))\n",
    "    elif total_side_2_non_state==1:\n",
    "        dyad_df = deepcopy(the_networks_of_war_python_functions.add_missing_dyads(part_df_copy, dyad_df, war_num, 2, 'non-state'))\n",
    "    else:\n",
    "        pass\n",
    "\n",
    "dyads_added = deepcopy(len(dyad_df) - total_dyads)\n",
    "print('Checking for floating participants with only one possible adversary, or one definite adversary.\\n')\n",
    "print('Total Dyads Added Overall: {}'.format(format(dyads_added, ',d')))\n",
    "print('Total Particpants with Null Start Years: {}'.format(len(part_df[part_df['start_year'].isnull()])))\n",
    "print('Total Particpants with Null End Years: {}'.format(len(part_df[part_df['end_year'].isnull()])))\n",
    "print('Total Dyads with Null Years: {}'.format(len(dyad_df[dyad_df['year'].isnull()])))\n",
    "\n",
    "total_dyads = deepcopy(len(dyad_df))\n",
    "## unioning to obtain all combinations of dyads that were added\n",
    "dyad_df = deepcopy(the_networks_of_war_python_functions.union_opposite_columns(dyad_df))\n",
    "dyads_added = deepcopy(len(dyad_df) - total_dyads)\n",
    "print('Total Dyads Unioned From Opposite Columns: {}'.format(format(dyads_added, ',d')))"
   ]
  },
  {
   "cell_type": "markdown",
   "metadata": {},
   "source": [
    "### Adding in Missing Participants that Appear in Dyadic Data for War"
   ]
  },
  {
   "cell_type": "code",
   "execution_count": null,
   "metadata": {
    "code_folding": [],
    "scrolled": false
   },
   "outputs": [],
   "source": [
    "print('Participants Added from Dyadic Data:\\n')\n",
    "war_list = list(dyad_df['war_num'].unique())\n",
    "\n",
    "## filling in values below using MID data\n",
    "mid_df = pd.read_csv(csv_directory + 'dyadic MIDs 3.1.csv', encoding='latin-1')\n",
    "mid_df.rename({'statea': 'c_code_a',\n",
    "               'stateb': 'c_code_b',\n",
    "               'namea': 'participant_a',\n",
    "               'nameb': 'participant_b'}, axis=1, inplace=True)\n",
    "\n",
    "## giving this to the opposite side of the participant they fought against in the war (grabs first record)\n",
    "## troublesome if they swithced sides but this would be very rare\n",
    "opposing_side_dic = {1: 2,\n",
    "                     2: 1,\n",
    "                     3: 3}\n",
    "\n",
    "original_part_df_length = deepcopy(len(part_df))\n",
    "## the following checks for missing data across participant names and c_codes\n",
    "## this is only possible (at the moment) for participants with c_codes, because the rest comes from dyadic data\n",
    "for war_num in war_list:\n",
    "\n",
    "    part_df_copy = deepcopy(part_df[part_df['war_num']==war_num].reset_index(drop=True))\n",
    "    participant_list = list(part_df_copy['c_code'])\n",
    "    \n",
    "    dyad_df_copy = deepcopy(dyad_df[dyad_df['war_num']==war_num].reset_index(drop=True))\n",
    "    dyad_list = list(set(list(dyad_df_copy['c_code_a']) + list(dyad_df_copy['c_code_b'])))\n",
    "    \n",
    "    try:\n",
    "        dyad_list.remove(-8)\n",
    "    except:\n",
    "        pass\n",
    "    for participant in dyad_list:\n",
    "        if participant not in participant_list:\n",
    "            \n",
    "            war_num = part_df_copy['war_num'].values[0]\n",
    "\n",
    "            print(str(war_num)[:-2] + ', ' + war_dic[war_num] + ': ' + str(int(participant)) + ', ' + c_code_dic[participant])\n",
    "            \n",
    "            ## this will overwrite the dyad_df_copy dataframe made just a few lines earlier.\n",
    "            dyad_df_copy = deepcopy(dyad_df_for_missing_values[(dyad_df_for_missing_values['war_num']==war_num) & ((dyad_df_for_missing_values['c_code_a']==participant) | (dyad_df_for_missing_values['c_code_b']==participant))].reset_index(drop=True))\n",
    "            dispute_numbers = list(dyad_df_copy['disno'].unique())\n",
    "            dispute_number = dispute_numbers[0]\n",
    "            \n",
    "            ## should always be 1\n",
    "            if len(dispute_numbers) > 1:\n",
    "                print('Missing participant has more than 1 dispute.')\n",
    "                print('Logic will need to be adjusted.')\n",
    "                print('Total Disputes for Missing Participant: {}'.format(len(dispute_numbers)))\n",
    "            \n",
    "            mid_df_copy = deepcopy(mid_df[(mid_df['disno']==dispute_number) & ((mid_df['c_code_a']==participant) | (mid_df['c_code_b']==participant))].reset_index(drop=True))\n",
    "            mid_df_copy.rename({'strtday': 'start_day',\n",
    "                              'strtmnth': 'start_month',\n",
    "                              'strtyr': 'start_year',\n",
    "                              'endday': 'end_day',\n",
    "                              'endmnth': 'end_month',\n",
    "                              'endyear': 'end_year',\n",
    "                             }, axis=1, inplace = True)\n",
    "            mid_df_copy['war_num'] = war_num\n",
    "            mid_df_copy = deepcopy(the_networks_of_war_python_functions.start_and_end_dates(mid_df_copy))\n",
    "            aggregations = {\n",
    "                'start_date': 'min',\n",
    "                'end_date': 'max',\n",
    "                'days_at_war': 'max',\n",
    "                ## aggregation for estimation fields.\n",
    "                ## this could fail for aggregations over multiple dates\n",
    "                'start_date_estimated': 'max',\n",
    "                'end_date_estimated': 'max'\n",
    "                }\n",
    "            mid_df_copy = deepcopy(mid_df_copy.groupby(['war_num', 'c_code_a', 'c_code_b', 'participant_a', 'participant_b']).agg(aggregations).reset_index())\n",
    "            \n",
    "            ## manually filling in values that are found in dyadic cow datasets but seem to be missing from country level sources.\n",
    "            ## values have been obtained from dyadic data (directed_dyadic_war.csv' and dyadic MIDs 3.1.csv)\n",
    "            df_length = deepcopy(len(part_df))\n",
    "            \n",
    "            part_df_copy = deepcopy(part_df[part_df['war_num']==war_num].reset_index(drop=True))\n",
    "            \n",
    "            if len(mid_df_copy[mid_df_copy['c_code_a']==participant]) > 0:\n",
    "                part_df.loc[df_length, 'c_code'] = mid_df_copy[mid_df_copy['c_code_a']==participant]['c_code_a'].values[0]\n",
    "                ## assuming it's in c_code_dic\n",
    "                ## otherwise, this breaks!\n",
    "                part_df.loc[df_length, 'participant'] = c_code_dic[mid_df_copy[mid_df_copy['c_code_a']==participant]['c_code_a'].values[0]]\n",
    "                opposite_participant = mid_df_copy[mid_df_copy['c_code_a']==participant]['c_code_b'].values[0]\n",
    "            else:\n",
    "                part_df.loc[df_length, 'c_code'] = mid_df_copy[mid_df_copy['c_code_b']==participant]['c_code_b'].values[0]\n",
    "                ## assuming it's in c_code_dic\n",
    "                ## otherwise, this breaks!\n",
    "                part_df.loc[df_length, 'participant'] = c_code_dic[mid_df_copy[mid_df_copy['c_code_b']==participant]['c_code_a'].values[0]]\n",
    "                opposite_participant = mid_df_copy[mid_df_copy['c_code_a']==participant]['c_code_b'].values[0]\n",
    "             \n",
    "            part_df.loc[df_length, 'war_num'] = war_num\n",
    "            part_df.loc[df_length, 'war_name'] = war_dic[war_num]\n",
    "            part_df.loc[df_length, 'war_type'] = part_df_copy['war_type'].values[0]\n",
    "            part_df.loc[df_length, 'war_type_code'] = part_df_copy['war_type_code'].values[0]\n",
    "            part_df.loc[df_length, 'war_sub_type'] = part_df_copy['war_sub_type'].values[0]\n",
    "            \n",
    "            part_df.loc[df_length, 'side'] = opposing_side_dic[part_df_copy[part_df_copy['c_code']==opposite_participant]['side'].values[0]]\n",
    "            part_df.loc[df_length, 'battle_deaths'] = max(list(dyad_df_copy[dyad_df_copy['c_code_a']==participant]['battle_deaths_a']) + list(dyad_df_copy[dyad_df_copy['c_code_b']==participant]['battle_deaths_b']))\n",
    "            \n",
    "            part_df.loc[df_length, 'start_date'] = mid_df_copy['start_date'].values[0]\n",
    "            part_df.loc[df_length, 'start_year'] = float(str(mid_df_copy['start_date'].values[0])[0:4])\n",
    "            part_df.loc[df_length, 'end_date'] = pd.to_datetime(str(mid_df_copy['end_date'].values[0])[0:11])\n",
    "            part_df.loc[df_length, 'end_year'] = float(str(mid_df_copy['end_date'].values[0])[0:4])\n",
    "            part_df.loc[df_length, 'days_at_war'] = float(mid_df_copy['days_at_war'].values[0])\n",
    "            part_df.loc[df_length, 'start_date_estimated'] = float(mid_df_copy['start_date_estimated'].values[0])\n",
    "            part_df.loc[df_length, 'end_date_estimated'] = float(mid_df_copy['end_date_estimated'].values[0])\n",
    "            ## prevent duplication in for loop\n",
    "            ## this may be an issue if they fought with more than one country\n",
    "            participant_list.append(participant)\n",
    "        else:\n",
    "            pass\n",
    "        \n",
    "part_df['war_num'] = part_df['war_num'].astype(float)\n",
    "part_df['start_year'] = part_df['start_year'].astype(float)\n",
    "part_df['end_year'] = part_df['end_year'].astype(float)\n",
    "\n",
    "participants_added = deepcopy(len(part_df) - original_part_df_length)\n",
    "print('\\nTotal Participants Added from Dyadic Data: {}'.format(format(participants_added, ',d')))"
   ]
  },
  {
   "cell_type": "code",
   "execution_count": null,
   "metadata": {},
   "outputs": [],
   "source": [
    "# missing value for thailand battle deaths in WWII obtained from wikipedia\n",
    "# https://en.wikipedia.org/wiki/Thailand_in_World_War_II#:~:text=Thailand%20suffered%20about%205%2C569%20military,the%20brief%20Franco%2DThai%20War.\n",
    "print('Manually adding battle deaths from Wikipedia for Thailand during WWII.')\n",
    "part_df.loc[(part_df['war_num']==139) & (part_df['participant']=='Thailand'), 'battle_deaths'] = 5569\n",
    "\n",
    "# missing value for greece battle deaths in Turco Cypriot obtained from wikipedia\n",
    "# https://en.wikipedia.org/wiki/Turkish_invasion_of_Cyprus#:~:text=The%20violence%20resulted%20in%20the,of%2025%2C000%E2%80%9330%2C000%20Turkish%20Cypriots.\n",
    "print('Manually adding battle deaths from Wikipedia for Greece during Turco Cypriot.')\n",
    "part_df.loc[(part_df['war_num']==184) & (part_df['participant']=='Greece'), 'battle_deaths'] = 105"
   ]
  },
  {
   "cell_type": "code",
   "execution_count": null,
   "metadata": {},
   "outputs": [],
   "source": [
    "# # check for all values that were just added\n",
    "# # making sure no fields are null that shouldn't be null\n",
    "# part_df.tail(len(part_df)-original_part_df_length)"
   ]
  },
  {
   "cell_type": "markdown",
   "metadata": {},
   "source": [
    "## Defining War DataFrame (One row for each war)"
   ]
  },
  {
   "cell_type": "code",
   "execution_count": null,
   "metadata": {
    "scrolled": true
   },
   "outputs": [],
   "source": [
    "## part_df_copy will be used to calculate war_df.\n",
    "part_df_copy = deepcopy(part_df)\n",
    "part_df_copy.rename({'participant': 'total_participants'}, axis=1, inplace=True)\n",
    "\n",
    "## filling these dates in arbitrarily before taking aggregates\n",
    "## high date for start_date because this will be min\n",
    "## low date for end_date because this will be max\n",
    "part_df_copy['start_date'].fillna(pd.to_datetime('2100-01-01'), inplace=True)\n",
    "part_df_copy['end_date'].fillna(pd.to_datetime('1700-01-01'), inplace=True)\n",
    "part_df_copy.rename({'ongoing_participation': 'ongoing_war'}, axis=1, inplace=True)\n",
    "\n",
    "war_name_changes = {}\n",
    "wars_changed_to_ongoing = []\n",
    "for i, war in enumerate(part_df_copy['war_name']):\n",
    "    original_war_name = part_df_copy.loc[i, 'war_name']\n",
    "    if part_df_copy.loc[i, 'ongoing_war']==1:\n",
    "        pass\n",
    "    elif 'present' in part_df_copy.loc[i, 'war_name'].lower() or 'ongoing' in part_df_copy.loc[i, 'war_name'].lower():\n",
    "        part_df_copy.loc[i, 'ongoing_war'] = 1\n",
    "        wars_changed_to_ongoing.append(part_df_copy.loc[i, 'war_num'])\n",
    "    if ' of 1' in part_df_copy.loc[i, 'war_name']:\n",
    "        part_df_copy.loc[i, 'war_name'] = part_df_copy.loc[i, 'war_name'].split(' of 1')[0].replace('  ', ' ')\n",
    "    elif ' of 2' in part_df_copy.loc[i, 'war_name']:\n",
    "        part_df_copy.loc[i, 'war_name'] = part_df_copy.loc[i, 'war_name'].split(' of 2')[0].replace('  ', ' ')\n",
    "    if part_df_copy.loc[i, 'war_name'][0]==' ':\n",
    "        part_df_copy.loc[i, 'war_name'] = part_df_copy.loc[i, 'war_name'][1:]\n",
    "    if original_war_name!=part_df_copy.loc[i, 'war_name']:\n",
    "        war_name_changes[original_war_name] = part_df_copy.loc[i, 'war_name']\n",
    "        \n",
    "print('Total Wars Manually Changed to Ongoing: {}'.format(format(len(list(set(wars_changed_to_ongoing))), ',d')))\n",
    "print('Total Wars Marked as Ongoing: {}'.format(format(len(list(part_df_copy[part_df_copy['ongoing_war']==1]['war_num'].unique())), ',d')))\n",
    "print('Total Wars With Name Adjustments: {}'.format(format(len(war_name_changes.keys()), ',d')))\n",
    "# pprint(war_name_changes)"
   ]
  },
  {
   "cell_type": "code",
   "execution_count": null,
   "metadata": {},
   "outputs": [],
   "source": [
    "### Creating Dictionary to Lookup Estimated Dates That Have Affected Days_At_War\n",
    "estimated_start_df = deepcopy(part_df_copy[part_df_copy['start_date_estimated']==1][['war_num', 'start_date']])\n",
    "estimated_start_dates = the_networks_of_war_python_functions.dictionary_from_field(estimated_start_df, 'war_num', 'start_date')\n",
    "\n",
    "estimated_end_df = deepcopy(part_df_copy[(part_df_copy['end_date_estimated']==1) & (part_df_copy['ongoing_war']==0)][['war_num', 'end_date']])\n",
    "estimated_end_dates = the_networks_of_war_python_functions.dictionary_from_field(estimated_end_df, 'war_num', 'end_date')\n",
    "\n",
    "## not longer needed after the dictionaries are created\n",
    "## however, they could still potentially have been used to generate days_at_war_by_participant\n",
    "part_df.drop(['start_date_estimated',\n",
    "              'end_date_estimated'], axis=1, inplace=True)\n",
    "## needed for to create war_df but not individually part_df\n",
    "part_df.drop(['lagging_war',\n",
    "              'leading_war'], axis=1, inplace=True)\n",
    "\n",
    "print('Total Wars with Estimated Start Dates: {}'.format(len(list(estimated_start_df['war_num'].unique()))))\n",
    "print('Total (Non-Ongoing) Wars with Estimated End Dates: {}'.format(len(list(estimated_end_df['war_num'].unique()))))"
   ]
  },
  {
   "cell_type": "code",
   "execution_count": null,
   "metadata": {},
   "outputs": [],
   "source": [
    "aggregations = {\n",
    "    'total_participants': 'count',\n",
    "    'start_year': 'min',\n",
    "    'end_year': 'max',\n",
    "    ## this will not be accurate if there are more than one lagging/leading wars per war.\n",
    "    'lagging_war': 'min',\n",
    "    'leading_war': 'max',\n",
    "    'ongoing_war': 'max',\n",
    "    'start_date': 'min',\n",
    "    'end_date': 'max'\n",
    "    ## not sure how to add this one just yet\n",
    "#     'total_deaths_both_sides': 'max'\n",
    "    }\n",
    "war_df = deepcopy(part_df_copy.groupby(['war_num',\n",
    "                                        'war_name',\n",
    "                                        'war_type_code',\n",
    "                                        'war_type',\n",
    "                                        'war_sub_type']).agg(aggregations).reset_index())\n",
    "\n",
    "## putting these back to none in case they made it through the aggregation\n",
    "war_df.loc[war_df['start_date']==pd.to_datetime('2100-01-01'), 'start_date'] = None\n",
    "war_df.loc[war_df['end_date']==pd.to_datetime('1700-01-01'), 'end_date'] = None\n",
    "\n",
    "for i, war in enumerate(war_df['war_name']):\n",
    "    try:\n",
    "        war_df.loc[i, 'total_days_in_war'] = war_df.loc[i, 'end_date'] - war_df.loc[i, 'start_date']\n",
    "        war_df.loc[i, 'total_days_in_war'] = int(str(war_df.loc[i, 'total_days_in_war']).split(' ')[0]) + 1\n",
    "    except:\n",
    "        war_df.loc[i, 'total_days_in_war'] = None\n",
    "        \n",
    "war_df = deepcopy(war_df.sort_values(by=['start_year', 'ongoing_war', 'end_year', 'start_date', 'war_name'], ascending=(False, False, False, False, True)))\n",
    "\n",
    "print('Total Wars with Null Start Years: {}'.format(format(int(len(war_df[war_df['start_year'].isnull()])), ',d')))\n",
    "print('Total (Non-Ongoing) Wars with Null End Years: {}'.format(format(int(len(war_df[(war_df['end_year'].isnull()) & (war_df['ongoing_war']==0)])), ',d')))\n",
    "print('Total Ongoing Wars: {}'.format(format(int(len(war_df[war_df['ongoing_war']==1])), ',d')))\n"
   ]
  },
  {
   "cell_type": "code",
   "execution_count": null,
   "metadata": {},
   "outputs": [],
   "source": [
    "print('Evaluating for each war, whether the start/end date is based on an estimation.')\n",
    "\n",
    "for i, war in enumerate(war_df['war_num']):\n",
    "    if war_df.loc[i, 'war_num'] in list(estimated_start_dates.keys()) and estimated_start_dates[war_df.loc[i, 'war_num']]==war_df.loc[i, 'start_date']:\n",
    "        war_df.loc[i, 'start_date_estimated'] = 1\n",
    "    if war_df.loc[i, 'war_num'] in list(estimated_end_dates.keys()) and estimated_end_dates[war_df.loc[i, 'war_num']]==war_df.loc[i, 'end_date']:\n",
    "        war_df.loc[i, 'end_date_estimated'] = 1\n",
    "        \n",
    "war_df.loc[war_df['start_date_estimated'].isnull(), 'start_date_estimated'] = 0\n",
    "war_df.loc[war_df['end_date_estimated'].isnull(), 'end_date_estimated'] = 0\n",
    "\n",
    "print(\"Total Estimated Start Dates: {}\\n\".format(format(len(war_df[war_df['start_date_estimated']==1]), ',d')))\n",
    "print(\"Total Estimated End Dates: {}\".format(format(len(war_df[war_df['end_date_estimated']==1]), ',d')))"
   ]
  },
  {
   "cell_type": "code",
   "execution_count": null,
   "metadata": {},
   "outputs": [],
   "source": [
    "print('Total Participants: {}'.format(format(len(part_df), ',d')))\n",
    "print('Total Dyadic Combinations: {}'.format(format(len(dyad_df), ',d')))\n",
    "print('Total Wars: {}'.format(format(len(war_df), ',d')))\n",
    "\n",
    "pickle_directory = '/Users/the_networks_of_war/data_sources/pickles/'\n",
    "\n",
    "part_df.to_pickle(pickle_directory + 'initial_part_df.pkl')\n",
    "dyad_df.to_pickle(pickle_directory + 'initial_dyad_df.pkl')\n",
    "war_df.to_pickle(pickle_directory + 'initial_war_df.pkl')"
   ]
  },
  {
   "cell_type": "code",
   "execution_count": null,
   "metadata": {},
   "outputs": [],
   "source": []
  },
  {
   "cell_type": "code",
   "execution_count": null,
   "metadata": {},
   "outputs": [],
   "source": []
  }
 ],
 "metadata": {
  "kernelspec": {
   "display_name": "Python 3",
   "language": "python",
   "name": "python3"
  },
  "language_info": {
   "codemirror_mode": {
    "name": "ipython",
    "version": 3
   },
   "file_extension": ".py",
   "mimetype": "text/x-python",
   "name": "python",
   "nbconvert_exporter": "python",
   "pygments_lexer": "ipython3",
   "version": "3.6.4"
  }
 },
 "nbformat": 4,
 "nbformat_minor": 2
}
