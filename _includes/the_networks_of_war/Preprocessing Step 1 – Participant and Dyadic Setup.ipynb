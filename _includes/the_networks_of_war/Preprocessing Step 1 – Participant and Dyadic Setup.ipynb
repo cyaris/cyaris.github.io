{
 "cells": [
  {
   "cell_type": "code",
   "execution_count": 1,
   "metadata": {},
   "outputs": [],
   "source": [
    "import pandas as pd\n",
    "import numpy as np\n",
    "from copy import deepcopy\n",
    "from traceback import format_exc\n",
    "from pprint import pprint\n",
    "import the_networks_of_war_python_functions"
   ]
  },
  {
   "cell_type": "code",
   "execution_count": 2,
   "metadata": {},
   "outputs": [],
   "source": [
    "pd.set_option('display.max_columns', None)\n",
    "pd.set_option('display.float_format', lambda x: '%.5f' % x)"
   ]
  },
  {
   "cell_type": "code",
   "execution_count": 3,
   "metadata": {},
   "outputs": [],
   "source": [
    "csv_directory = '/Users/the_networks_of_war/data_sources/csvs/'"
   ]
  },
  {
   "cell_type": "markdown",
   "metadata": {},
   "source": [
    "## Setup for Identifying Countries by Code\n",
    "### Note: This is helpful for when different names are used for the same country."
   ]
  },
  {
   "cell_type": "code",
   "execution_count": 4,
   "metadata": {},
   "outputs": [
    {
     "name": "stdout",
     "output_type": "stream",
     "text": [
      "Total Country Codes: 217\n"
     ]
    }
   ],
   "source": [
    "c_code_dic = the_networks_of_war_python_functions.define_c_code_dic()"
   ]
  },
  {
   "cell_type": "markdown",
   "metadata": {},
   "source": [
    "## Participant DataFrames\n",
    "### Note: Only inter-state wars have different source files for dyadic and participant data."
   ]
  },
  {
   "cell_type": "markdown",
   "metadata": {},
   "source": [
    "### Inter-State Wars"
   ]
  },
  {
   "cell_type": "code",
   "execution_count": 5,
   "metadata": {},
   "outputs": [
    {
     "name": "stdout",
     "output_type": "stream",
     "text": [
      "Total Rows With Both Dates Found: 337\n",
      "Total Rows With At Least One Date Not Found: 0\n",
      "\n"
     ]
    }
   ],
   "source": [
    "part_df_1 = pd.read_csv(csv_directory + 'Inter-StateWarData_v4.0.csv', encoding = 'latin-1')\n",
    "part_df_1.rename({'WarNum': 'war_num',\n",
    "                  'WarName': 'war_name',\n",
    "                  'WarType': 'war_type',\n",
    "                  'ccode': 'c_code',\n",
    "                  'StateName': 'participant',\n",
    "                  'Side': 'side',\n",
    "                  'BatDeath': 'battle_deaths',\n",
    "                  'StartYear1': 'start_year',\n",
    "                  'StartMonth1': 'start_month',\n",
    "                  'StartDay1': 'start_day',\n",
    "                  'EndYear1': 'end_year',\n",
    "                  'EndMonth1': 'end_month',\n",
    "                  'EndDay1': 'end_day'}, axis=1, inplace = True)\n",
    "part_df_1 = deepcopy(the_networks_of_war_python_functions.start_and_end_dates(part_df_1))"
   ]
  },
  {
   "cell_type": "code",
   "execution_count": 6,
   "metadata": {},
   "outputs": [],
   "source": [
    "aggregations = {\n",
    "    ## accounting for all cases where countries have more than one side\n",
    "    ## they will become side 3\n",
    "    'side': 'sum',\n",
    "    'battle_deaths': 'sum',\n",
    "    'start_date': 'min',\n",
    "    'start_year': 'max',\n",
    "    'end_date': 'max',\n",
    "    'end_year': 'max',\n",
    "    'days_at_war': 'max',\n",
    "    'ongoing_participation': 'max'\n",
    "    }\n",
    "part_df_1 = deepcopy(part_df_1.groupby(['war_num',\n",
    "                                        'war_name',\n",
    "                                        'war_type',\n",
    "                                        'c_code',\n",
    "                                        'participant']).agg(aggregations).reset_index())"
   ]
  },
  {
   "cell_type": "code",
   "execution_count": 7,
   "metadata": {},
   "outputs": [
    {
     "name": "stdout",
     "output_type": "stream",
     "text": [
      "Manually changing USSR and Finland to side 3 for WWII based on dyadic data.\n"
     ]
    }
   ],
   "source": [
    "print('Manually changing USSR and Finland to side 3 for WWII based on dyadic data.')\n",
    "## manually changing USSR to side 3 for WWII because they invaded Poland before fighting against Germany.\n",
    "part_df_1.loc[(part_df_1['war_num']==139) & (part_df_1['c_code']==365), 'side'] = 3\n",
    "## manually changing Finald to side 3 for WWII because they fought with Germany before Fighting against Germany.\n",
    "part_df_1.loc[(part_df_1['war_num']==139) & (part_df_1['c_code']==375), 'side'] = 3"
   ]
  },
  {
   "cell_type": "markdown",
   "metadata": {},
   "source": [
    "### Intra-State Wars\n",
    "#### Using the same file to create the participant dataframe and dyadic dataframe."
   ]
  },
  {
   "cell_type": "code",
   "execution_count": 8,
   "metadata": {},
   "outputs": [
    {
     "name": "stdout",
     "output_type": "stream",
     "text": [
      "Total Rows With Both Dates Found: 451\n",
      "Total Rows With At Least One Date Not Found: 142\n",
      "\n"
     ]
    }
   ],
   "source": [
    "## creating new dataframe to union to interstate wars part_df\n",
    "## note: the code below is very intefficient because something is off with integer formatting in this file.\n",
    "## this did not occur in the interstate war file.\n",
    "part_df_2 = pd.read_csv(csv_directory + 'INTRA-STATE_State_participants v5.1.csv', encoding = 'latin-1')\n",
    "## either one of these a or b may not actually be states.\n",
    "## this wil be fixed later on\n",
    "part_df_2.rename({'WarNum': 'war_num',\n",
    "                  'WarName': 'war_name',\n",
    "                  'WarType': 'war_type',\n",
    "                  'CcodeA': 'c_code_a',\n",
    "                  'CcodeB': 'c_code_b',\n",
    "                  'SideA': 'participant_a',\n",
    "                  'SideB': 'participant_b',\n",
    "                  'StartDy1': 'start_day',\n",
    "                  'StartMo1': 'start_month',\n",
    "                  'StartYr1': 'start_year',\n",
    "                  'EndDy1': 'end_day',\n",
    "                  'EndMo1': 'end_month',\n",
    "                  'EndYr1': 'end_year',\n",
    "                  ## unsure if these are the same as battle deaths, or include civilians\n",
    "                  'Deaths A': 'battle_deaths_a',\n",
    "                  'Deaths B': 'battle_deaths_b',\n",
    "                  ## according to documentation, this includes both sides\n",
    "                  'TotalBDeaths': 'total_deaths_both_sides',\n",
    "                  'WDuratDays': 'total_days_in_war',\n",
    "                  'SideAPeakTotForces': 'peak_forces_available_a',\n",
    "                  'SideBPeakTotForces': 'peak_forces_available_b',\n",
    "                  'SideAPeak TheatForces': 'peak_battle_forces_a',\n",
    "                  'SideBPeakTheatForces': 'peak_battle_forces_b',\n",
    "                  'TransFrom': 'lagging_war',\n",
    "                  'TransTo': 'leading_war'}, axis=1, inplace = True)\n",
    "\n",
    "## fixing for leap year issue\n",
    "part_df_2.loc[(part_df_2['start_day']==29) & (part_df_2['start_month']==2) & (part_df_2['start_year']==1894), 'start_day'] = 28\n",
    "## adjusting for wrong start year\n",
    "## this needs to be automated (check for  'of ___' in war_name where start_year <> ___)\n",
    "part_df_2.loc[part_df_2['war_num']==976, 'start_year'] = '2011'\n",
    "\n",
    "## two syrian arab spring wars starting on the same date.\n",
    "## I believe one of these is a data entry error.\n",
    "## combining both war_nums into one war\n",
    "part_df_2.loc[part_df_2['war_num']==977, 'war_num'] = 979\n",
    "\n",
    "extra_switch_columns = ['peak_forces_available_a',\n",
    "                        'peak_forces_available_b',\n",
    "                        'peak_battle_forces_a',\n",
    "                        'peak_battle_forces_b']\n",
    "format_part_df_return = deepcopy(the_networks_of_war_python_functions.format_part_df_from_dyadic_data(part_df_2, extra_switch_columns))\n",
    "part_df_2 = deepcopy(format_part_df_return[0])\n",
    "dyad_df_2 = deepcopy(format_part_df_return[1])"
   ]
  },
  {
   "cell_type": "markdown",
   "metadata": {},
   "source": [
    "### Extra State Wars\n",
    "#### Using the same file to create the participant dataframe and dyadic dataframe."
   ]
  },
  {
   "cell_type": "code",
   "execution_count": 9,
   "metadata": {},
   "outputs": [
    {
     "name": "stdout",
     "output_type": "stream",
     "text": [
      "Total Rows With Both Dates Found: 124\n",
      "Total Rows With At Least One Date Not Found: 74\n",
      "\n"
     ]
    }
   ],
   "source": [
    "## creating new dataframe to union to extra-state wars part_df\n",
    "## inefficient pipeline from above was used to accomodate integer formatting\n",
    "## unsure if that problem occurs for this one too though\n",
    "part_df_3 = pd.read_csv(csv_directory + 'Extra-StateWarData_v4.0.csv', encoding = 'latin-1')\n",
    "## either one of these a or b may not actually be states.\n",
    "## this wil be fixed later on\n",
    "part_df_3.rename({'WarNum': 'war_num',\n",
    "                  'WarName': 'war_name',\n",
    "                  'WarType': 'war_type',\n",
    "                  'ccode1': 'c_code_a',\n",
    "                  'ccode2': 'c_code_b',\n",
    "                  'SideA': 'participant_a',\n",
    "                  'SideB': 'participant_b',\n",
    "                  'StartDay1': 'start_day',\n",
    "                  'StartMonth1': 'start_month',\n",
    "                  'StartYear1': 'start_year',\n",
    "                  'EndDay1': 'end_day',\n",
    "                  'EndMonth1': 'end_month',\n",
    "                  'EndYear1': 'end_year',\n",
    "                  ## unsure if these are the same as battle deaths, or include civilians\n",
    "                  'BatDeath': 'battle_deaths_a',\n",
    "                  'NonStateDeaths': 'battle_deaths_b'}, axis=1, inplace = True)\n",
    "\n",
    "format_part_df_return = deepcopy(the_networks_of_war_python_functions.format_part_df_from_dyadic_data(part_df_3, None))\n",
    "part_df_3 = deepcopy(format_part_df_return[0])\n",
    "dyad_df_3 = deepcopy(format_part_df_return[1])"
   ]
  },
  {
   "cell_type": "markdown",
   "metadata": {},
   "source": [
    "### Combining Participant Sources"
   ]
  },
  {
   "cell_type": "code",
   "execution_count": 10,
   "metadata": {
    "code_folding": []
   },
   "outputs": [
    {
     "name": "stdout",
     "output_type": "stream",
     "text": [
      "Total War Participants After Merging All War Types: 1,705\n"
     ]
    }
   ],
   "source": [
    "part_df = deepcopy(pd.concat([part_df_1, part_df_2], sort=True, ignore_index=True).reset_index(drop = True))\n",
    "part_df = deepcopy(pd.concat([part_df, part_df_3], sort=True, ignore_index=True).reset_index(drop=True))\n",
    "\n",
    "## keeping only essential columns\n",
    "part_df = deepcopy(part_df[['war_num',\n",
    "                            'war_name',\n",
    "                            'war_type',\n",
    "                            'c_code',\n",
    "                            'participant',\n",
    "                            'side',\n",
    "                            'battle_deaths',\n",
    "                            'start_date',\n",
    "                            'start_year',\n",
    "                            'end_date',\n",
    "                            'end_year',\n",
    "                            'days_at_war',\n",
    "                            'lagging_war',\n",
    "                            'leading_war',\n",
    "                            'ongoing_participation',\n",
    "                            'total_deaths_both_sides',\n",
    "                            'peak_forces_available',\n",
    "                            'peak_battle_forces']])\n",
    "\n",
    "## removing non applicable participants\n",
    "part_df = deepcopy(part_df[part_df['participant']!='-8']).reset_index(drop = True)\n",
    "\n",
    "print('Total War Participants After Merging All War Types: {}'.format(format(len(part_df), ',d')))"
   ]
  },
  {
   "cell_type": "code",
   "execution_count": 11,
   "metadata": {},
   "outputs": [],
   "source": [
    "part_df.rename({'war_type': 'war_type_code'}, axis=1, inplace = True)\n",
    "\n",
    "## two lists, one for war_types and one for war_sub_types.\n",
    "## the indexes for each must line up.\n",
    "war_types = ['Inter-State War',\n",
    "             'Extra-State War',\n",
    "             'Extra-State War',\n",
    "             'Intra-State War',\n",
    "             'Intra-State War',\n",
    "             'Intra-State War',\n",
    "             'Intra-State War',\n",
    "             'Non-State War',\n",
    "             'Non-State War']\n",
    "\n",
    "war_sub_types = ['',\n",
    "                 'Colonial (conflict with colony)',\n",
    "                 'Imperial (state vs non-state)',\n",
    "                 'Civil War (for central control)',\n",
    "                 'Civil War (over local issues)',\n",
    "                 'Regional/Internal',\n",
    "                 'Intercommunal',\n",
    "                 'In Non-State Territory',\n",
    "                 'Across State Borders']\n",
    "\n",
    "for i, war_type in enumerate(war_types):\n",
    "    ## specifying the subtypes of each war based on the documentation\n",
    "    part_df.loc[part_df['war_type_code']==i+1, 'war_type'] = war_types[i]\n",
    "    part_df.loc[part_df['war_type_code']==i+1, 'war_sub_type'] = war_sub_types[i]"
   ]
  },
  {
   "cell_type": "code",
   "execution_count": 12,
   "metadata": {},
   "outputs": [],
   "source": [
    "## filling in non-applicable values with None\n",
    "part_df = deepcopy(the_networks_of_war_python_functions.remaining_participant_null_values(part_df))"
   ]
  },
  {
   "cell_type": "code",
   "execution_count": 13,
   "metadata": {},
   "outputs": [],
   "source": [
    "## creating war_dic that will be used to fill in missing values\n",
    "war_dic = {}\n",
    "for i, war_num in enumerate(part_df['war_num']):\n",
    "    war_dic[war_num] = part_df.loc[i, 'war_name']"
   ]
  },
  {
   "cell_type": "markdown",
   "metadata": {},
   "source": [
    "## Creating Inter-State Dyadic DataFrame"
   ]
  },
  {
   "cell_type": "markdown",
   "metadata": {},
   "source": [
    "### Note: The other dyadic dataframes have already been defined above."
   ]
  },
  {
   "cell_type": "markdown",
   "metadata": {},
   "source": [
    "### Reading in the data and unioning each participant so they both appear as a and b"
   ]
  },
  {
   "cell_type": "code",
   "execution_count": 14,
   "metadata": {},
   "outputs": [],
   "source": [
    "## battle deaths and start/end dates are in this file too, but it's more confusing than the part_df.\n",
    "## this will just be used to get the combinations of countries directly at war with each other.\n",
    "\n",
    "dyad_df_1 = pd.read_csv(csv_directory + 'directed_dyadic_war.csv', encoding = 'latin-1')\n",
    "\n",
    "dyad_df_1.rename({'warnum': 'war_num',\n",
    "                  'statea': 'c_code_a',\n",
    "                  'stateb': 'c_code_b',\n",
    "                  'batdtha': 'battle_deaths_a',\n",
    "                  'batdthb': 'battle_deaths_b',\n",
    "                  'batdths': 'total_battle_deaths'}, axis=1, inplace = True)\n",
    "\n",
    "dyad_df_1 = deepcopy(dyad_df_1[['war_num',\n",
    "                                'c_code_a',\n",
    "                                'c_code_b',\n",
    "                                'year',\n",
    "                                'battle_deaths_a',\n",
    "                                'battle_deaths_b',\n",
    "                                'disno',\n",
    "                                'total_battle_deaths']])\n",
    "\n",
    "for i, c_code_a in enumerate(dyad_df_1['c_code_a']):\n",
    "    dyad_df_1.loc[i, 'participant_a'] = c_code_dic[c_code_a]\n",
    "    dyad_df_1.loc[i, 'participant_b'] = c_code_dic[dyad_df_1.loc[i, 'c_code_b']] \n",
    "    \n",
    "## unioning mismatching columns so each participant will get their own row\n",
    "switched_columns_list = ['c_code_a',\n",
    "                         'c_code_b',\n",
    "                         'participant_a',\n",
    "                         'participant_b',\n",
    "                         'battle_deaths_a',\n",
    "                         'battle_deaths_b']\n",
    "dyad_df_1 = deepcopy(the_networks_of_war_python_functions.union_opposite_columns(dyad_df_1, switched_columns_list))"
   ]
  },
  {
   "cell_type": "code",
   "execution_count": 15,
   "metadata": {},
   "outputs": [],
   "source": [
    "# # ## fixing data entry error\n",
    "# dyad_df.loc[dyad_df['war_num']==106, 'war_end_year'] = 1918"
   ]
  },
  {
   "cell_type": "markdown",
   "metadata": {},
   "source": [
    "### Checking for any missing dyads that can be extracted from MID data\n",
    "### Adding in Dyads (Not Included) Marked as War==1 in MID Data"
   ]
  },
  {
   "cell_type": "code",
   "execution_count": 16,
   "metadata": {},
   "outputs": [],
   "source": [
    "mid_df = pd.read_csv(csv_directory + 'dyadic MIDs 3.1.csv', encoding = 'latin-1')\n",
    "## only including war conflicts\n",
    "mid_df = deepcopy(mid_df[mid_df['war']==1])\n",
    "mid_df.rename({'statea': 'c_code_a',\n",
    "               'stateb': 'c_code_b'}, axis=1, inplace = True)\n",
    "mid_df = deepcopy(mid_df[['c_code_a',\n",
    "                          'c_code_b',\n",
    "                          'year']])\n",
    "## unioning mismatching columns so each participant will get their own row\n",
    "switched_columns_list = ['c_code_a',\n",
    "                         'c_code_b']\n",
    "mid_df = deepcopy(the_networks_of_war_python_functions.union_opposite_columns(mid_df, switched_columns_list))\n",
    "\n",
    "duplicate_list = ['c_code_a', 'c_code_b', 'year']\n",
    "mid_df.sort_values(by = 'year', ascending = True, inplace = True)\n",
    "## removing duplicates before merging\n",
    "mid_df.drop_duplicates(subset = duplicate_list, keep = 'first', inplace = True)\n",
    "\n",
    "dyad_df_1 = deepcopy(pd.merge(dyad_df_1, mid_df, how = 'outer', on = ['c_code_a', 'c_code_b', 'year']))"
   ]
  },
  {
   "cell_type": "code",
   "execution_count": 17,
   "metadata": {},
   "outputs": [
    {
     "name": "stdout",
     "output_type": "stream",
     "text": [
      "Total Dyads Added From MIDs: 8\n",
      "note: these have all been manually reviewed to be WWII dyads.\n"
     ]
    }
   ],
   "source": [
    "## these have been manually reviewed to all be WWII dyads\n",
    "total_dyads_added = deepcopy(len(dyad_df_1[dyad_df_1['war_num'].isnull()]))\n",
    "\n",
    "for i, war in enumerate(dyad_df_1['war_num']):\n",
    "    if str(dyad_df_1.loc[i, 'war_num'])=='nan':\n",
    "        ## these have been manually reviewed to all be WWII dyads\n",
    "        dyad_df_1.loc[i, 'war_num'] = 139\n",
    "        dyad_df_1.loc[i, 'participant_a'] = c_code_dic[dyad_df_1.loc[i, 'c_code_a']]\n",
    "        dyad_df_1.loc[i, 'participant_b'] = c_code_dic[dyad_df_1.loc[i, 'c_code_b']]\n",
    "## should be at least 8\n",
    "print('Total Dyads Added From MIDs: {}'.format(format(total_dyads_added, ',d')))\n",
    "print('note: these have all been manually reviewed to be WWII dyads.')"
   ]
  },
  {
   "cell_type": "code",
   "execution_count": 18,
   "metadata": {},
   "outputs": [
    {
     "data": {
      "text/html": [
       "<div>\n",
       "<style scoped>\n",
       "    .dataframe tbody tr th:only-of-type {\n",
       "        vertical-align: middle;\n",
       "    }\n",
       "\n",
       "    .dataframe tbody tr th {\n",
       "        vertical-align: top;\n",
       "    }\n",
       "\n",
       "    .dataframe thead th {\n",
       "        text-align: right;\n",
       "    }\n",
       "</style>\n",
       "<table border=\"1\" class=\"dataframe\">\n",
       "  <thead>\n",
       "    <tr style=\"text-align: right;\">\n",
       "      <th></th>\n",
       "      <th>battle_deaths_a</th>\n",
       "      <th>battle_deaths_b</th>\n",
       "      <th>c_code_a</th>\n",
       "      <th>c_code_b</th>\n",
       "      <th>disno</th>\n",
       "      <th>participant_a</th>\n",
       "      <th>participant_b</th>\n",
       "      <th>total_battle_deaths</th>\n",
       "      <th>war_num</th>\n",
       "      <th>year</th>\n",
       "    </tr>\n",
       "  </thead>\n",
       "  <tbody>\n",
       "    <tr>\n",
       "      <th>2728</th>\n",
       "      <td>nan</td>\n",
       "      <td>nan</td>\n",
       "      <td>325</td>\n",
       "      <td>355</td>\n",
       "      <td>nan</td>\n",
       "      <td>Italy</td>\n",
       "      <td>Bulgaria</td>\n",
       "      <td>nan</td>\n",
       "      <td>139.00000</td>\n",
       "      <td>1943</td>\n",
       "    </tr>\n",
       "    <tr>\n",
       "      <th>2729</th>\n",
       "      <td>nan</td>\n",
       "      <td>nan</td>\n",
       "      <td>355</td>\n",
       "      <td>325</td>\n",
       "      <td>nan</td>\n",
       "      <td>Bulgaria</td>\n",
       "      <td>Italy</td>\n",
       "      <td>nan</td>\n",
       "      <td>139.00000</td>\n",
       "      <td>1943</td>\n",
       "    </tr>\n",
       "    <tr>\n",
       "      <th>2730</th>\n",
       "      <td>nan</td>\n",
       "      <td>nan</td>\n",
       "      <td>355</td>\n",
       "      <td>325</td>\n",
       "      <td>nan</td>\n",
       "      <td>Bulgaria</td>\n",
       "      <td>Italy</td>\n",
       "      <td>nan</td>\n",
       "      <td>139.00000</td>\n",
       "      <td>1944</td>\n",
       "    </tr>\n",
       "    <tr>\n",
       "      <th>2731</th>\n",
       "      <td>nan</td>\n",
       "      <td>nan</td>\n",
       "      <td>325</td>\n",
       "      <td>355</td>\n",
       "      <td>nan</td>\n",
       "      <td>Italy</td>\n",
       "      <td>Bulgaria</td>\n",
       "      <td>nan</td>\n",
       "      <td>139.00000</td>\n",
       "      <td>1944</td>\n",
       "    </tr>\n",
       "    <tr>\n",
       "      <th>2732</th>\n",
       "      <td>nan</td>\n",
       "      <td>nan</td>\n",
       "      <td>255</td>\n",
       "      <td>375</td>\n",
       "      <td>nan</td>\n",
       "      <td>Germany</td>\n",
       "      <td>Finland</td>\n",
       "      <td>nan</td>\n",
       "      <td>139.00000</td>\n",
       "      <td>1944</td>\n",
       "    </tr>\n",
       "    <tr>\n",
       "      <th>2733</th>\n",
       "      <td>nan</td>\n",
       "      <td>nan</td>\n",
       "      <td>375</td>\n",
       "      <td>255</td>\n",
       "      <td>nan</td>\n",
       "      <td>Finland</td>\n",
       "      <td>Germany</td>\n",
       "      <td>nan</td>\n",
       "      <td>139.00000</td>\n",
       "      <td>1944</td>\n",
       "    </tr>\n",
       "    <tr>\n",
       "      <th>2734</th>\n",
       "      <td>nan</td>\n",
       "      <td>nan</td>\n",
       "      <td>255</td>\n",
       "      <td>375</td>\n",
       "      <td>nan</td>\n",
       "      <td>Germany</td>\n",
       "      <td>Finland</td>\n",
       "      <td>nan</td>\n",
       "      <td>139.00000</td>\n",
       "      <td>1945</td>\n",
       "    </tr>\n",
       "    <tr>\n",
       "      <th>2735</th>\n",
       "      <td>nan</td>\n",
       "      <td>nan</td>\n",
       "      <td>375</td>\n",
       "      <td>255</td>\n",
       "      <td>nan</td>\n",
       "      <td>Finland</td>\n",
       "      <td>Germany</td>\n",
       "      <td>nan</td>\n",
       "      <td>139.00000</td>\n",
       "      <td>1945</td>\n",
       "    </tr>\n",
       "  </tbody>\n",
       "</table>\n",
       "</div>"
      ],
      "text/plain": [
       "      battle_deaths_a  battle_deaths_b  c_code_a  c_code_b  disno  \\\n",
       "2728              nan              nan       325       355    nan   \n",
       "2729              nan              nan       355       325    nan   \n",
       "2730              nan              nan       355       325    nan   \n",
       "2731              nan              nan       325       355    nan   \n",
       "2732              nan              nan       255       375    nan   \n",
       "2733              nan              nan       375       255    nan   \n",
       "2734              nan              nan       255       375    nan   \n",
       "2735              nan              nan       375       255    nan   \n",
       "\n",
       "     participant_a participant_b  total_battle_deaths   war_num  year  \n",
       "2728         Italy      Bulgaria                  nan 139.00000  1943  \n",
       "2729      Bulgaria         Italy                  nan 139.00000  1943  \n",
       "2730      Bulgaria         Italy                  nan 139.00000  1944  \n",
       "2731         Italy      Bulgaria                  nan 139.00000  1944  \n",
       "2732       Germany       Finland                  nan 139.00000  1944  \n",
       "2733       Finland       Germany                  nan 139.00000  1944  \n",
       "2734       Germany       Finland                  nan 139.00000  1945  \n",
       "2735       Finland       Germany                  nan 139.00000  1945  "
      ]
     },
     "execution_count": 18,
     "metadata": {},
     "output_type": "execute_result"
    }
   ],
   "source": [
    "dyad_df_1.tail(total_dyads_added)"
   ]
  },
  {
   "cell_type": "markdown",
   "metadata": {},
   "source": [
    "## Combining Dyadic Sources\n",
    "#### Second and third dyadic sources are defined above during processing for participant dataframes."
   ]
  },
  {
   "cell_type": "code",
   "execution_count": 19,
   "metadata": {},
   "outputs": [
    {
     "name": "stdout",
     "output_type": "stream",
     "text": [
      "Total Inter-State War Dyads: 1,368\n",
      "Total Intra-State War Dyads: 420\n",
      "Total Extra-State War Dyads: 164\n",
      "Total Dyads After Merging All War Types: 1,952\n"
     ]
    }
   ],
   "source": [
    "print('Total Inter-State War Dyads: {}'.format(format(int(len(dyad_df_1)/2), ',d')))\n",
    "print('Total Intra-State War Dyads: {}'.format(format(int(len(dyad_df_2)/2), ',d')))\n",
    "print('Total Extra-State War Dyads: {}'.format(format(int(len(dyad_df_3)/2), ',d')))\n",
    "\n",
    "dyad_df = deepcopy(pd.concat([dyad_df_1, dyad_df_2], sort=True, ignore_index=True).reset_index(drop=True))\n",
    "dyad_df = deepcopy(pd.concat([dyad_df, dyad_df_3], sort=True, ignore_index=True).reset_index(drop=True))\n",
    "\n",
    "print('Total Dyads After Merging All War Types: {}'.format(format(int(len(dyad_df)/2), ',d')))\n",
    "\n",
    "## saving this for process below\n",
    "dyad_df_for_missing_values = deepcopy(dyad_df)\n",
    "## dropping all columns that were only needed for adding missing values\n",
    "dyad_df.drop(['disno',\n",
    "              'battle_deaths_a',\n",
    "              'battle_deaths_b',\n",
    "              'total_battle_deaths'], axis=1, inplace=True)"
   ]
  },
  {
   "cell_type": "markdown",
   "metadata": {},
   "source": [
    "## Final Data Adjustments"
   ]
  },
  {
   "cell_type": "markdown",
   "metadata": {},
   "source": [
    "## Addressing Missing Values from both Participant and Dyadic Data"
   ]
  },
  {
   "cell_type": "markdown",
   "metadata": {},
   "source": [
    "### Adding in Missing Dyads for Wars with Only One Possible Adverary"
   ]
  },
  {
   "cell_type": "code",
   "execution_count": 20,
   "metadata": {},
   "outputs": [
    {
     "name": "stdout",
     "output_type": "stream",
     "text": [
      "Checking for floating participants with only one possible adversary, or one definite adversary.\n",
      "Total Dyads Added Overall: 216\n"
     ]
    }
   ],
   "source": [
    "## need to figure out a way to add dyadic data when it's missing.\n",
    "## these are clear cases where it should be added because one side on the war is only one country.\n",
    "## or, both sides are only one country\n",
    "## it'll be trickier when each side isn't just one country.\n",
    "## that will lead to a floating noad that isn't grounded in the network analysis graph\n",
    "\n",
    "total_dyads = deepcopy(len(dyad_df))\n",
    "for i, war_num in enumerate(list(set(list(part_df['war_num'])))):\n",
    "    total_side_1 = len(part_df[(part_df['war_num']==war_num) & (part_df['side']==1)])\n",
    "    total_side_2 = len(part_df[(part_df['war_num']==war_num) & (part_df['side']==2)])\n",
    "    ## non-state only\n",
    "    total_side_1_non_state = len(part_df[(part_df['war_num']==war_num) & (part_df['side']==1) & (part_df['c_code']==-8)])\n",
    "    total_side_2_non_state = len(part_df[(part_df['war_num']==war_num) & (part_df['side']==2) & (part_df['c_code']==-8)])\n",
    "    if total_side_1==1 and total_side_2==1:\n",
    "        dyad_df = deepcopy(the_networks_of_war_python_functions.add_missing_dyads(part_df, dyad_df, war_num, 1, 'all_participants'))\n",
    "    elif total_side_1==1 and total_side_2!=1:\n",
    "        dyad_df = deepcopy(the_networks_of_war_python_functions.add_missing_dyads(part_df, dyad_df, war_num, 1, 'all_participants'))\n",
    "    elif total_side_1!=1 and total_side_2==1:\n",
    "        dyad_df = deepcopy(the_networks_of_war_python_functions.add_missing_dyads(part_df, dyad_df, war_num, 2, 'all_participants'))\n",
    "    ## if the above processes fail, at the very least we can link all opposing parties to the non-state participant on the other side\n",
    "    ## if there is only on non-state participant on the other side, we know that all opposing forces fought against them\n",
    "    ## the thought here is that if there is only one non-state participant on a particular side, we can assume all members of the other side fought against them because this isn't an inter-state war\n",
    "    elif total_side_1_non_state==1 and total_side_2!=1:\n",
    "        dyad_df = deepcopy(the_networks_of_war_python_functions.add_missing_dyads(part_df, dyad_df, war_num, 1, 'non-state'))\n",
    "    elif total_side_1!=1 and total_side_2_non_state==1:\n",
    "        dyad_df = deepcopy(the_networks_of_war_python_functions.add_missing_dyads(part_df, dyad_df, war_num, 2, 'non-state'))\n",
    "    else:\n",
    "        pass\n",
    "\n",
    "dyads_added = deepcopy(len(dyad_df) - total_dyads)\n",
    "print('Checking for floating participants with only one possible adversary, or one definite adversary.')\n",
    "print('Total Dyads Added Overall: {}'.format(format(dyads_added, ',d')))"
   ]
  },
  {
   "cell_type": "markdown",
   "metadata": {},
   "source": [
    "### Adding in Missing Participants that Appear in Dyadic Data for War"
   ]
  },
  {
   "cell_type": "code",
   "execution_count": 21,
   "metadata": {
    "code_folding": [],
    "scrolled": true
   },
   "outputs": [
    {
     "name": "stdout",
     "output_type": "stream",
     "text": [
      "Participants Added from Dyadic Data:\n",
      "\n",
      "108, Latvian Liberation: 290.0, Poland\n",
      "Total Rows With Both Dates Found: 2\n",
      "Total Rows With At Least One Date Not Found: 0\n",
      "\n",
      "108, Latvian Liberation: 200.0, United Kingdom\n",
      "Total Rows With Both Dates Found: 6\n",
      "Total Rows With At Least One Date Not Found: 0\n",
      "\n",
      "108, Latvian Liberation: 220.0, France\n",
      "Total Rows With Both Dates Found: 4\n",
      "Total Rows With At Least One Date Not Found: 0\n",
      "\n",
      "139, World War II: 800.0, Thailand\n",
      "Total Rows With Both Dates Found: 24\n",
      "Total Rows With At Least One Date Not Found: 0\n",
      "\n",
      "139, World War II: 230.0, Spain\n",
      "Total Rows With Both Dates Found: 8\n",
      "Total Rows With At Least One Date Not Found: 0\n",
      "\n",
      "151, Korean: 920.0, New Zealand\n",
      "Total Rows With Both Dates Found: 16\n",
      "Total Rows With At Least One Date Not Found: 0\n",
      "\n",
      "169, Six Day War: 645.0, Iraq\n",
      "Total Rows With Both Dates Found: 2\n",
      "Total Rows With At Least One Date Not Found: 0\n",
      "\n",
      "184, Turco-Cypriot: 350.0, Greece\n",
      "Total Rows With Both Dates Found: 2\n",
      "Total Rows With At Least One Date Not Found: 0\n",
      "\n",
      "Total Participants Added from Dyadic Data: 8\n"
     ]
    }
   ],
   "source": [
    "print('Participants Added from Dyadic Data:\\n')\n",
    "war_list = list(set(list(dyad_df['war_num'])))\n",
    "\n",
    "## filling in values below using MID data\n",
    "mid_df = pd.read_csv(csv_directory + 'dyadic MIDs 3.1.csv', encoding = 'latin-1')\n",
    "mid_df.rename({'statea': 'c_code_a',\n",
    "               'stateb': 'c_code_b',\n",
    "               'namea': 'participant_a',\n",
    "               'nameb': 'participant_b'}, axis=1, inplace = True)\n",
    "\n",
    "## giving this to the opposite side of the participant they fought against in the war (grabs first record)\n",
    "## troublesome if they swithced sides but this would be very rare\n",
    "opposing_side_dic = {1: 2,\n",
    "                     2: 1,\n",
    "                     3: 3}\n",
    "\n",
    "original_part_df_length = deepcopy(len(part_df))\n",
    "## the following checks for missing data across participant names and c_codes\n",
    "## this is only possible (at the moment) for participants with c_codes, because the rest comes from dyadic data\n",
    "for war_num in war_list:\n",
    "\n",
    "    part_df_copy = deepcopy(part_df[part_df['war_num']==war_num].reset_index(drop=True))\n",
    "    participant_list = list(part_df_copy['c_code'])\n",
    "    dyad_df_copy = deepcopy(dyad_df[dyad_df['war_num']==war_num].reset_index(drop=True))\n",
    "    dyad_list = list(set(list(dyad_df_copy['c_code_a']) + list(dyad_df_copy['c_code_b'])))\n",
    "    try:\n",
    "        dyad_list.remove(-8)\n",
    "    except:\n",
    "        pass\n",
    "    for participant in dyad_list:\n",
    "        if participant not in participant_list:\n",
    "            war_num = part_df_copy['war_num'].values[0]\n",
    "            print(str(war_num)[:-2] + ', ' + war_dic[war_num] + ': ' + str(participant) + ', ' + c_code_dic[participant])\n",
    "            \n",
    "            temp_df_1 = deepcopy(dyad_df_for_missing_values[(dyad_df_for_missing_values['war_num']==war_num) & ((dyad_df_for_missing_values['c_code_a']==participant) | (dyad_df_for_missing_values['c_code_b']==participant))].reset_index())\n",
    "            dispute_numbers = list(set(list(temp_df_1['disno'].values)))\n",
    "            ## should always be 1\n",
    "            if len(dispute_numbers) > 1:\n",
    "                print('missing participant has more than 1 dispute.')\n",
    "                print('logic will need to be adjusted.')\n",
    "                print('total disputes for missing participant: {}'.format(len(dispute_numbers)))\n",
    "            dispute_number = dispute_numbers[0]\n",
    "            \n",
    "            temp_df_2 = deepcopy(mid_df[(mid_df['disno']==dispute_number) & ((mid_df['c_code_a']==participant)|(mid_df['c_code_b']==participant))].reset_index())\n",
    "            temp_df_2.rename({'strtday': 'start_day',\n",
    "                              'strtmnth': 'start_month',\n",
    "                              'strtyr': 'start_year',\n",
    "                              'endday': 'end_day',\n",
    "                              'endmnth': 'end_month',\n",
    "                              'endyear': 'end_year',\n",
    "                             }, axis=1, inplace = True)\n",
    "            temp_df_2['war_num'] = war_num\n",
    "            temp_df_2 = deepcopy(the_networks_of_war_python_functions.start_and_end_dates(temp_df_2))\n",
    "            aggregations = {\n",
    "                'start_date': 'min',\n",
    "                'end_date': 'max',\n",
    "                'days_at_war': 'max'\n",
    "                }\n",
    "            temp_df_2 = deepcopy(temp_df_2.groupby(['war_num', 'c_code_a', 'participant_a', 'c_code_b', 'participant_b']).agg(aggregations).reset_index())\n",
    "\n",
    "            ## manually filling in values that are found in dyadic cow datasets but seem to be missing from country level sources.\n",
    "            ## values have been obtained from dyadic data (directed_dyadic_war.csv' and dyadic MIDs 3.1.csv)\n",
    "            df_length = deepcopy(len(part_df))\n",
    "            \n",
    "            if len(temp_df_2[temp_df_2['c_code_a']==participant]) > 0:\n",
    "                part_df.loc[df_length, 'c_code'] = temp_df_2[temp_df_2['c_code_a']==participant]['c_code_a'].values[0]\n",
    "                ## assuming it's in c_code_dic\n",
    "                ## otherwise, this breaks!\n",
    "                part_df.loc[df_length, 'participant'] = c_code_dic[temp_df_2[temp_df_2['c_code_a']==participant]['c_code_a'].values[0]]\n",
    "                opposite_participant = temp_df_2[temp_df_2['c_code_a']==participant]['c_code_b'].values[0]\n",
    "            else:\n",
    "                part_df.loc[df_length, 'c_code'] = temp_df_2[temp_df_2['c_code_b']==participant]['c_code_b'].values[0]\n",
    "                ## assuming it's in c_code_dic\n",
    "                ## otherwise, this breaks!\n",
    "                part_df.loc[df_length, 'participant'] = c_code_dic[temp_df_2[temp_df_2['c_code_b']==participant]['c_code_a'].values[0]]\n",
    "                opposite_participant = temp_df_2[temp_df_2['c_code_a']==participant]['c_code_b'].values[0]\n",
    "             \n",
    "            part_df.loc[df_length, 'war_num'] = war_num\n",
    "            part_df.loc[df_length, 'war_name'] = war_dic[war_num]\n",
    "            part_df.loc[df_length, 'war_type'] = part_df[part_df['war_num']==war_num]['war_type'].values[0]\n",
    "            part_df.loc[df_length, 'war_type_code'] = part_df[part_df['war_num']==war_num]['war_type_code'].values[0]\n",
    "            part_df.loc[df_length, 'war_sub_type'] = part_df[part_df['war_num']==war_num]['war_sub_type'].values[0]\n",
    "            \n",
    "            part_df.loc[df_length, 'side'] = opposing_side_dic[part_df[(part_df['war_num']==war_num) & (part_df['c_code']==opposite_participant)]['side'].values[0]]\n",
    "            part_df.loc[df_length, 'battle_deaths'] = max(list(temp_df_1[temp_df_1['c_code_a']==participant]['battle_deaths_a']) + list(temp_df_1[temp_df_1['c_code_b']==participant]['battle_deaths_b']))\n",
    "            \n",
    "            part_df.loc[df_length, 'start_date'] = temp_df_2['start_date'].values[0]\n",
    "            part_df.loc[df_length, 'start_year'] = float(str(temp_df_2['start_date'].values[0])[0:4])\n",
    "            part_df.loc[df_length, 'end_date'] = pd.to_datetime(str(temp_df_2['end_date'].values[0])[0:11])\n",
    "            part_df.loc[df_length, 'end_year'] = float(str(temp_df_2['end_date'].values[0])[0:4])\n",
    "            ## no idea why days_at_war doesn't work in the function.\n",
    "            ## adding it manually here\n",
    "            ## finishing this over two lines to convert from string to int\n",
    "            part_df.loc[df_length, 'days_at_war'] = part_df.loc[df_length, 'end_date'] - part_df.loc[df_length, 'start_date']\n",
    "            part_df.loc[df_length, 'days_at_war'] = int(str(part_df.loc[df_length, 'days_at_war']).split(' ')[0])\n",
    "            ## prevent duplication in for loop\n",
    "            ## this may be an issue if they fought with more than one country\n",
    "            participant_list.append(participant)\n",
    "        else:\n",
    "            pass\n",
    "        \n",
    "\n",
    "part_df['war_num'] = part_df['war_num'].astype(float)\n",
    "part_df['start_year'] = part_df['start_year'].astype(float)\n",
    "part_df['end_year'] = part_df['end_year'].astype(float)\n",
    "\n",
    "participants_added = deepcopy(len(part_df) - original_part_df_length)\n",
    "print('Total Participants Added from Dyadic Data: {}'.format(format(participants_added, ',d')))"
   ]
  },
  {
   "cell_type": "code",
   "execution_count": 22,
   "metadata": {},
   "outputs": [
    {
     "name": "stdout",
     "output_type": "stream",
     "text": [
      "Manually adding battle deaths from Wikipedia for Thailand during WWII.\n",
      "Manually adding battle deaths from Wikipedia for Greece during Turco Cypriot.\n"
     ]
    }
   ],
   "source": [
    "# missing value for thailand battle deaths in WWII obtained from wikipedia\n",
    "# https://en.wikipedia.org/wiki/Thailand_in_World_War_II#:~:text=Thailand%20suffered%20about%205%2C569%20military,the%20brief%20Franco%2DThai%20War.\n",
    "print('Manually adding battle deaths from Wikipedia for Thailand during WWII.')\n",
    "part_df.loc[(part_df['war_num']==139) & (part_df['participant']=='Thailand'), 'battle_deaths'] = 5569\n",
    "# missing value for greece battle deaths in Turco Cypriot obtained from wikipedia\n",
    "# https://en.wikipedia.org/wiki/Turkish_invasion_of_Cyprus#:~:text=The%20violence%20resulted%20in%20the,of%2025%2C000%E2%80%9330%2C000%20Turkish%20Cypriots.\n",
    "print('Manually adding battle deaths from Wikipedia for Greece during Turco Cypriot.')\n",
    "part_df.loc[(part_df['war_num']==184) & (part_df['participant']=='Greece'), 'battle_deaths'] = 105"
   ]
  },
  {
   "cell_type": "code",
   "execution_count": 23,
   "metadata": {},
   "outputs": [],
   "source": [
    "## check for all values that were just added\n",
    "## making sure no fields are null that shouldn't be null\n",
    "# part_df.tail(len(part_df)-original_part_df_length)"
   ]
  },
  {
   "cell_type": "markdown",
   "metadata": {},
   "source": [
    "## Defining War DataFrame (One row for each war)"
   ]
  },
  {
   "cell_type": "code",
   "execution_count": 24,
   "metadata": {
    "scrolled": true
   },
   "outputs": [
    {
     "name": "stdout",
     "output_type": "stream",
     "text": [
      "Total Wars Manually Changed to Ongoing: 5\n",
      "Total Wars Marked as Ongoing: 12\n",
      "Total Wars With Name Adjustments: 422\n"
     ]
    }
   ],
   "source": [
    "part_df_copy = deepcopy(part_df)\n",
    "part_df_copy.rename({'participant': 'total_participants'}, axis=1, inplace = True)\n",
    "\n",
    "## filling these dates in arbitrarily before taking aggregates\n",
    "## high date for start_date because this will be min\n",
    "## low date for end_date because this will be max\n",
    "part_df_copy['start_date'].fillna(pd.to_datetime('2100-01-01'), inplace = True)\n",
    "part_df_copy['end_date'].fillna(pd.to_datetime('1700-01-01'), inplace = True)\n",
    "part_df_copy.rename({'ongoing_participation': 'ongoing_war'}, axis=1, inplace = True)\n",
    "\n",
    "war_name_changes = {}\n",
    "wars_changed_to_ongoing = []\n",
    "for i, war in enumerate(part_df_copy['war_name']):\n",
    "    original_war_name = part_df_copy.loc[i, 'war_name']\n",
    "    if part_df_copy.loc[i, 'ongoing_war']==1:\n",
    "        pass\n",
    "    elif 'present' in part_df_copy.loc[i, 'war_name'].lower() or 'ongoing' in part_df_copy.loc[i, 'war_name'].lower():\n",
    "        part_df_copy.loc[i, 'ongoing_war'] = 1\n",
    "        wars_changed_to_ongoing.append(part_df_copy.loc[i, 'war_num'])\n",
    "    if ' of 1' in part_df_copy.loc[i, 'war_name']:\n",
    "        part_df_copy.loc[i, 'war_name'] = part_df_copy.loc[i, 'war_name'].split(' of 1')[0].replace('  ', ' ')\n",
    "    elif ' of 2' in part_df_copy.loc[i, 'war_name']:\n",
    "        part_df_copy.loc[i, 'war_name'] = part_df_copy.loc[i, 'war_name'].split(' of 2')[0].replace('  ', ' ')\n",
    "    if part_df_copy.loc[i, 'war_name'][0]==' ':\n",
    "        part_df_copy.loc[i, 'war_name'] = part_df_copy.loc[i, 'war_name'][1:]\n",
    "    if original_war_name!=part_df_copy.loc[i, 'war_name']:\n",
    "        war_name_changes[original_war_name] = part_df_copy.loc[i, 'war_name']\n",
    "print('Total Wars Manually Changed to Ongoing: {}'.format(format(len(list(set(wars_changed_to_ongoing))), ',d')))\n",
    "print('Total Wars Marked as Ongoing: {}'.format(format(len(list(set(list(part_df_copy[part_df_copy['ongoing_war']==1]['war_num'])))), ',d')))\n",
    "print('Total Wars With Name Adjustments: {}'.format(format(len(war_name_changes.keys()), ',d')))\n",
    "# pprint(war_name_changes)"
   ]
  },
  {
   "cell_type": "code",
   "execution_count": 25,
   "metadata": {},
   "outputs": [],
   "source": [
    "aggregations = {\n",
    "    'total_participants': 'count',\n",
    "#     'potential_start_year': 'min',\n",
    "    'start_year': 'min',\n",
    "    'end_year': 'max',\n",
    "    ## this will not be accurate if there are more than one lagging/leading wars per war.\n",
    "    'lagging_war': 'min',\n",
    "    'leading_war': 'max',\n",
    "    'ongoing_war': 'max',\n",
    "    'start_date': 'min',\n",
    "    'end_date': 'max'\n",
    "    ## not sure how to add this one just yet\n",
    "#     'total_deaths_both_sides': 'max'\n",
    "    }\n",
    "\n",
    "war_df = deepcopy(part_df_copy.groupby(['war_num', 'war_name', 'war_type_code', 'war_type', 'war_sub_type']).agg(aggregations).reset_index())\n",
    "\n",
    "## putting these back to none in case they made it through the aggregation\n",
    "war_df.loc[war_df['start_date']==pd.to_datetime('2100-01-01'), 'start_date'] = None\n",
    "war_df.loc[war_df['end_date']==pd.to_datetime('1700-01-01'), 'end_date'] = None\n",
    "war_df['total_days_in_war'] = war_df['end_date'] - war_df['start_date']\n",
    "\n",
    "for i, war in enumerate(war_df['war_name']):\n",
    "    try:\n",
    "        war_df.loc[i, 'total_days_in_war'] = int(str(war_df.loc[i, 'total_days_in_war']).split(' ')[0])\n",
    "    except:\n",
    "        war_df.loc[i, 'total_days_in_war'] = None\n",
    "        \n",
    "war_df = deepcopy(war_df.sort_values(by = ['start_year', 'end_year', 'war_name'], ascending = (False, True, True)))"
   ]
  },
  {
   "cell_type": "code",
   "execution_count": 26,
   "metadata": {},
   "outputs": [
    {
     "name": "stdout",
     "output_type": "stream",
     "text": [
      "Total Participants: 1,713\n",
      "Total Dyadic Combinations: 4,120\n",
      "Total Wars: 678\n"
     ]
    }
   ],
   "source": [
    "print('Total Participants: {}'.format(format(len(part_df), ',d')))\n",
    "print('Total Dyadic Combinations: {}'.format(format(len(dyad_df), ',d')))\n",
    "print('Total Wars: {}'.format(format(len(war_df), ',d')))\n",
    "\n",
    "pickle_directory = '/Users/the_networks_of_war/data_sources/pickles/'\n",
    "\n",
    "part_df.to_pickle(pickle_directory + 'initial_part_df.pkl')\n",
    "dyad_df.to_pickle(pickle_directory + 'initial_dyad_df.pkl')\n",
    "war_df.to_pickle(pickle_directory + 'initial_war_df.pkl')"
   ]
  },
  {
   "cell_type": "code",
   "execution_count": null,
   "metadata": {},
   "outputs": [],
   "source": []
  },
  {
   "cell_type": "code",
   "execution_count": null,
   "metadata": {},
   "outputs": [],
   "source": []
  }
 ],
 "metadata": {
  "kernelspec": {
   "display_name": "Python 3",
   "language": "python",
   "name": "python3"
  },
  "language_info": {
   "codemirror_mode": {
    "name": "ipython",
    "version": 3
   },
   "file_extension": ".py",
   "mimetype": "text/x-python",
   "name": "python",
   "nbconvert_exporter": "python",
   "pygments_lexer": "ipython3",
   "version": "3.6.4"
  }
 },
 "nbformat": 4,
 "nbformat_minor": 2
}
