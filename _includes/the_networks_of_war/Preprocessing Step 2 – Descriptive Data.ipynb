{
 "cells": [
  {
   "cell_type": "code",
   "execution_count": 1,
   "metadata": {},
   "outputs": [],
   "source": [
    "import pandas as pd\n",
    "import numpy as np\n",
    "from copy import deepcopy\n",
    "from traceback import format_exc\n",
    "from pprint import pprint\n",
    "import the_networks_of_war_python_functions"
   ]
  },
  {
   "cell_type": "code",
   "execution_count": 2,
   "metadata": {},
   "outputs": [],
   "source": [
    "pd.set_option('display.max_columns', None)\n",
    "pd.set_option('display.float_format', lambda x: '%.5f' % x)"
   ]
  },
  {
   "cell_type": "code",
   "execution_count": 3,
   "metadata": {},
   "outputs": [],
   "source": [
    "csv_directory = '/Users/the_networks_of_war/data_sources/csvs/'\n",
    "pickle_directory = '/Users/the_networks_of_war/data_sources/pickles/'"
   ]
  },
  {
   "cell_type": "markdown",
   "metadata": {},
   "source": [
    "# Descriptive Statistics for Each Country by Year\n",
    "### Note: Applies to states/countries only.\n",
    "### This will be joined to the participants of each war"
   ]
  },
  {
   "cell_type": "markdown",
   "metadata": {},
   "source": [
    "### First, defining the participants by year to exclude any countries/years that will not be needed later on."
   ]
  },
  {
   "cell_type": "code",
   "execution_count": 4,
   "metadata": {},
   "outputs": [
    {
     "name": "stdout",
     "output_type": "stream",
     "text": [
      "Total Yearly Participants in Initial Data: 1,557\n"
     ]
    }
   ],
   "source": [
    "## unioning start and end years since that's how participant data will be joined in step 3\n",
    "initial_part_df_1 = pd.read_pickle(pickle_directory + 'initial_part_df.pkl')[['c_code', 'start_year']]\n",
    "initial_part_df_1.rename({'start_year': 'year'}, axis=1, inplace=True)\n",
    "## year cannot be null\n",
    "initial_part_df_1 = deepcopy(initial_part_df_1[initial_part_df_1['year'].isnull()==False])\n",
    "initial_part_df_2 = pd.read_pickle(pickle_directory + 'initial_part_df.pkl')[['c_code', 'end_year']]\n",
    "initial_part_df_2.rename({'end_year': 'year'}, axis=1, inplace=True)\n",
    "## year cannot be null\n",
    "initial_part_df_2 = deepcopy(initial_part_df_2[initial_part_df_2['year'].isnull()==False])\n",
    "\n",
    "initial_part_df = deepcopy(pd.concat([initial_part_df_1, initial_part_df_2], sort=True, ignore_index=True).reset_index(drop=True))\n",
    "\n",
    "initial_part_columns = ['c_code', 'year']\n",
    "initial_part_df.drop_duplicates(subset=initial_part_columns, keep='first', inplace = True)\n",
    "print('Total Yearly Participants in Initial Data: {}'.format(format(len(initial_part_df), ',d')))"
   ]
  },
  {
   "cell_type": "code",
   "execution_count": 5,
   "metadata": {},
   "outputs": [],
   "source": [
    "part_df_1 = pd.read_csv(csv_directory + 'alliance_v4.1_by_member_yearly.csv', encoding = 'latin-1')\n",
    "part_df_1.rename({'ccode': 'c_code',\n",
    "                  'defense': 'defense_alliances',\n",
    "                  'entente': 'entente_alliances',\n",
    "                  'neutrality': 'neutrality_alliances',\n",
    "                  'ss_type': 'alliances'}, axis = 1, inplace = True)\n",
    "\n",
    "## inner join to only include participants found in participants war data\n",
    "## this will limit runtime significantly\n",
    "part_df_1 = deepcopy(pd.merge(initial_part_df, part_df_1, how='inner', on=['c_code', 'year']))\n",
    "    \n",
    "part_df_1['defense_alliances'] = part_df_1['defense_alliances'].astype(float)\n",
    "part_df_1['entente_alliances'] = part_df_1['entente_alliances'].astype(float)\n",
    "part_df_1['neutrality_alliances'] = part_df_1['neutrality_alliances'].astype(float)\n",
    "\n",
    "aggregations = {\n",
    "    'alliances': 'count',\n",
    "    'defense_alliances': 'sum',\n",
    "    'entente_alliances': 'sum',\n",
    "    'neutrality_alliances': 'sum',\n",
    "    }\n",
    "part_df_1 = deepcopy(part_df_1.groupby(['c_code', 'year']).agg(aggregations).reset_index())\n",
    "## removing any duplicates that may have occured\n",
    "part_df_1.drop_duplicates(subset=['c_code', 'year'], keep='first', inplace = True)"
   ]
  },
  {
   "cell_type": "code",
   "execution_count": 6,
   "metadata": {},
   "outputs": [],
   "source": [
    "## dyadic trade data that will need to be adjusted to be non-dyadic (by country, by year)\n",
    "part_df_2_1 = pd.read_csv(csv_directory + 'Dyadic_COW_4.0.csv', encoding='utf8')\n",
    "part_df_2_1.rename({'ccode1': 'c_code_a',\n",
    "                    'ccode2': 'c_code_b',\n",
    "                    'flow2': 'money_flow_in_a',\n",
    "                    ## money flow out\n",
    "                    'flow1': 'money_flow_in_b'}, axis = 1, inplace = True)\n",
    "\n",
    "## need to union to take summations but won't need to dedupe because there are no duplicates between a and b.\n",
    "# this means a can be summed on its own when it's combined with b.\n",
    "switched_columns_list = ['c_code_a',\n",
    "                         'c_code_b',\n",
    "                         'money_flow_in_a',\n",
    "                         'money_flow_in_b']\n",
    "part_df_2_1 = deepcopy(the_networks_of_war_python_functions.union_opposite_columns(part_df_2_1, switched_columns_list))\n",
    "part_df_2_1.rename({'money_flow_in_a': 'money_flow_in',\n",
    "                    'money_flow_in_b': 'money_flow_out'}, axis = 1, inplace = True)\n",
    "\n",
    "aggregations = {'money_flow_in': 'sum',\n",
    "                'money_flow_out': 'sum'}\n",
    "part_df_2_1 = part_df_2_1.groupby(['c_code_a', 'year']).agg(aggregations).reset_index()\n",
    "part_df_2_1.rename({'c_code_a':'c_code'}, axis = 1, inplace = True)\n",
    "\n",
    "part_df_2_2 = pd.read_csv(csv_directory + 'National_COW_4.0.csv', encoding = 'latin-1')\n",
    "part_df_2_2.rename({'ccode': 'c_code'}, axis = 1, inplace = True)\n",
    "part_df_2_2 = deepcopy(part_df_2_2[['c_code',\n",
    "                                    'year',\n",
    "                                    'imports',\n",
    "                                    'exports']])\n",
    "\n",
    "part_df_2 = deepcopy(pd.merge(part_df_2_1, part_df_2_2, how='outer', on=['c_code', 'year']))\n",
    "\n",
    "## inner join to only include participants found in participants war data\n",
    "## this will limit runtime significantly\n",
    "part_df_2 = deepcopy(pd.merge(initial_part_df, part_df_2, how='inner', on=['c_code', 'year']))\n",
    "## removing any duplicates that may have occured\n",
    "## need to count how many of these there are\n",
    "part_df_2.drop_duplicates(subset=['c_code', 'year'], keep='first', inplace = True)"
   ]
  },
  {
   "cell_type": "code",
   "execution_count": 7,
   "metadata": {},
   "outputs": [],
   "source": [
    "# trade_df.head(3)"
   ]
  },
  {
   "cell_type": "code",
   "execution_count": 8,
   "metadata": {},
   "outputs": [],
   "source": [
    "part_df_3_renaming = {'ccode': 'c_code',\n",
    "                      'milex': 'military_expenditure',\n",
    "                      'milper': 'military_personnel',\n",
    "                      'irst': 'iron_steel_production',\n",
    "                      'pec': 'prim_energy_consumption',\n",
    "                      'tpop': 'total_population',\n",
    "                      'upop': 'urban_population',\n",
    "                      'upopgrowth': 'urban_pop_growth_rate',\n",
    "                      'cinc': 'cinc_score'}\n",
    "part_df_3_columns = list(part_df_3_renaming.values())\n",
    "part_df_3_columns.append('year')\n",
    "\n",
    "part_df_3 = pd.read_csv(csv_directory + 'NMC_5_0-wsupplementary.csv', encoding = 'latin-1')\n",
    "part_df_3.rename(part_df_3_renaming, axis = 1, inplace = True)\n",
    "\n",
    "part_df_3 = part_df_3.sort_values(by = 'year', ascending = True).reset_index(drop = True)\n",
    "part_df_3 = deepcopy(part_df_3[part_df_3_columns])\n",
    "\n",
    "## inner join to only include participants found in participants war data\n",
    "## this will limit runtime significantly\n",
    "part_df_3 = deepcopy(pd.merge(initial_part_df, part_df_3, how='inner', on=['c_code', 'year']))\n",
    "## removing any duplicates that may have occured\n",
    "part_df_3.drop_duplicates(subset=['c_code', 'year'], keep='first', inplace = True)"
   ]
  },
  {
   "cell_type": "code",
   "execution_count": 9,
   "metadata": {},
   "outputs": [],
   "source": [
    "# ## not sure that this one is worth the trouble because ccodes are not included\n",
    "# part_df_4 = pd.read_csv(csv_directory + 'co-emissions-per-capita.csv', encoding = 'latin-1')"
   ]
  },
  {
   "cell_type": "code",
   "execution_count": 10,
   "metadata": {},
   "outputs": [],
   "source": [
    "descriptive_df_1 = deepcopy(pd.merge(part_df_1, part_df_2, how='outer', on=['c_code', 'year']))\n",
    "descriptive_df_1 = deepcopy(pd.merge(descriptive_df_1, part_df_3, how='outer', on=['c_code', 'year']))\n",
    "descriptive_df_1['year'] = descriptive_df_1['year'].astype(float)"
   ]
  },
  {
   "cell_type": "code",
   "execution_count": 11,
   "metadata": {},
   "outputs": [
    {
     "name": "stdout",
     "output_type": "stream",
     "text": [
      "Total Rows of Descriptive/Yearly Participant Data: 1,360\n"
     ]
    }
   ],
   "source": [
    "print('Total Rows of Descriptive/Yearly Participant Data: {}'.format(format(len(descriptive_df_1), ',d')))\n",
    "pickle_directory = '/Users/the_networks_of_war/data_sources/pickles/'\n",
    "descriptive_df_1.to_pickle(pickle_directory + 'participant_descriptive_df.pkl')"
   ]
  },
  {
   "cell_type": "markdown",
   "metadata": {},
   "source": [
    "# Descriptive Statistics for Each Dyad by Year\n",
    "### Note: Applies to states/countries only.\n",
    "### This will be joined to the dyadic pairs for each war"
   ]
  },
  {
   "cell_type": "markdown",
   "metadata": {},
   "source": [
    "### First, defining the dyads by year to exclude any countries/years that will not be needed later on."
   ]
  },
  {
   "cell_type": "code",
   "execution_count": 12,
   "metadata": {},
   "outputs": [
    {
     "name": "stdout",
     "output_type": "stream",
     "text": [
      "Total Dyadic Years in Initial Data: 718\n"
     ]
    }
   ],
   "source": [
    "initial_dyad_columns = ['c_code_a', 'c_code_b', 'year']\n",
    "initial_dyad_df = pd.read_pickle(pickle_directory + 'initial_dyad_df.pkl')[initial_dyad_columns]\n",
    "\n",
    "## must be a state (non-state participants will not be joined below)\n",
    "## this will remove -8 and -9 participants\n",
    "## must have a valid year since all joins below are by dyad yearly\n",
    "initial_dyad_df = deepcopy(initial_dyad_df[(initial_dyad_df['c_code_a']>0) & (initial_dyad_df['c_code_b']>0) & (initial_dyad_df['year'].isnull()==False)])\n",
    "initial_dyad_df.drop_duplicates(subset=initial_dyad_columns, keep='first', inplace=True)\n",
    "initial_dyad_df = deepcopy(initial_dyad_df.reset_index(drop=True))\n",
    "\n",
    "print('Total Dyadic Years in Initial Data: {}'.format(format(int(len(initial_dyad_df)/2), ',d')))"
   ]
  },
  {
   "cell_type": "markdown",
   "metadata": {},
   "source": [
    "### Correlates of War Descriptive Data"
   ]
  },
  {
   "cell_type": "code",
   "execution_count": 13,
   "metadata": {},
   "outputs": [],
   "source": [
    "# pd.read_csv(csv_directory + 'tc2018.csv', encoding='utf8')\n",
    "\n",
    "\n",
    "# Process of Territorial Change: The process of territorial change includes six possible procedures:\n",
    "# 1. Conquest\n",
    "# 2. Annexation\n",
    "# 3. Cession\n",
    "# 4. Secession\n",
    "# 5. Unification\n",
    "# 6. Mandated territory\n",
    "\n",
    "# Portion of the Territory Exchanged: \"Portion of unit exchanged\" indicates whether part or all of\n",
    "# the unit being transferred was involved in the exchange. A \"0\" means that part of the unit was\n",
    "# transferred, a \"1\" indicates that the entire unit was involved in the exchange, and a “-9” means\n",
    "# that this could not be determined."
   ]
  },
  {
   "cell_type": "code",
   "execution_count": 14,
   "metadata": {},
   "outputs": [
    {
     "name": "stdout",
     "output_type": "stream",
     "text": [
      "Counting Total Dyadic Year Combinations by Descriptive Field\n",
      "\n",
      " inter_governmental_organizations  699\n",
      "                  trade_relations  613\n",
      "                       contiguity  305\n",
      "              diplomatic_exchange   99\n",
      "              colonial_contiguity   86\n",
      "               territory_exchange   57\n",
      "                         alliance   44\n",
      "   defense_cooperation_agreements   43\n"
     ]
    }
   ],
   "source": [
    "print('Counting Total Dyadic Year Combinations by Descriptive Field\\n')\n",
    "initial_descriptive_columns = deepcopy(set(list(initial_dyad_df.columns)))\n",
    "\n",
    "## lot's to use in this dataset so I'll start with the basics\n",
    "data_source = csv_directory + 'tc2018.csv'\n",
    "descriptive_df_2 = deepcopy(the_networks_of_war_python_functions.descriptive_dyad_from_source(initial_dyad_df, data_source, None, None, 'gainer', 'loser', 'year', 'territory_exchange'))\n",
    "\n",
    "## contiguity dataframe for states of colonial dependencies\n",
    "data_source = csv_directory + 'contcold.csv'\n",
    "descriptive_df_2 = deepcopy(the_networks_of_war_python_functions.descriptive_dyad_from_source(descriptive_df_2, data_source, None, None, 'statelno', 'statehno', 'year', 'colonial_contiguity'))\n",
    "\n",
    "data_source = csv_directory + 'contdird.csv'\n",
    "descriptive_df_2 = deepcopy(the_networks_of_war_python_functions.descriptive_dyad_from_source(descriptive_df_2, data_source, None, None, 'state1no', 'state2no', 'year', 'contiguity'))\n",
    "\n",
    "data_source = csv_directory + 'alliance_v4.1_by_dyad_yearly.csv'\n",
    "descriptive_df_2 = deepcopy(the_networks_of_war_python_functions.descriptive_dyad_from_source(descriptive_df_2, data_source, None, None, 'ccode1', 'ccode2', 'year', 'alliance'))\n",
    "\n",
    "data_source = csv_directory + 'DCAD-v1.0-dyadic.csv'\n",
    "descriptive_df_2 = deepcopy(the_networks_of_war_python_functions.descriptive_dyad_from_source(descriptive_df_2, data_source, None, None, 'ccode1', 'ccode2', 'year', 'defense_cooperation_agreements'))\n",
    "\n",
    "## must have at least one joined by both states in order to be included\n",
    "data_source = csv_directory + 'dyadic_formatv3.csv'\n",
    "descriptive_df_2 = deepcopy(the_networks_of_war_python_functions.descriptive_dyad_from_source(descriptive_df_2, data_source, None, None, 'ccode1', 'ccode2', 'year', 'inter_governmental_organizations'))\n",
    "\n",
    "## this one needs to be filled since its only 5 years\n",
    "data_source = csv_directory + 'Diplomatic_Exchange_2006v1.csv'\n",
    "descriptive_df_2 = deepcopy(the_networks_of_war_python_functions.descriptive_dyad_from_source(descriptive_df_2, data_source, None, None, 'ccode1', 'ccode2', 'year', 'diplomatic_exchange'))\n",
    "\n",
    "data_source = csv_directory + 'Dyadic_COW_4.0.csv'\n",
    "descriptive_df_2 = deepcopy(the_networks_of_war_python_functions.descriptive_dyad_from_source(descriptive_df_2, data_source, None, None, 'ccode1', 'ccode2', 'year', 'trade_relations'))\n",
    "\n",
    "the_networks_of_war_python_functions.print_new_fields(descriptive_df_2, initial_descriptive_columns, None)"
   ]
  },
  {
   "cell_type": "markdown",
   "metadata": {},
   "source": [
    "### Non-Correlates of War Descriptive Data"
   ]
  },
  {
   "cell_type": "markdown",
   "metadata": {},
   "source": [
    "### Setting up processing of 'ddrevisited_data_v1'"
   ]
  },
  {
   "cell_type": "code",
   "execution_count": 15,
   "metadata": {},
   "outputs": [],
   "source": [
    "dd_df_renaming = {'year': 'year',\n",
    "                  'cowcode': 'c_code',\n",
    "                  'cid': 'alternate_country_code',\n",
    "                  'emil': 'military_leader',\n",
    "                  'royal': 'royal_leader',\n",
    "                  'comm': 'communist_leader',\n",
    "                  'democracy': 'democratic_regime',\n",
    "                  'collect': 'collective_leadership',\n",
    "                  'regime': 'regime_type',\n",
    "                  'incumb': 'incumbent_type',\n",
    "                  'legselec': 'legislation_type',\n",
    "                  'lparty': 'legislature_parties',\n",
    "                  'dejure': 'party_legal_status',\n",
    "                  'defacto': 'party_existance'}\n",
    "dd_df_columns = list(dd_df_renaming.values())\n",
    "\n",
    "dd_df_1 = pd.read_csv(csv_directory + 'ddrevisited_data_v1.csv', encoding = 'latin-1')\n",
    "dd_df_1.rename(dd_df_renaming, axis=1, inplace=True)\n",
    "dd_df_1 = deepcopy(dd_df_1[dd_df_columns])\n",
    "\n",
    "## replacing cowcode with cowcode2 for second version\n",
    "del dd_df_renaming['cowcode']\n",
    "dd_df_renaming['cowcode2'] = 'c_code'\n",
    "dd_df_columns = list(dd_df_renaming.values())\n",
    "\n",
    "dd_df_2 = pd.read_csv(csv_directory + 'ddrevisited_data_v1.csv', encoding = 'latin-1')\n",
    "dd_df_2.rename(dd_df_renaming, axis=1, inplace=True)\n",
    "dd_df_2 = deepcopy(dd_df_2[dd_df_columns])\n",
    "\n",
    "## unioning the two ccodes above so they can both be represented\n",
    "## this will also allow for substates to be joined to the larger states\n",
    "## this will need to be recognized later on to prevent from saying same leadership when it's the same leader\n",
    "dd_df = deepcopy(pd.concat([dd_df_1, dd_df_2], sort=True, ignore_index=True))\n",
    "## removing duplicates from concat\n",
    "dd_df.drop_duplicates(subset=dd_df_columns, keep='first', inplace = True)\n",
    "\n",
    "## transforming this into a dyadic dataset (each country joined to each country)\n",
    "dd_df = deepcopy(pd.merge(dd_df, dd_df, how='left', on=['year']))\n",
    "    \n",
    "for column in dd_df.columns:\n",
    "    if column[-2:]=='_x':\n",
    "        dd_df.rename({column: column[:-2] + '_a'}, axis=1, inplace=True)\n",
    "    elif column[-2:]=='_y':\n",
    "        dd_df.rename({column: column[:-2] + '_b'}, axis=1, inplace=True)\n",
    "    else:\n",
    "        pass\n",
    "\n",
    "## inner join to only include dyads found in dyadic war data\n",
    "## this will limit runtime significantly\n",
    "dd_df = deepcopy(pd.merge(initial_dyad_df, dd_df, how='inner', on=['c_code_a', 'c_code_b', 'year']))\n",
    "\n",
    "## ensuring that c_code_a and c_code_b do not match, and cowcode and cowcode2 (overlapping states) are not joined to each other.\n",
    "dd_df = deepcopy(dd_df[(dd_df['c_code_a']!=dd_df['c_code_b']) & (dd_df['alternate_country_code_a']!=dd_df['alternate_country_code_b'])].reset_index(drop=True))\n",
    "dd_df.drop(['alternate_country_code_a',\n",
    "            'alternate_country_code_b'], axis=1, inplace=True)"
   ]
  },
  {
   "cell_type": "code",
   "execution_count": 16,
   "metadata": {},
   "outputs": [
    {
     "name": "stdout",
     "output_type": "stream",
     "text": [
      "Counting Total Dyadic Year Combinations by Descriptive Field\n",
      "\n",
      "         same_incumbent_type  195\n",
      "       same_legislation_type  157\n",
      "               dictatorships   82\n",
      "            same_leader_type   31\n",
      "            military_leaders   22\n",
      "     regime_only_legislature   11\n",
      "         single_party_states    9\n",
      "           communist_leaders    6\n",
      "          democratic_regimes    6\n",
      "              no_legislation    4\n",
      "          all_parties_banned    0\n",
      "      collective_leaderships    0\n",
      "                  no_parties    0\n",
      "               royal_leaders    0\n",
      " unconstitutional_incumbents    0\n"
     ]
    }
   ],
   "source": [
    "print('Counting Total Dyadic Year Combinations by Descriptive Field\\n')\n",
    "initial_descriptive_columns = deepcopy(set(list(descriptive_df_2.columns)))\n",
    "\n",
    "conditional_statement = (dd_df['military_leader_a']==dd_df['military_leader_b']) & (dd_df['communist_leader_a']==dd_df['communist_leader_b']) & (dd_df['royal_leader_a']==dd_df['royal_leader_b']) & (dd_df['democratic_regime_a']==dd_df['democratic_regime_b'])\n",
    "descriptive_df_2 = deepcopy(the_networks_of_war_python_functions.descriptive_dyad_from_source(descriptive_df_2, 'conditional', dd_df, conditional_statement, 'c_code_a', 'c_code_b', 'year', 'same_leader_type'))\n",
    "\n",
    "conditional_statement = (dd_df['military_leader_a']==1) & (dd_df['military_leader_b']==1)\n",
    "descriptive_df_2 = deepcopy(the_networks_of_war_python_functions.descriptive_dyad_from_source(descriptive_df_2, 'conditional', dd_df, conditional_statement, 'c_code_a', 'c_code_b', 'year', 'military_leaders'))\n",
    "\n",
    "conditional_statement = (dd_df['communist_leader_a']==1) & (dd_df['communist_leader_b']==1)\n",
    "descriptive_df_2 = deepcopy(the_networks_of_war_python_functions.descriptive_dyad_from_source(descriptive_df_2, 'conditional', dd_df, conditional_statement, 'c_code_a', 'c_code_b', 'year', 'communist_leaders'))\n",
    "\n",
    "conditional_statement = (dd_df['royal_leader_a']==1) & (dd_df['royal_leader_b']==1)\n",
    "descriptive_df_2 = deepcopy(the_networks_of_war_python_functions.descriptive_dyad_from_source(descriptive_df_2, 'conditional', dd_df, conditional_statement, 'c_code_a', 'c_code_b', 'year', 'royal_leaders'))\n",
    "\n",
    "conditional_statement = (dd_df['incumbent_type_a']==2) & (dd_df['incumbent_type_b']==2)\n",
    "descriptive_df_2 = deepcopy(the_networks_of_war_python_functions.descriptive_dyad_from_source(descriptive_df_2, 'conditional', dd_df, conditional_statement, 'c_code_a', 'c_code_b', 'year', 'unconstitutional_incumbents'))\n",
    "\n",
    "conditional_statement = ((dd_df['incumbent_type_a']==1) | (dd_df['democratic_regime_a']==1) | (dd_df['regime_type_a']==0) | (dd_df['regime_type_a']==1) | (dd_df['regime_type_a']==2)) & ((dd_df['incumbent_type_b']==1) |(dd_df['democratic_regime_b']==1) | (dd_df['regime_type_b']==0) | (dd_df['regime_type_b']==1) | (dd_df['regime_type_b']==2))\n",
    "descriptive_df_2 = deepcopy(the_networks_of_war_python_functions.descriptive_dyad_from_source(descriptive_df_2, 'conditional', dd_df, conditional_statement, 'c_code_a', 'c_code_b', 'year', 'democratic_regimes'))\n",
    "\n",
    "conditional_statement = ((dd_df['regime_type_a']==3) | (dd_df['regime_type_a']==4) | (dd_df['regime_type_a']==5)) & ((dd_df['regime_type_b']==3) | (dd_df['regime_type_b']==4) | (dd_df['regime_type_b']==5))\n",
    "descriptive_df_2 = deepcopy(the_networks_of_war_python_functions.descriptive_dyad_from_source(descriptive_df_2, 'conditional', dd_df, conditional_statement, 'c_code_a', 'c_code_b', 'year', 'dictatorships'))\n",
    "\n",
    "conditional_statement = (dd_df['collective_leadership_a']==1) & (dd_df['collective_leadership_b']==1)\n",
    "descriptive_df_2 = deepcopy(the_networks_of_war_python_functions.descriptive_dyad_from_source(descriptive_df_2, 'conditional', dd_df, conditional_statement, 'c_code_a', 'c_code_b', 'year', 'collective_leaderships'))\n",
    "\n",
    "conditional_statement = dd_df['incumbent_type_a']==dd_df['incumbent_type_b']\n",
    "descriptive_df_2 = deepcopy(the_networks_of_war_python_functions.descriptive_dyad_from_source(descriptive_df_2, 'conditional', dd_df, conditional_statement, 'c_code_a', 'c_code_b', 'year', 'same_incumbent_type'))\n",
    "\n",
    "conditional_statement = dd_df['legislation_type_a']==dd_df['legislation_type_b']\n",
    "descriptive_df_2 = deepcopy(the_networks_of_war_python_functions.descriptive_dyad_from_source(descriptive_df_2, 'conditional', dd_df, conditional_statement, 'c_code_a', 'c_code_b', 'year', 'same_legislation_type'))\n",
    "\n",
    "conditional_statement = (dd_df['legislation_type_a']==0) & (dd_df['legislation_type_b']==0)\n",
    "descriptive_df_2 = deepcopy(the_networks_of_war_python_functions.descriptive_dyad_from_source(descriptive_df_2, 'conditional', dd_df, conditional_statement, 'c_code_a', 'c_code_b', 'year', 'no_legislation'))\n",
    "\n",
    "conditional_statement = (dd_df['party_legal_status_a']==0) & (dd_df['party_legal_status_b']==0)\n",
    "descriptive_df_2 = deepcopy(the_networks_of_war_python_functions.descriptive_dyad_from_source(descriptive_df_2, 'conditional', dd_df, conditional_statement, 'c_code_a', 'c_code_b', 'year', 'all_parties_banned'))\n",
    "\n",
    "conditional_statement = (dd_df['party_existance_a']==0) & (dd_df['party_existance_b']==0)\n",
    "descriptive_df_2 = deepcopy(the_networks_of_war_python_functions.descriptive_dyad_from_source(descriptive_df_2, 'conditional', dd_df, conditional_statement, 'c_code_a', 'c_code_b', 'year', 'no_parties'))\n",
    "\n",
    "conditional_statement = (dd_df['party_existance_a']==1) & (dd_df['party_existance_b']==1)\n",
    "descriptive_df_2 = deepcopy(the_networks_of_war_python_functions.descriptive_dyad_from_source(descriptive_df_2, 'conditional', dd_df, conditional_statement, 'c_code_a', 'c_code_b', 'year', 'single_party_states'))\n",
    "\n",
    "conditional_statement = (dd_df['legislature_parties_a']==1) & (dd_df['legislature_parties_b']==1)\n",
    "descriptive_df_2 = deepcopy(the_networks_of_war_python_functions.descriptive_dyad_from_source(descriptive_df_2, 'conditional', dd_df, conditional_statement, 'c_code_a', 'c_code_b', 'year', 'regime_only_legislature'))\n",
    "\n",
    "the_networks_of_war_python_functions.print_new_fields(descriptive_df_2, initial_descriptive_columns, None)"
   ]
  },
  {
   "cell_type": "markdown",
   "metadata": {},
   "source": [
    "### Other Non-COW Data Sources"
   ]
  },
  {
   "cell_type": "code",
   "execution_count": 17,
   "metadata": {},
   "outputs": [
    {
     "name": "stdout",
     "output_type": "stream",
     "text": [
      "Counting Total Dyadic Year Combinations by Descriptive Field\n",
      "\n",
      " mtops  407\n",
      "  atop   60\n"
     ]
    }
   ],
   "source": [
    "print('Counting Total Dyadic Year Combinations by Descriptive Field\\n')\n",
    "initial_descriptive_columns = deepcopy(set(list(descriptive_df_2.columns)))\n",
    "\n",
    "# Alliance Treaty Obligations and Provisions (ATOP)\n",
    "data_source = csv_directory + 'atop4_01ddyr.csv'\n",
    "descriptive_df_2 = deepcopy(the_networks_of_war_python_functions.descriptive_dyad_from_source(descriptive_df_2, data_source, None, None, 'stateA', 'stateB', 'year', 'atop'))\n",
    "\n",
    "# The ICOW multilateral treaties of pacific settlement (MTOPS)\n",
    "data_source = csv_directory + 'mtopsd150.csv'\n",
    "mtops_dy_df = pd.read_csv(data_source, encoding='utf8')\n",
    "mtops_dy_df['total'] = mtops_dy_df['pacsettg'] + mtops_dy_df['pacsettr'] + mtops_dy_df['pacsett'] + mtops_dy_df['tergen'] + mtops_dy_df['terviol'] + mtops_dy_df['tertot']\n",
    "conditional_statement = (mtops_dy_df['total']>0)\n",
    "descriptive_df_2 = deepcopy(the_networks_of_war_python_functions.descriptive_dyad_from_source(descriptive_df_2, 'conditional', mtops_dy_df, conditional_statement, 'state1', 'state2', 'year', 'mtops'))\n",
    "the_networks_of_war_python_functions.print_new_fields(descriptive_df_2, initial_descriptive_columns, None)"
   ]
  },
  {
   "cell_type": "code",
   "execution_count": 18,
   "metadata": {},
   "outputs": [
    {
     "name": "stdout",
     "output_type": "stream",
     "text": [
      "Fields Removed: royal_leaders\n",
      "Fields Removed: unconstitutional_incumbents\n",
      "Fields Removed: collective_leaderships\n",
      "Fields Removed: no_parties\n"
     ]
    }
   ],
   "source": [
    "descriptive_columns = list(descriptive_df_2.drop(['c_code_a', 'c_code_b', 'year'], axis=1).columns)\n",
    "for column in descriptive_columns:\n",
    "    if len(descriptive_df_2[descriptive_df_2[column]>0])==0:\n",
    "        print('Fields Removed: {}'.format(column))\n",
    "        descriptive_df_2.drop(column, axis=1, inplace=True)"
   ]
  },
  {
   "cell_type": "code",
   "execution_count": 19,
   "metadata": {},
   "outputs": [
    {
     "name": "stdout",
     "output_type": "stream",
     "text": [
      "Total Dyadic Years of Descriptive Data: 718\n"
     ]
    }
   ],
   "source": [
    "print('Total Dyadic Years of Descriptive Data: {}'.format(format(int(len(descriptive_df_2)/2), ',d')))\n",
    "descriptive_df_2.to_pickle(pickle_directory + 'dyadic_descriptive_df.pkl')"
   ]
  },
  {
   "cell_type": "code",
   "execution_count": null,
   "metadata": {},
   "outputs": [],
   "source": []
  },
  {
   "cell_type": "code",
   "execution_count": null,
   "metadata": {},
   "outputs": [],
   "source": []
  },
  {
   "cell_type": "code",
   "execution_count": null,
   "metadata": {},
   "outputs": [],
   "source": []
  },
  {
   "cell_type": "code",
   "execution_count": null,
   "metadata": {},
   "outputs": [],
   "source": []
  },
  {
   "cell_type": "code",
   "execution_count": null,
   "metadata": {},
   "outputs": [],
   "source": []
  },
  {
   "cell_type": "code",
   "execution_count": null,
   "metadata": {},
   "outputs": [],
   "source": []
  },
  {
   "cell_type": "code",
   "execution_count": null,
   "metadata": {},
   "outputs": [],
   "source": []
  },
  {
   "cell_type": "code",
   "execution_count": 20,
   "metadata": {},
   "outputs": [],
   "source": [
    "# data_source = csv_directory + 'ucdp-peace-agreements-191.csv'\n",
    "# dy_df_19 = pd.read_csv(data_source, encoding='utf8')\n",
    "\n",
    "# # UCDP Conflict Termination Dataset version 2-2015\n",
    "# data_source = csv_directory + 'ucdp-term-dyadic-2015.csv'\n",
    "# dy_df_20 = pd.read_csv(data_source, encoding='utf8')\n",
    "\n",
    "# # UCDP Battle-Related Deaths Dataset version 20.1\n",
    "# data_source = csv_directory + 'UCDP Battle-Related Deaths Dataset version 20.1'\n",
    "# dy_df_21 = pd.read_csv(data_source, encoding='utf8')\n",
    "\n",
    "# # UCDP Actor Dataset version 20.1\n",
    "# data_source = csv_directory + 'ucdp-actor-201.csv'\n",
    "# dy_df_22 = pd.read_csv(data_source, encoding='utf8')\n",
    "\n",
    "# # UCDP Non-state Conflict Issues and Actors Dataset\n",
    "# data_source = csv_directory + 'UCDP_NS_IAD.csv'\n",
    "# dy_df_23 = pd.read_csv(data_source, encoding='utf8')\n",
    "\n",
    "# # UCDP External Support in Non-state Conflict Dataset\n",
    "# data_source = csv_directory + 'UCDP External Support in Non-state Conflict Dataset v.1.0.csv'\n",
    "# dy_df_24 = pd.read_csv(data_source, encoding='utf8')\n",
    "\n",
    "# # UCDP Managing Intrastate Low-intensity Conflict (MILC) dataset\n",
    "# data_source = csv_directory + 'milc-10.csv'\n",
    "# dy_df_25 = pd.read_csv(data_source, encoding='utf8')\n",
    "\n",
    "# # UCDP Managing Intrastate Conflict (MIC) dataset\n",
    "# ## more than 2 ids per conflict\n",
    "# data_source = csv_directory + 'micFINAL.csv'\n",
    "# dy_df_26 = deepcopy(the_networks_of_war_python_functions.descriptive_dyad_from_source(initial_dyad_df, data_source, None, 'contry_id', 'thirdid1', 'year', 'atop'))\n",
    "\n",
    "# # 'gwno'\n",
    "# # 'dyad_id'\n",
    "# ## only including failed peace agreements\n",
    "# dy_df_19 = deepcopy(dy_df_19[dy_df_19['ended']==True])[['gwno', 'dyad_id', 'dyad_name', 'actor_id', 'actor_name', 'year', 'duration', 'c_duration']]\n"
   ]
  },
  {
   "cell_type": "code",
   "execution_count": 21,
   "metadata": {},
   "outputs": [],
   "source": [
    "# for year in np.arange(1800, 2020):\n",
    "#     for row in dy_df_7['year']:\n",
    "#         if len(dy_df_7[dy_df_7['year']==year])== 0:\n",
    "#             temp_dyad_df = deepcopy(dy_df_7[dy_df_7['year']==year].reset_index())\n",
    "#             for i, dyad in enumerate(temp_dyad_df['year']):\n",
    "#                 dyad_df_length = deepcopy(len(dy_df_7))\n",
    "#                 dy_df_7.loc[dyad_df_length, 'year'] = year\n",
    "#                 dy_df_7.loc[dyad_df_length, 'c_code_a'] = temp_dyad_df.loc[i, 'c_code_a']\n",
    "#                 dy_df_7.loc[dyad_df_length, 'c_code_b'] = temp_dyad_df.loc[i, 'c_code_b']\n",
    "#         else:\n",
    "#             current_year = year\n",
    "            \n",
    "# dy_df_7['diplomatic_exchange'] = 1\n",
    "# print(len(dy_df_7))"
   ]
  }
 ],
 "metadata": {
  "kernelspec": {
   "display_name": "Python 3",
   "language": "python",
   "name": "python3"
  },
  "language_info": {
   "codemirror_mode": {
    "name": "ipython",
    "version": 3
   },
   "file_extension": ".py",
   "mimetype": "text/x-python",
   "name": "python",
   "nbconvert_exporter": "python",
   "pygments_lexer": "ipython3",
   "version": "3.6.4"
  }
 },
 "nbformat": 4,
 "nbformat_minor": 2
}
