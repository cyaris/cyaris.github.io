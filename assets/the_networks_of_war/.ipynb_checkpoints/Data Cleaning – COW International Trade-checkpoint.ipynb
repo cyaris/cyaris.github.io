{
 "cells": [
  {
   "cell_type": "code",
   "execution_count": 1,
   "metadata": {},
   "outputs": [],
   "source": [
    "from warnings import filterwarnings\n",
    "\n",
    "filterwarnings('ignore')"
   ]
  },
  {
   "cell_type": "code",
   "execution_count": 2,
   "metadata": {},
   "outputs": [],
   "source": [
    "from copy import deepcopy\n",
    "import pandas as pd\n",
    "import numpy as np"
   ]
  },
  {
   "cell_type": "code",
   "execution_count": 3,
   "metadata": {},
   "outputs": [],
   "source": [
    "pd.set_option('display.max_columns', None)\n",
    "pd.set_option('display.float_format', lambda x: '%.2f' % x)"
   ]
  },
  {
   "cell_type": "code",
   "execution_count": 4,
   "metadata": {},
   "outputs": [],
   "source": [
    "trade_df = pd.read_csv('/Users/the_networks_of_war/data_sources/Dyadic_COW_4.0.csv', encoding = 'utf8')\n",
    "\n",
    "trade_df.rename({'flow1': 'money_flow_1', 'flow2': 'money_flow_2',\n",
    "         'ccode1': 'c_code_1', 'ccode2': 'c_code_2',\n",
    "         'importer1': 'state_name_1', 'importer2': 'state_name_2'},\n",
    "        axis = 1, inplace = True)\n",
    "\n",
    "trade_df['c_code_1'] = trade_df['c_code_1'].astype(int)\n",
    "trade_df['c_code_2'] = trade_df['c_code_2'].astype(int)\n",
    "\n",
    "trade_df['money_flow_1'] = ([s * 1000000 for s in trade_df['money_flow_1']])\n",
    "trade_df['money_flow_2'] = ([s * 1000000 for s in trade_df['money_flow_2']])\n",
    "\n",
    "trade_df.loc[trade_df['money_flow_1'] == -9000000, 'money_flow_1'] = None\n",
    "trade_df.loc[trade_df['money_flow_2'] == -9000000, 'money_flow_2'] = None\n",
    "\n",
    "trade_df = trade_df.sort_values(by = 'year', ascending = True).reset_index()\n",
    "trade_df.drop(['source1', 'source2', 'bel_lux_alt_flow1', 'bel_lux_alt_flow2', 'china_alt_flow1', 'china_alt_flow2', 'version', 'index'], axis = 1, inplace = True)"
   ]
  },
  {
   "cell_type": "code",
   "execution_count": 5,
   "metadata": {},
   "outputs": [],
   "source": [
    "trade_df_copy = deepcopy(trade_df)\n",
    "\n",
    "trade_df_copy.rename({'c_code_1': 'c_code_1_copy', 'c_code_2':'c_code_2_copy',\n",
    "         'state_name_1': 'state_name_1_copy', 'state_name_2': 'state_name_2_copy',\n",
    "         'money_flow_1': 'money_flow_1_copy', 'money_flow_2': 'money_flow_2_copy'},\n",
    "        axis = 1, inplace = True)\n",
    "\n",
    "trade_df_copy.rename({'c_code_1_copy': 'c_code_2', 'c_code_2_copy':'c_code_1',\n",
    "         'state_name_1_copy': 'state_name_2', 'state_name_2_copy': 'state_name_1',\n",
    "         'money_flow_1_copy': 'money_flow_2', 'money_flow_2_copy': 'money_flow_1'},\n",
    "        axis = 1, inplace = True)"
   ]
  },
  {
   "cell_type": "code",
   "execution_count": 6,
   "metadata": {},
   "outputs": [],
   "source": [
    "trade_df = pd.concat([trade_df, trade_df_copy], axis = 0)\n",
    "trade_df = trade_df.sort_values(by = 'year', ascending = True).reset_index()\n",
    "trade_df.drop(['index'], axis = 1, inplace = True)"
   ]
  },
  {
   "cell_type": "code",
   "execution_count": 7,
   "metadata": {},
   "outputs": [
    {
     "data": {
      "text/plain": [
       "1773656"
      ]
     },
     "execution_count": 7,
     "metadata": {},
     "output_type": "execute_result"
    }
   ],
   "source": [
    "len(trade_df)"
   ]
  },
  {
   "cell_type": "code",
   "execution_count": 8,
   "metadata": {},
   "outputs": [
    {
     "data": {
      "text/html": [
       "<div>\n",
       "<style scoped>\n",
       "    .dataframe tbody tr th:only-of-type {\n",
       "        vertical-align: middle;\n",
       "    }\n",
       "\n",
       "    .dataframe tbody tr th {\n",
       "        vertical-align: top;\n",
       "    }\n",
       "\n",
       "    .dataframe thead th {\n",
       "        text-align: right;\n",
       "    }\n",
       "</style>\n",
       "<table border=\"1\" class=\"dataframe\">\n",
       "  <thead>\n",
       "    <tr style=\"text-align: right;\">\n",
       "      <th></th>\n",
       "      <th>c_code_1</th>\n",
       "      <th>c_code_2</th>\n",
       "      <th>dip1</th>\n",
       "      <th>dip2</th>\n",
       "      <th>money_flow_1</th>\n",
       "      <th>money_flow_2</th>\n",
       "      <th>smoothflow1</th>\n",
       "      <th>smoothflow2</th>\n",
       "      <th>smoothtotrade</th>\n",
       "      <th>spike1</th>\n",
       "      <th>spike2</th>\n",
       "      <th>state_name_1</th>\n",
       "      <th>state_name_2</th>\n",
       "      <th>tradedip</th>\n",
       "      <th>trdspike</th>\n",
       "      <th>year</th>\n",
       "    </tr>\n",
       "  </thead>\n",
       "  <tbody>\n",
       "    <tr>\n",
       "      <th>0</th>\n",
       "      <td>70</td>\n",
       "      <td>90</td>\n",
       "      <td>0</td>\n",
       "      <td>0</td>\n",
       "      <td>nan</td>\n",
       "      <td>nan</td>\n",
       "      <td>-9.00</td>\n",
       "      <td>-9.00</td>\n",
       "      <td>-9.00</td>\n",
       "      <td>0</td>\n",
       "      <td>0</td>\n",
       "      <td>Mexico</td>\n",
       "      <td>Guatemala</td>\n",
       "      <td>0</td>\n",
       "      <td>0</td>\n",
       "      <td>1870</td>\n",
       "    </tr>\n",
       "    <tr>\n",
       "      <th>1</th>\n",
       "      <td>225</td>\n",
       "      <td>155</td>\n",
       "      <td>0</td>\n",
       "      <td>0</td>\n",
       "      <td>nan</td>\n",
       "      <td>nan</td>\n",
       "      <td>-9.00</td>\n",
       "      <td>-9.00</td>\n",
       "      <td>-9.00</td>\n",
       "      <td>0</td>\n",
       "      <td>0</td>\n",
       "      <td>Switzerland</td>\n",
       "      <td>Chile</td>\n",
       "      <td>0</td>\n",
       "      <td>0</td>\n",
       "      <td>1870</td>\n",
       "    </tr>\n",
       "    <tr>\n",
       "      <th>2</th>\n",
       "      <td>220</td>\n",
       "      <td>155</td>\n",
       "      <td>0</td>\n",
       "      <td>0</td>\n",
       "      <td>nan</td>\n",
       "      <td>nan</td>\n",
       "      <td>-9.00</td>\n",
       "      <td>-9.00</td>\n",
       "      <td>-9.00</td>\n",
       "      <td>0</td>\n",
       "      <td>0</td>\n",
       "      <td>France</td>\n",
       "      <td>Chile</td>\n",
       "      <td>0</td>\n",
       "      <td>0</td>\n",
       "      <td>1870</td>\n",
       "    </tr>\n",
       "    <tr>\n",
       "      <th>3</th>\n",
       "      <td>211</td>\n",
       "      <td>155</td>\n",
       "      <td>0</td>\n",
       "      <td>0</td>\n",
       "      <td>nan</td>\n",
       "      <td>nan</td>\n",
       "      <td>-9.00</td>\n",
       "      <td>-9.00</td>\n",
       "      <td>-9.00</td>\n",
       "      <td>0</td>\n",
       "      <td>0</td>\n",
       "      <td>Belgium</td>\n",
       "      <td>Chile</td>\n",
       "      <td>0</td>\n",
       "      <td>0</td>\n",
       "      <td>1870</td>\n",
       "    </tr>\n",
       "    <tr>\n",
       "      <th>4</th>\n",
       "      <td>210</td>\n",
       "      <td>155</td>\n",
       "      <td>0</td>\n",
       "      <td>0</td>\n",
       "      <td>nan</td>\n",
       "      <td>nan</td>\n",
       "      <td>-9.00</td>\n",
       "      <td>-9.00</td>\n",
       "      <td>-9.00</td>\n",
       "      <td>0</td>\n",
       "      <td>0</td>\n",
       "      <td>Netherlands</td>\n",
       "      <td>Chile</td>\n",
       "      <td>0</td>\n",
       "      <td>0</td>\n",
       "      <td>1870</td>\n",
       "    </tr>\n",
       "  </tbody>\n",
       "</table>\n",
       "</div>"
      ],
      "text/plain": [
       "   c_code_1  c_code_2  dip1  dip2  money_flow_1  money_flow_2  smoothflow1  \\\n",
       "0        70        90     0     0           nan           nan        -9.00   \n",
       "1       225       155     0     0           nan           nan        -9.00   \n",
       "2       220       155     0     0           nan           nan        -9.00   \n",
       "3       211       155     0     0           nan           nan        -9.00   \n",
       "4       210       155     0     0           nan           nan        -9.00   \n",
       "\n",
       "   smoothflow2  smoothtotrade  spike1  spike2 state_name_1 state_name_2  \\\n",
       "0        -9.00          -9.00       0       0       Mexico    Guatemala   \n",
       "1        -9.00          -9.00       0       0  Switzerland        Chile   \n",
       "2        -9.00          -9.00       0       0       France        Chile   \n",
       "3        -9.00          -9.00       0       0      Belgium        Chile   \n",
       "4        -9.00          -9.00       0       0  Netherlands        Chile   \n",
       "\n",
       "   tradedip  trdspike  year  \n",
       "0         0         0  1870  \n",
       "1         0         0  1870  \n",
       "2         0         0  1870  \n",
       "3         0         0  1870  \n",
       "4         0         0  1870  "
      ]
     },
     "execution_count": 8,
     "metadata": {},
     "output_type": "execute_result"
    }
   ],
   "source": [
    "trade_df.head()"
   ]
  },
  {
   "cell_type": "code",
   "execution_count": 8,
   "metadata": {},
   "outputs": [],
   "source": [
    "# trade_df.to_pickle('../Pickles/trade_df.pkl')"
   ]
  },
  {
   "cell_type": "code",
   "execution_count": 9,
   "metadata": {},
   "outputs": [],
   "source": [
    "trade_combo_df = deepcopy(trade_df[trade_df['year'] >= 1946][['c_code_1', 'c_code_2']])\n",
    "\n",
    "duplicate_list = ['c_code_1', 'c_code_2']\n",
    "\n",
    "trade_combo_df.drop_duplicates(subset = duplicate_list, keep = 'first', inplace = True)\n",
    "trade_combo_df = trade_combo_df.reset_index()\n",
    "trade_combo_df.drop(['index'], axis = 1, inplace = True)"
   ]
  },
  {
   "cell_type": "code",
   "execution_count": 10,
   "metadata": {},
   "outputs": [
    {
     "data": {
      "text/plain": [
       "40030"
      ]
     },
     "execution_count": 10,
     "metadata": {},
     "output_type": "execute_result"
    }
   ],
   "source": [
    "len(trade_combo_df)"
   ]
  },
  {
   "cell_type": "code",
   "execution_count": 11,
   "metadata": {},
   "outputs": [],
   "source": [
    "for i, code in enumerate(trade_combo_df['c_code_1']):\n",
    "    trade_combo_df.loc[i, 'trade_combo'] = str(trade_combo_df['c_code_1'][i]) + ' ' + str(trade_combo_df['c_code_2'][i])"
   ]
  },
  {
   "cell_type": "code",
   "execution_count": 12,
   "metadata": {},
   "outputs": [
    {
     "data": {
      "text/plain": [
       "array(['630 355', '640 130', '670 360', ..., '345 626', '80 626',\n",
       "       '223 626'], dtype=object)"
      ]
     },
     "execution_count": 12,
     "metadata": {},
     "output_type": "execute_result"
    }
   ],
   "source": [
    "trade_combo_df['trade_combo'].unique()"
   ]
  },
  {
   "cell_type": "code",
   "execution_count": 13,
   "metadata": {},
   "outputs": [],
   "source": [
    "column_list = ['money_flow_1', 'money_flow_2']\n",
    "quad_list = ['money_flow_1', 'money_flow_2']\n",
    "trade_net_df = deepcopy(trade_df[trade_df['year'] >= 1946])\n",
    "\n",
    "for c_code in trade_combo_df['trade_combo'].unique():\n",
    "    for column in column_list:\n",
    "        data_list = list(trade_net_df[(trade_net_df['c_code_1'] == int(c_code.split()[0])) & (trade_net_df['c_code_2'] == int(c_code.split()[1]))][column].values)\n",
    "        if str(data_list).count('nan') == len(data_list):\n",
    "            trade_net_df.loc[(trade_net_df['c_code_1'] == int(c_code.split()[0])) & (trade_net_df['c_code_2'] == int(c_code.split()[1])), column] = 0\n",
    "        elif column not in quad_list and str(data_list).count('nan') <= len(data_list) - 2:\n",
    "            trade_net_df.loc[(trade_net_df['c_code_1'] == int(c_code.split()[0])) & (trade_net_df['c_code_2'] == int(c_code.split()[1])), column] = trade_net_df[(trade_net_df['c_code_1'] == int(c_code.split()[0])) & (trade_net_df['c_code_2'] == int(c_code.split()[1]))][column].interpolate()\n",
    "        elif column in quad_list and str(data_list).count('nan') <= len(data_list) - 2:\n",
    "            try:\n",
    "                trade_net_df.loc[(trade_net_df['c_code_1'] == int(c_code.split()[0])) & (trade_net_df['c_code_2'] == int(c_code.split()[1])), column] = trade_net_df[(trade_net_df['c_code_1'] == int(c_code.split()[0])) & (trade_net_df['c_code_2'] == int(c_code.split()[1]))][column].interpolate(method = 'quadratic')\n",
    "            except:\n",
    "                trade_net_df.loc[(trade_net_df['c_code_1'] == int(c_code.split()[0])) & (trade_net_df['c_code_2'] == int(c_code.split()[1])), column] = trade_net_df[(trade_net_df['c_code_1'] == int(c_code.split()[0])) & (trade_net_df['c_code_2'] == int(c_code.split()[1]))][column].bfill()\n",
    "                trade_net_df.loc[(trade_net_df['c_code_1'] == int(c_code.split()[0])) & (trade_net_df['c_code_2'] == int(c_code.split()[1])), column] = trade_net_df[(trade_net_df['c_code_1'] == int(c_code.split()[0])) & (trade_net_df['c_code_2'] == int(c_code.split()[1]))][column].ffill()\n",
    "        data_list = list(trade_net_df[(trade_net_df['c_code_1'] == int(c_code.split()[0])) & (trade_net_df['c_code_2'] == int(c_code.split()[1]))][column].values)\n",
    "        if str(data_list).count('nan') <= len(data_list) - 1:\n",
    "            trade_net_df.loc[(trade_net_df['c_code_1'] == int(c_code.split()[0])) & (trade_net_df['c_code_2'] == int(c_code.split()[1])), column] = trade_net_df[(trade_net_df['c_code_1'] == int(c_code.split()[0])) & (trade_net_df['c_code_2'] == int(c_code.split()[1]))][column].bfill()            \n",
    "            trade_net_df.loc[(trade_net_df['c_code_1'] == int(c_code.split()[0])) & (trade_net_df['c_code_2'] == int(c_code.split()[1])), column] = trade_net_df[(trade_net_df['c_code_1'] == int(c_code.split()[0])) & (trade_net_df['c_code_2'] == int(c_code.split()[1]))][column].ffill()            "
   ]
  },
  {
   "cell_type": "code",
   "execution_count": 14,
   "metadata": {},
   "outputs": [
    {
     "data": {
      "text/html": [
       "<div>\n",
       "<style scoped>\n",
       "    .dataframe tbody tr th:only-of-type {\n",
       "        vertical-align: middle;\n",
       "    }\n",
       "\n",
       "    .dataframe tbody tr th {\n",
       "        vertical-align: top;\n",
       "    }\n",
       "\n",
       "    .dataframe thead th {\n",
       "        text-align: right;\n",
       "    }\n",
       "</style>\n",
       "<table border=\"1\" class=\"dataframe\">\n",
       "  <thead>\n",
       "    <tr style=\"text-align: right;\">\n",
       "      <th></th>\n",
       "      <th>c_code_1</th>\n",
       "      <th>c_code_2</th>\n",
       "      <th>dip1</th>\n",
       "      <th>dip2</th>\n",
       "      <th>money_flow_1</th>\n",
       "      <th>money_flow_2</th>\n",
       "      <th>smoothflow1</th>\n",
       "      <th>smoothflow2</th>\n",
       "      <th>smoothtotrade</th>\n",
       "      <th>spike1</th>\n",
       "      <th>spike2</th>\n",
       "      <th>state_name_1</th>\n",
       "      <th>state_name_2</th>\n",
       "      <th>tradedip</th>\n",
       "      <th>trdspike</th>\n",
       "      <th>year</th>\n",
       "    </tr>\n",
       "  </thead>\n",
       "  <tbody>\n",
       "    <tr>\n",
       "      <th>177342</th>\n",
       "      <td>630</td>\n",
       "      <td>355</td>\n",
       "      <td>0</td>\n",
       "      <td>0</td>\n",
       "      <td>0.00</td>\n",
       "      <td>0.00</td>\n",
       "      <td>-9.00</td>\n",
       "      <td>-9.00</td>\n",
       "      <td>-9.00</td>\n",
       "      <td>0</td>\n",
       "      <td>0</td>\n",
       "      <td>Iran</td>\n",
       "      <td>Bulgaria</td>\n",
       "      <td>0</td>\n",
       "      <td>0</td>\n",
       "      <td>1946</td>\n",
       "    </tr>\n",
       "    <tr>\n",
       "      <th>177343</th>\n",
       "      <td>640</td>\n",
       "      <td>130</td>\n",
       "      <td>0</td>\n",
       "      <td>0</td>\n",
       "      <td>0.00</td>\n",
       "      <td>0.00</td>\n",
       "      <td>-9.00</td>\n",
       "      <td>-9.00</td>\n",
       "      <td>-9.00</td>\n",
       "      <td>0</td>\n",
       "      <td>0</td>\n",
       "      <td>Turkey</td>\n",
       "      <td>Ecuador</td>\n",
       "      <td>0</td>\n",
       "      <td>0</td>\n",
       "      <td>1946</td>\n",
       "    </tr>\n",
       "    <tr>\n",
       "      <th>177344</th>\n",
       "      <td>670</td>\n",
       "      <td>360</td>\n",
       "      <td>0</td>\n",
       "      <td>0</td>\n",
       "      <td>0.00</td>\n",
       "      <td>0.00</td>\n",
       "      <td>-9.00</td>\n",
       "      <td>-9.00</td>\n",
       "      <td>-9.00</td>\n",
       "      <td>0</td>\n",
       "      <td>0</td>\n",
       "      <td>Saudi Arabia</td>\n",
       "      <td>Romania</td>\n",
       "      <td>0</td>\n",
       "      <td>0</td>\n",
       "      <td>1946</td>\n",
       "    </tr>\n",
       "    <tr>\n",
       "      <th>177345</th>\n",
       "      <td>920</td>\n",
       "      <td>211</td>\n",
       "      <td>0</td>\n",
       "      <td>0</td>\n",
       "      <td>3388292.10</td>\n",
       "      <td>8085695.30</td>\n",
       "      <td>-9.00</td>\n",
       "      <td>-9.00</td>\n",
       "      <td>-9.00</td>\n",
       "      <td>0</td>\n",
       "      <td>0</td>\n",
       "      <td>New Zealand</td>\n",
       "      <td>Belgium</td>\n",
       "      <td>0</td>\n",
       "      <td>0</td>\n",
       "      <td>1946</td>\n",
       "    </tr>\n",
       "    <tr>\n",
       "      <th>177346</th>\n",
       "      <td>345</td>\n",
       "      <td>290</td>\n",
       "      <td>0</td>\n",
       "      <td>0</td>\n",
       "      <td>23000000.00</td>\n",
       "      <td>28709999.00</td>\n",
       "      <td>-9.00</td>\n",
       "      <td>-9.00</td>\n",
       "      <td>-9.00</td>\n",
       "      <td>0</td>\n",
       "      <td>0</td>\n",
       "      <td>Yugoslavia</td>\n",
       "      <td>Poland</td>\n",
       "      <td>0</td>\n",
       "      <td>0</td>\n",
       "      <td>1946</td>\n",
       "    </tr>\n",
       "  </tbody>\n",
       "</table>\n",
       "</div>"
      ],
      "text/plain": [
       "        c_code_1  c_code_2  dip1  dip2  money_flow_1  money_flow_2  \\\n",
       "177342       630       355     0     0          0.00          0.00   \n",
       "177343       640       130     0     0          0.00          0.00   \n",
       "177344       670       360     0     0          0.00          0.00   \n",
       "177345       920       211     0     0    3388292.10    8085695.30   \n",
       "177346       345       290     0     0   23000000.00   28709999.00   \n",
       "\n",
       "        smoothflow1  smoothflow2  smoothtotrade  spike1  spike2  state_name_1  \\\n",
       "177342        -9.00        -9.00          -9.00       0       0          Iran   \n",
       "177343        -9.00        -9.00          -9.00       0       0        Turkey   \n",
       "177344        -9.00        -9.00          -9.00       0       0  Saudi Arabia   \n",
       "177345        -9.00        -9.00          -9.00       0       0   New Zealand   \n",
       "177346        -9.00        -9.00          -9.00       0       0    Yugoslavia   \n",
       "\n",
       "       state_name_2  tradedip  trdspike  year  \n",
       "177342     Bulgaria         0         0  1946  \n",
       "177343      Ecuador         0         0  1946  \n",
       "177344      Romania         0         0  1946  \n",
       "177345      Belgium         0         0  1946  \n",
       "177346       Poland         0         0  1946  "
      ]
     },
     "execution_count": 14,
     "metadata": {},
     "output_type": "execute_result"
    }
   ],
   "source": [
    "trade_net_df.head()"
   ]
  },
  {
   "cell_type": "code",
   "execution_count": 15,
   "metadata": {},
   "outputs": [],
   "source": [
    "# trade_net_df.to_pickle('../Pickles/trade_net_df.pkl')"
   ]
  },
  {
   "cell_type": "code",
   "execution_count": 16,
   "metadata": {},
   "outputs": [],
   "source": [
    "# trade_net_df = pd.read_pickle('../Pickles/trade_net_df.pkl')"
   ]
  },
  {
   "cell_type": "code",
   "execution_count": 17,
   "metadata": {},
   "outputs": [],
   "source": [
    "trade_net_df.loc[trade_net_df['money_flow_1'] <= 0, 'money_flow_1'] = None\n",
    "trade_net_df.loc[trade_net_df['money_flow_2'] <= 0, 'money_flow_2'] = None"
   ]
  },
  {
   "cell_type": "code",
   "execution_count": 18,
   "metadata": {},
   "outputs": [],
   "source": [
    "for c_code in trade_combo_df['trade_combo'].unique():\n",
    "    for column in column_list:\n",
    "        data_list = list(trade_net_df[(trade_net_df['c_code_1'] == int(c_code.split()[0])) & (trade_net_df['c_code_2'] == int(c_code.split()[1]))][column].values)\n",
    "        if str(data_list).count('nan') <= len(data_list) - 1:\n",
    "            trade_net_df.loc[(trade_net_df['c_code_1'] == int(c_code.split()[0])) & (trade_net_df['c_code_2'] == int(c_code.split()[1])), column] = trade_net_df[(trade_net_df['c_code_1'] == int(c_code.split()[0])) & (trade_net_df['c_code_2'] == int(c_code.split()[1]))][column].bfill()            \n",
    "            trade_net_df.loc[(trade_net_df['c_code_1'] == int(c_code.split()[0])) & (trade_net_df['c_code_2'] == int(c_code.split()[1])), column] = trade_net_df[(trade_net_df['c_code_1'] == int(c_code.split()[0])) & (trade_net_df['c_code_2'] == int(c_code.split()[1]))][column].ffill()            "
   ]
  },
  {
   "cell_type": "code",
   "execution_count": 19,
   "metadata": {},
   "outputs": [
    {
     "data": {
      "text/html": [
       "<div>\n",
       "<style scoped>\n",
       "    .dataframe tbody tr th:only-of-type {\n",
       "        vertical-align: middle;\n",
       "    }\n",
       "\n",
       "    .dataframe tbody tr th {\n",
       "        vertical-align: top;\n",
       "    }\n",
       "\n",
       "    .dataframe thead th {\n",
       "        text-align: right;\n",
       "    }\n",
       "</style>\n",
       "<table border=\"1\" class=\"dataframe\">\n",
       "  <thead>\n",
       "    <tr style=\"text-align: right;\">\n",
       "      <th></th>\n",
       "      <th>c_code_1</th>\n",
       "      <th>c_code_2</th>\n",
       "      <th>dip1</th>\n",
       "      <th>dip2</th>\n",
       "      <th>money_flow_1</th>\n",
       "      <th>money_flow_2</th>\n",
       "      <th>smoothflow1</th>\n",
       "      <th>smoothflow2</th>\n",
       "      <th>smoothtotrade</th>\n",
       "      <th>spike1</th>\n",
       "      <th>spike2</th>\n",
       "      <th>state_name_1</th>\n",
       "      <th>state_name_2</th>\n",
       "      <th>tradedip</th>\n",
       "      <th>trdspike</th>\n",
       "      <th>year</th>\n",
       "    </tr>\n",
       "  </thead>\n",
       "  <tbody>\n",
       "  </tbody>\n",
       "</table>\n",
       "</div>"
      ],
      "text/plain": [
       "Empty DataFrame\n",
       "Columns: [c_code_1, c_code_2, dip1, dip2, money_flow_1, money_flow_2, smoothflow1, smoothflow2, smoothtotrade, spike1, spike2, state_name_1, state_name_2, tradedip, trdspike, year]\n",
       "Index: []"
      ]
     },
     "execution_count": 19,
     "metadata": {},
     "output_type": "execute_result"
    }
   ],
   "source": [
    "trade_net_df[(trade_net_df['money_flow_1'] <= 0) | (trade_net_df['money_flow_2'] <= 0)]"
   ]
  },
  {
   "cell_type": "code",
   "execution_count": 20,
   "metadata": {},
   "outputs": [
    {
     "ename": "FileNotFoundError",
     "evalue": "[Errno 2] No such file or directory: 'Pickles/country_loc_df.pkl'",
     "output_type": "error",
     "traceback": [
      "\u001b[0;31m---------------------------------------------------------------------------\u001b[0m",
      "\u001b[0;31mFileNotFoundError\u001b[0m                         Traceback (most recent call last)",
      "\u001b[0;32m~/.venvs/lpthw/lib/python3.6/site-packages/pandas/io/pickle.py\u001b[0m in \u001b[0;36mtry_read\u001b[0;34m(path, encoding)\u001b[0m\n\u001b[1;32m    165\u001b[0m                 \u001b[0mwarnings\u001b[0m\u001b[0;34m.\u001b[0m\u001b[0msimplefilter\u001b[0m\u001b[0;34m(\u001b[0m\u001b[0;34m\"ignore\"\u001b[0m\u001b[0;34m,\u001b[0m \u001b[0mWarning\u001b[0m\u001b[0;34m)\u001b[0m\u001b[0;34m\u001b[0m\u001b[0m\n\u001b[0;32m--> 166\u001b[0;31m                 \u001b[0;32mreturn\u001b[0m \u001b[0mread_wrapper\u001b[0m\u001b[0;34m(\u001b[0m\u001b[0;32mlambda\u001b[0m \u001b[0mf\u001b[0m\u001b[0;34m:\u001b[0m \u001b[0mpkl\u001b[0m\u001b[0;34m.\u001b[0m\u001b[0mload\u001b[0m\u001b[0;34m(\u001b[0m\u001b[0mf\u001b[0m\u001b[0;34m)\u001b[0m\u001b[0;34m)\u001b[0m\u001b[0;34m\u001b[0m\u001b[0m\n\u001b[0m\u001b[1;32m    167\u001b[0m         \u001b[0;32mexcept\u001b[0m \u001b[0mException\u001b[0m\u001b[0;34m:\u001b[0m  \u001b[0;31m# noqa: E722\u001b[0m\u001b[0;34m\u001b[0m\u001b[0m\n",
      "\u001b[0;32m~/.venvs/lpthw/lib/python3.6/site-packages/pandas/io/pickle.py\u001b[0m in \u001b[0;36mread_wrapper\u001b[0;34m(func)\u001b[0m\n\u001b[1;32m    145\u001b[0m                             \u001b[0mcompression\u001b[0m\u001b[0;34m=\u001b[0m\u001b[0mcompression\u001b[0m\u001b[0;34m,\u001b[0m\u001b[0;34m\u001b[0m\u001b[0m\n\u001b[0;32m--> 146\u001b[0;31m                             is_text=False)\n\u001b[0m\u001b[1;32m    147\u001b[0m         \u001b[0;32mtry\u001b[0m\u001b[0;34m:\u001b[0m\u001b[0;34m\u001b[0m\u001b[0m\n",
      "\u001b[0;32m~/.venvs/lpthw/lib/python3.6/site-packages/pandas/io/common.py\u001b[0m in \u001b[0;36m_get_handle\u001b[0;34m(path_or_buf, mode, encoding, compression, memory_map, is_text)\u001b[0m\n\u001b[1;32m    429\u001b[0m             \u001b[0;31m# Python 3 and binary mode\u001b[0m\u001b[0;34m\u001b[0m\u001b[0;34m\u001b[0m\u001b[0m\n\u001b[0;32m--> 430\u001b[0;31m             \u001b[0mf\u001b[0m \u001b[0;34m=\u001b[0m \u001b[0mopen\u001b[0m\u001b[0;34m(\u001b[0m\u001b[0mpath_or_buf\u001b[0m\u001b[0;34m,\u001b[0m \u001b[0mmode\u001b[0m\u001b[0;34m)\u001b[0m\u001b[0;34m\u001b[0m\u001b[0m\n\u001b[0m\u001b[1;32m    431\u001b[0m         \u001b[0mhandles\u001b[0m\u001b[0;34m.\u001b[0m\u001b[0mappend\u001b[0m\u001b[0;34m(\u001b[0m\u001b[0mf\u001b[0m\u001b[0;34m)\u001b[0m\u001b[0;34m\u001b[0m\u001b[0m\n",
      "\u001b[0;31mFileNotFoundError\u001b[0m: [Errno 2] No such file or directory: 'Pickles/country_loc_df.pkl'",
      "\nDuring handling of the above exception, another exception occurred:\n",
      "\u001b[0;31mFileNotFoundError\u001b[0m                         Traceback (most recent call last)",
      "\u001b[0;32m~/.venvs/lpthw/lib/python3.6/site-packages/pandas/io/pickle.py\u001b[0m in \u001b[0;36mtry_read\u001b[0;34m(path, encoding)\u001b[0m\n\u001b[1;32m    172\u001b[0m                 return read_wrapper(\n\u001b[0;32m--> 173\u001b[0;31m                     lambda f: pc.load(f, encoding=encoding, compat=False))\n\u001b[0m\u001b[1;32m    174\u001b[0m             \u001b[0;31m# compat pickle\u001b[0m\u001b[0;34m\u001b[0m\u001b[0;34m\u001b[0m\u001b[0m\n",
      "\u001b[0;32m~/.venvs/lpthw/lib/python3.6/site-packages/pandas/io/pickle.py\u001b[0m in \u001b[0;36mread_wrapper\u001b[0;34m(func)\u001b[0m\n\u001b[1;32m    145\u001b[0m                             \u001b[0mcompression\u001b[0m\u001b[0;34m=\u001b[0m\u001b[0mcompression\u001b[0m\u001b[0;34m,\u001b[0m\u001b[0;34m\u001b[0m\u001b[0m\n\u001b[0;32m--> 146\u001b[0;31m                             is_text=False)\n\u001b[0m\u001b[1;32m    147\u001b[0m         \u001b[0;32mtry\u001b[0m\u001b[0;34m:\u001b[0m\u001b[0;34m\u001b[0m\u001b[0m\n",
      "\u001b[0;32m~/.venvs/lpthw/lib/python3.6/site-packages/pandas/io/common.py\u001b[0m in \u001b[0;36m_get_handle\u001b[0;34m(path_or_buf, mode, encoding, compression, memory_map, is_text)\u001b[0m\n\u001b[1;32m    429\u001b[0m             \u001b[0;31m# Python 3 and binary mode\u001b[0m\u001b[0;34m\u001b[0m\u001b[0;34m\u001b[0m\u001b[0m\n\u001b[0;32m--> 430\u001b[0;31m             \u001b[0mf\u001b[0m \u001b[0;34m=\u001b[0m \u001b[0mopen\u001b[0m\u001b[0;34m(\u001b[0m\u001b[0mpath_or_buf\u001b[0m\u001b[0;34m,\u001b[0m \u001b[0mmode\u001b[0m\u001b[0;34m)\u001b[0m\u001b[0;34m\u001b[0m\u001b[0m\n\u001b[0m\u001b[1;32m    431\u001b[0m         \u001b[0mhandles\u001b[0m\u001b[0;34m.\u001b[0m\u001b[0mappend\u001b[0m\u001b[0;34m(\u001b[0m\u001b[0mf\u001b[0m\u001b[0;34m)\u001b[0m\u001b[0;34m\u001b[0m\u001b[0m\n",
      "\u001b[0;31mFileNotFoundError\u001b[0m: [Errno 2] No such file or directory: 'Pickles/country_loc_df.pkl'",
      "\nDuring handling of the above exception, another exception occurred:\n",
      "\u001b[0;31mFileNotFoundError\u001b[0m                         Traceback (most recent call last)",
      "\u001b[0;32m~/.venvs/lpthw/lib/python3.6/site-packages/pandas/io/pickle.py\u001b[0m in \u001b[0;36mread_pickle\u001b[0;34m(path, compression)\u001b[0m\n\u001b[1;32m    178\u001b[0m     \u001b[0;32mtry\u001b[0m\u001b[0;34m:\u001b[0m\u001b[0;34m\u001b[0m\u001b[0m\n\u001b[0;32m--> 179\u001b[0;31m         \u001b[0;32mreturn\u001b[0m \u001b[0mtry_read\u001b[0m\u001b[0;34m(\u001b[0m\u001b[0mpath\u001b[0m\u001b[0;34m)\u001b[0m\u001b[0;34m\u001b[0m\u001b[0m\n\u001b[0m\u001b[1;32m    180\u001b[0m     \u001b[0;32mexcept\u001b[0m \u001b[0mException\u001b[0m\u001b[0;34m:\u001b[0m  \u001b[0;31m# noqa: E722\u001b[0m\u001b[0;34m\u001b[0m\u001b[0m\n",
      "\u001b[0;32m~/.venvs/lpthw/lib/python3.6/site-packages/pandas/io/pickle.py\u001b[0m in \u001b[0;36mtry_read\u001b[0;34m(path, encoding)\u001b[0m\n\u001b[1;32m    176\u001b[0m                 return read_wrapper(\n\u001b[0;32m--> 177\u001b[0;31m                     lambda f: pc.load(f, encoding=encoding, compat=True))\n\u001b[0m\u001b[1;32m    178\u001b[0m     \u001b[0;32mtry\u001b[0m\u001b[0;34m:\u001b[0m\u001b[0;34m\u001b[0m\u001b[0m\n",
      "\u001b[0;32m~/.venvs/lpthw/lib/python3.6/site-packages/pandas/io/pickle.py\u001b[0m in \u001b[0;36mread_wrapper\u001b[0;34m(func)\u001b[0m\n\u001b[1;32m    145\u001b[0m                             \u001b[0mcompression\u001b[0m\u001b[0;34m=\u001b[0m\u001b[0mcompression\u001b[0m\u001b[0;34m,\u001b[0m\u001b[0;34m\u001b[0m\u001b[0m\n\u001b[0;32m--> 146\u001b[0;31m                             is_text=False)\n\u001b[0m\u001b[1;32m    147\u001b[0m         \u001b[0;32mtry\u001b[0m\u001b[0;34m:\u001b[0m\u001b[0;34m\u001b[0m\u001b[0m\n",
      "\u001b[0;32m~/.venvs/lpthw/lib/python3.6/site-packages/pandas/io/common.py\u001b[0m in \u001b[0;36m_get_handle\u001b[0;34m(path_or_buf, mode, encoding, compression, memory_map, is_text)\u001b[0m\n\u001b[1;32m    429\u001b[0m             \u001b[0;31m# Python 3 and binary mode\u001b[0m\u001b[0;34m\u001b[0m\u001b[0;34m\u001b[0m\u001b[0m\n\u001b[0;32m--> 430\u001b[0;31m             \u001b[0mf\u001b[0m \u001b[0;34m=\u001b[0m \u001b[0mopen\u001b[0m\u001b[0;34m(\u001b[0m\u001b[0mpath_or_buf\u001b[0m\u001b[0;34m,\u001b[0m \u001b[0mmode\u001b[0m\u001b[0;34m)\u001b[0m\u001b[0;34m\u001b[0m\u001b[0m\n\u001b[0m\u001b[1;32m    431\u001b[0m         \u001b[0mhandles\u001b[0m\u001b[0;34m.\u001b[0m\u001b[0mappend\u001b[0m\u001b[0;34m(\u001b[0m\u001b[0mf\u001b[0m\u001b[0;34m)\u001b[0m\u001b[0;34m\u001b[0m\u001b[0m\n",
      "\u001b[0;31mFileNotFoundError\u001b[0m: [Errno 2] No such file or directory: 'Pickles/country_loc_df.pkl'",
      "\nDuring handling of the above exception, another exception occurred:\n",
      "\u001b[0;31mFileNotFoundError\u001b[0m                         Traceback (most recent call last)",
      "\u001b[0;32m~/.venvs/lpthw/lib/python3.6/site-packages/pandas/io/pickle.py\u001b[0m in \u001b[0;36mtry_read\u001b[0;34m(path, encoding)\u001b[0m\n\u001b[1;32m    165\u001b[0m                 \u001b[0mwarnings\u001b[0m\u001b[0;34m.\u001b[0m\u001b[0msimplefilter\u001b[0m\u001b[0;34m(\u001b[0m\u001b[0;34m\"ignore\"\u001b[0m\u001b[0;34m,\u001b[0m \u001b[0mWarning\u001b[0m\u001b[0;34m)\u001b[0m\u001b[0;34m\u001b[0m\u001b[0m\n\u001b[0;32m--> 166\u001b[0;31m                 \u001b[0;32mreturn\u001b[0m \u001b[0mread_wrapper\u001b[0m\u001b[0;34m(\u001b[0m\u001b[0;32mlambda\u001b[0m \u001b[0mf\u001b[0m\u001b[0;34m:\u001b[0m \u001b[0mpkl\u001b[0m\u001b[0;34m.\u001b[0m\u001b[0mload\u001b[0m\u001b[0;34m(\u001b[0m\u001b[0mf\u001b[0m\u001b[0;34m)\u001b[0m\u001b[0;34m)\u001b[0m\u001b[0;34m\u001b[0m\u001b[0m\n\u001b[0m\u001b[1;32m    167\u001b[0m         \u001b[0;32mexcept\u001b[0m \u001b[0mException\u001b[0m\u001b[0;34m:\u001b[0m  \u001b[0;31m# noqa: E722\u001b[0m\u001b[0;34m\u001b[0m\u001b[0m\n",
      "\u001b[0;32m~/.venvs/lpthw/lib/python3.6/site-packages/pandas/io/pickle.py\u001b[0m in \u001b[0;36mread_wrapper\u001b[0;34m(func)\u001b[0m\n\u001b[1;32m    145\u001b[0m                             \u001b[0mcompression\u001b[0m\u001b[0;34m=\u001b[0m\u001b[0mcompression\u001b[0m\u001b[0;34m,\u001b[0m\u001b[0;34m\u001b[0m\u001b[0m\n\u001b[0;32m--> 146\u001b[0;31m                             is_text=False)\n\u001b[0m\u001b[1;32m    147\u001b[0m         \u001b[0;32mtry\u001b[0m\u001b[0;34m:\u001b[0m\u001b[0;34m\u001b[0m\u001b[0m\n",
      "\u001b[0;32m~/.venvs/lpthw/lib/python3.6/site-packages/pandas/io/common.py\u001b[0m in \u001b[0;36m_get_handle\u001b[0;34m(path_or_buf, mode, encoding, compression, memory_map, is_text)\u001b[0m\n\u001b[1;32m    429\u001b[0m             \u001b[0;31m# Python 3 and binary mode\u001b[0m\u001b[0;34m\u001b[0m\u001b[0;34m\u001b[0m\u001b[0m\n\u001b[0;32m--> 430\u001b[0;31m             \u001b[0mf\u001b[0m \u001b[0;34m=\u001b[0m \u001b[0mopen\u001b[0m\u001b[0;34m(\u001b[0m\u001b[0mpath_or_buf\u001b[0m\u001b[0;34m,\u001b[0m \u001b[0mmode\u001b[0m\u001b[0;34m)\u001b[0m\u001b[0;34m\u001b[0m\u001b[0m\n\u001b[0m\u001b[1;32m    431\u001b[0m         \u001b[0mhandles\u001b[0m\u001b[0;34m.\u001b[0m\u001b[0mappend\u001b[0m\u001b[0;34m(\u001b[0m\u001b[0mf\u001b[0m\u001b[0;34m)\u001b[0m\u001b[0;34m\u001b[0m\u001b[0m\n",
      "\u001b[0;31mFileNotFoundError\u001b[0m: [Errno 2] No such file or directory: 'Pickles/country_loc_df.pkl'",
      "\nDuring handling of the above exception, another exception occurred:\n",
      "\u001b[0;31mFileNotFoundError\u001b[0m                         Traceback (most recent call last)",
      "\u001b[0;32m~/.venvs/lpthw/lib/python3.6/site-packages/pandas/io/pickle.py\u001b[0m in \u001b[0;36mtry_read\u001b[0;34m(path, encoding)\u001b[0m\n\u001b[1;32m    172\u001b[0m                 return read_wrapper(\n\u001b[0;32m--> 173\u001b[0;31m                     lambda f: pc.load(f, encoding=encoding, compat=False))\n\u001b[0m\u001b[1;32m    174\u001b[0m             \u001b[0;31m# compat pickle\u001b[0m\u001b[0;34m\u001b[0m\u001b[0;34m\u001b[0m\u001b[0m\n",
      "\u001b[0;32m~/.venvs/lpthw/lib/python3.6/site-packages/pandas/io/pickle.py\u001b[0m in \u001b[0;36mread_wrapper\u001b[0;34m(func)\u001b[0m\n\u001b[1;32m    145\u001b[0m                             \u001b[0mcompression\u001b[0m\u001b[0;34m=\u001b[0m\u001b[0mcompression\u001b[0m\u001b[0;34m,\u001b[0m\u001b[0;34m\u001b[0m\u001b[0m\n\u001b[0;32m--> 146\u001b[0;31m                             is_text=False)\n\u001b[0m\u001b[1;32m    147\u001b[0m         \u001b[0;32mtry\u001b[0m\u001b[0;34m:\u001b[0m\u001b[0;34m\u001b[0m\u001b[0m\n",
      "\u001b[0;32m~/.venvs/lpthw/lib/python3.6/site-packages/pandas/io/common.py\u001b[0m in \u001b[0;36m_get_handle\u001b[0;34m(path_or_buf, mode, encoding, compression, memory_map, is_text)\u001b[0m\n\u001b[1;32m    429\u001b[0m             \u001b[0;31m# Python 3 and binary mode\u001b[0m\u001b[0;34m\u001b[0m\u001b[0;34m\u001b[0m\u001b[0m\n\u001b[0;32m--> 430\u001b[0;31m             \u001b[0mf\u001b[0m \u001b[0;34m=\u001b[0m \u001b[0mopen\u001b[0m\u001b[0;34m(\u001b[0m\u001b[0mpath_or_buf\u001b[0m\u001b[0;34m,\u001b[0m \u001b[0mmode\u001b[0m\u001b[0;34m)\u001b[0m\u001b[0;34m\u001b[0m\u001b[0m\n\u001b[0m\u001b[1;32m    431\u001b[0m         \u001b[0mhandles\u001b[0m\u001b[0;34m.\u001b[0m\u001b[0mappend\u001b[0m\u001b[0;34m(\u001b[0m\u001b[0mf\u001b[0m\u001b[0;34m)\u001b[0m\u001b[0;34m\u001b[0m\u001b[0m\n",
      "\u001b[0;31mFileNotFoundError\u001b[0m: [Errno 2] No such file or directory: 'Pickles/country_loc_df.pkl'",
      "\nDuring handling of the above exception, another exception occurred:\n",
      "\u001b[0;31mFileNotFoundError\u001b[0m                         Traceback (most recent call last)",
      "\u001b[0;32m<ipython-input-20-3ec065a883b3>\u001b[0m in \u001b[0;36m<module>\u001b[0;34m\u001b[0m\n\u001b[0;32m----> 1\u001b[0;31m \u001b[0mcountry_loc_df\u001b[0m \u001b[0;34m=\u001b[0m \u001b[0mpd\u001b[0m\u001b[0;34m.\u001b[0m\u001b[0mread_pickle\u001b[0m\u001b[0;34m(\u001b[0m\u001b[0;34m'Pickles/country_loc_df.pkl'\u001b[0m\u001b[0;34m)\u001b[0m\u001b[0;34m\u001b[0m\u001b[0m\n\u001b[0m\u001b[1;32m      2\u001b[0m \u001b[0;34m\u001b[0m\u001b[0m\n\u001b[1;32m      3\u001b[0m \u001b[0mtrade_net_df\u001b[0m \u001b[0;34m=\u001b[0m \u001b[0mdeepcopy\u001b[0m\u001b[0;34m(\u001b[0m\u001b[0mpd\u001b[0m\u001b[0;34m.\u001b[0m\u001b[0mmerge\u001b[0m\u001b[0;34m(\u001b[0m\u001b[0mcountry_loc_df\u001b[0m\u001b[0;34m,\u001b[0m \u001b[0mtrade_net_df\u001b[0m\u001b[0;34m,\u001b[0m \u001b[0mhow\u001b[0m \u001b[0;34m=\u001b[0m \u001b[0;34m'inner'\u001b[0m\u001b[0;34m,\u001b[0m \u001b[0mon\u001b[0m \u001b[0;34m=\u001b[0m \u001b[0;34m[\u001b[0m\u001b[0;34m'c_code_1'\u001b[0m\u001b[0;34m]\u001b[0m\u001b[0;34m)\u001b[0m\u001b[0;34m)\u001b[0m\u001b[0;34m\u001b[0m\u001b[0m\n\u001b[1;32m      4\u001b[0m \u001b[0mtrade_net_df\u001b[0m\u001b[0;34m.\u001b[0m\u001b[0mrename\u001b[0m\u001b[0;34m(\u001b[0m\u001b[0;34m{\u001b[0m\u001b[0;34m'un_region'\u001b[0m\u001b[0;34m:\u001b[0m \u001b[0;34m'un_region_1'\u001b[0m\u001b[0;34m,\u001b[0m \u001b[0;34m'un_continent'\u001b[0m\u001b[0;34m:\u001b[0m \u001b[0;34m'un_continent_1'\u001b[0m\u001b[0;34m}\u001b[0m\u001b[0;34m,\u001b[0m \u001b[0maxis\u001b[0m \u001b[0;34m=\u001b[0m \u001b[0;36m1\u001b[0m\u001b[0;34m,\u001b[0m \u001b[0minplace\u001b[0m \u001b[0;34m=\u001b[0m \u001b[0;32mTrue\u001b[0m\u001b[0;34m)\u001b[0m\u001b[0;34m\u001b[0m\u001b[0m\n\u001b[1;32m      5\u001b[0m \u001b[0mtrade_net_df\u001b[0m\u001b[0;34m.\u001b[0m\u001b[0mdrop\u001b[0m\u001b[0;34m(\u001b[0m\u001b[0;34m[\u001b[0m\u001b[0;34m'num_years'\u001b[0m\u001b[0;34m]\u001b[0m\u001b[0;34m,\u001b[0m \u001b[0maxis\u001b[0m \u001b[0;34m=\u001b[0m \u001b[0;36m1\u001b[0m\u001b[0;34m,\u001b[0m \u001b[0minplace\u001b[0m \u001b[0;34m=\u001b[0m \u001b[0;32mTrue\u001b[0m\u001b[0;34m)\u001b[0m\u001b[0;34m\u001b[0m\u001b[0m\n",
      "\u001b[0;32m~/.venvs/lpthw/lib/python3.6/site-packages/pandas/io/pickle.py\u001b[0m in \u001b[0;36mread_pickle\u001b[0;34m(path, compression)\u001b[0m\n\u001b[1;32m    180\u001b[0m     \u001b[0;32mexcept\u001b[0m \u001b[0mException\u001b[0m\u001b[0;34m:\u001b[0m  \u001b[0;31m# noqa: E722\u001b[0m\u001b[0;34m\u001b[0m\u001b[0m\n\u001b[1;32m    181\u001b[0m         \u001b[0;32mif\u001b[0m \u001b[0mPY3\u001b[0m\u001b[0;34m:\u001b[0m\u001b[0;34m\u001b[0m\u001b[0m\n\u001b[0;32m--> 182\u001b[0;31m             \u001b[0;32mreturn\u001b[0m \u001b[0mtry_read\u001b[0m\u001b[0;34m(\u001b[0m\u001b[0mpath\u001b[0m\u001b[0;34m,\u001b[0m \u001b[0mencoding\u001b[0m\u001b[0;34m=\u001b[0m\u001b[0;34m'latin1'\u001b[0m\u001b[0;34m)\u001b[0m\u001b[0;34m\u001b[0m\u001b[0m\n\u001b[0m\u001b[1;32m    183\u001b[0m         \u001b[0;32mraise\u001b[0m\u001b[0;34m\u001b[0m\u001b[0m\n\u001b[1;32m    184\u001b[0m \u001b[0;34m\u001b[0m\u001b[0m\n",
      "\u001b[0;32m~/.venvs/lpthw/lib/python3.6/site-packages/pandas/io/pickle.py\u001b[0m in \u001b[0;36mtry_read\u001b[0;34m(path, encoding)\u001b[0m\n\u001b[1;32m    175\u001b[0m             \u001b[0;32mexcept\u001b[0m \u001b[0mException\u001b[0m\u001b[0;34m:\u001b[0m  \u001b[0;31m# noqa: E722\u001b[0m\u001b[0;34m\u001b[0m\u001b[0m\n\u001b[1;32m    176\u001b[0m                 return read_wrapper(\n\u001b[0;32m--> 177\u001b[0;31m                     lambda f: pc.load(f, encoding=encoding, compat=True))\n\u001b[0m\u001b[1;32m    178\u001b[0m     \u001b[0;32mtry\u001b[0m\u001b[0;34m:\u001b[0m\u001b[0;34m\u001b[0m\u001b[0m\n\u001b[1;32m    179\u001b[0m         \u001b[0;32mreturn\u001b[0m \u001b[0mtry_read\u001b[0m\u001b[0;34m(\u001b[0m\u001b[0mpath\u001b[0m\u001b[0;34m)\u001b[0m\u001b[0;34m\u001b[0m\u001b[0m\n",
      "\u001b[0;32m~/.venvs/lpthw/lib/python3.6/site-packages/pandas/io/pickle.py\u001b[0m in \u001b[0;36mread_wrapper\u001b[0;34m(func)\u001b[0m\n\u001b[1;32m    144\u001b[0m         f, fh = _get_handle(path, 'rb',\n\u001b[1;32m    145\u001b[0m                             \u001b[0mcompression\u001b[0m\u001b[0;34m=\u001b[0m\u001b[0mcompression\u001b[0m\u001b[0;34m,\u001b[0m\u001b[0;34m\u001b[0m\u001b[0m\n\u001b[0;32m--> 146\u001b[0;31m                             is_text=False)\n\u001b[0m\u001b[1;32m    147\u001b[0m         \u001b[0;32mtry\u001b[0m\u001b[0;34m:\u001b[0m\u001b[0;34m\u001b[0m\u001b[0m\n\u001b[1;32m    148\u001b[0m             \u001b[0;32mreturn\u001b[0m \u001b[0mfunc\u001b[0m\u001b[0;34m(\u001b[0m\u001b[0mf\u001b[0m\u001b[0;34m)\u001b[0m\u001b[0;34m\u001b[0m\u001b[0m\n",
      "\u001b[0;32m~/.venvs/lpthw/lib/python3.6/site-packages/pandas/io/common.py\u001b[0m in \u001b[0;36m_get_handle\u001b[0;34m(path_or_buf, mode, encoding, compression, memory_map, is_text)\u001b[0m\n\u001b[1;32m    428\u001b[0m         \u001b[0;32melse\u001b[0m\u001b[0;34m:\u001b[0m\u001b[0;34m\u001b[0m\u001b[0m\n\u001b[1;32m    429\u001b[0m             \u001b[0;31m# Python 3 and binary mode\u001b[0m\u001b[0;34m\u001b[0m\u001b[0;34m\u001b[0m\u001b[0m\n\u001b[0;32m--> 430\u001b[0;31m             \u001b[0mf\u001b[0m \u001b[0;34m=\u001b[0m \u001b[0mopen\u001b[0m\u001b[0;34m(\u001b[0m\u001b[0mpath_or_buf\u001b[0m\u001b[0;34m,\u001b[0m \u001b[0mmode\u001b[0m\u001b[0;34m)\u001b[0m\u001b[0;34m\u001b[0m\u001b[0m\n\u001b[0m\u001b[1;32m    431\u001b[0m         \u001b[0mhandles\u001b[0m\u001b[0;34m.\u001b[0m\u001b[0mappend\u001b[0m\u001b[0;34m(\u001b[0m\u001b[0mf\u001b[0m\u001b[0;34m)\u001b[0m\u001b[0;34m\u001b[0m\u001b[0m\n\u001b[1;32m    432\u001b[0m \u001b[0;34m\u001b[0m\u001b[0m\n",
      "\u001b[0;31mFileNotFoundError\u001b[0m: [Errno 2] No such file or directory: 'Pickles/country_loc_df.pkl'"
     ]
    }
   ],
   "source": [
    "country_loc_df = pd.read_pickle('Pickles/country_loc_df.pkl')\n",
    "\n",
    "trade_net_df = deepcopy(pd.merge(country_loc_df, trade_net_df, how = 'inner', on = ['c_code_1']))\n",
    "trade_net_df.rename({'un_region': 'un_region_1', 'un_continent': 'un_continent_1'}, axis = 1, inplace = True)\n",
    "trade_net_df.drop(['num_years'], axis = 1, inplace = True)\n",
    "\n",
    "country_loc_df.rename({'c_code_1': 'c_code_2'}, axis = 1, inplace = True)\n",
    "\n",
    "trade_net_df = deepcopy(pd.merge(country_loc_df, trade_net_df, how = 'inner', on = ['c_code_2']))\n",
    "trade_net_df.rename({'un_region': 'un_region_2', 'un_continent': 'un_continent_2'}, axis = 1, inplace = True)\n",
    "trade_net_df.drop(['num_years'], axis = 1, inplace = True)"
   ]
  },
  {
   "cell_type": "code",
   "execution_count": null,
   "metadata": {},
   "outputs": [],
   "source": [
    "trade_net_df.to_pickle('../Pickles/trade_net_df.pkl')"
   ]
  },
  {
   "cell_type": "code",
   "execution_count": null,
   "metadata": {},
   "outputs": [],
   "source": [
    "aggregations = {\n",
    "    'c_code_2': 'count',\n",
    "    'money_flow_1': 'sum',\n",
    "    'money_flow_2': 'sum',\n",
    "  }\n",
    "\n",
    "trade_df_group = trade_df.groupby(['c_code_1', 'state_name_1', 'year']).agg(aggregations).reset_index()\n",
    "trade_df_group.rename({'c_code_2': 'num_trade_states', 'money_flow_1': 'export_dollars', 'money_flow_2': 'import_dollars'}, axis = 1, inplace = True)"
   ]
  },
  {
   "cell_type": "code",
   "execution_count": null,
   "metadata": {},
   "outputs": [],
   "source": [
    "trade_df_group.to_pickle('../Pickles/trade_df_group.pkl')"
   ]
  },
  {
   "cell_type": "code",
   "execution_count": null,
   "metadata": {},
   "outputs": [],
   "source": [
    "print(len(trade_net_df[trade_net_df['money_flow_1'] <= 0]))\n",
    "print(len(trade_net_df[trade_net_df['money_flow_2'] <= 0]))"
   ]
  },
  {
   "cell_type": "code",
   "execution_count": null,
   "metadata": {},
   "outputs": [],
   "source": []
  }
 ],
 "metadata": {
  "kernelspec": {
   "display_name": "Python 3",
   "language": "python",
   "name": "python3"
  },
  "language_info": {
   "codemirror_mode": {
    "name": "ipython",
    "version": 3
   },
   "file_extension": ".py",
   "mimetype": "text/x-python",
   "name": "python",
   "nbconvert_exporter": "python",
   "pygments_lexer": "ipython3",
   "version": "3.6.4"
  }
 },
 "nbformat": 4,
 "nbformat_minor": 2
}
