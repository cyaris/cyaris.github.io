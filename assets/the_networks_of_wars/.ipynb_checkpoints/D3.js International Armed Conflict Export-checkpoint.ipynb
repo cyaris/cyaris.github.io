{
 "cells": [
  {
   "cell_type": "code",
   "execution_count": 1,
   "metadata": {},
   "outputs": [],
   "source": [
    "from warnings import filterwarnings\n",
    "\n",
    "filterwarnings('ignore')\n",
    "\n",
    "import pandas as pd\n",
    "import numpy as np\n",
    "from copy import deepcopy"
   ]
  },
  {
   "cell_type": "code",
   "execution_count": 2,
   "metadata": {},
   "outputs": [],
   "source": [
    "pd.set_option('display.max_columns', None)"
   ]
  },
  {
   "cell_type": "code",
   "execution_count": 3,
   "metadata": {},
   "outputs": [
    {
     "data": {
      "text/plain": [
       "'/Users/charlieyaris/github/cyaris.github.io/assets/the_networks_of_wars'"
      ]
     },
     "execution_count": 3,
     "metadata": {},
     "output_type": "execute_result"
    }
   ],
   "source": [
    "pwd"
   ]
  },
  {
   "cell_type": "code",
   "execution_count": 4,
   "metadata": {},
   "outputs": [
    {
     "data": {
      "text/html": [
       "<div>\n",
       "<style scoped>\n",
       "    .dataframe tbody tr th:only-of-type {\n",
       "        vertical-align: middle;\n",
       "    }\n",
       "\n",
       "    .dataframe tbody tr th {\n",
       "        vertical-align: top;\n",
       "    }\n",
       "\n",
       "    .dataframe thead th {\n",
       "        text-align: right;\n",
       "    }\n",
       "</style>\n",
       "<table border=\"1\" class=\"dataframe\">\n",
       "  <thead>\n",
       "    <tr style=\"text-align: right;\">\n",
       "      <th></th>\n",
       "      <th>WarName</th>\n",
       "      <th>WarNum</th>\n",
       "      <th>total_instances</th>\n",
       "    </tr>\n",
       "  </thead>\n",
       "  <tbody>\n",
       "    <tr>\n",
       "      <th>93</th>\n",
       "      <td>World War II</td>\n",
       "      <td>139</td>\n",
       "      <td>29</td>\n",
       "    </tr>\n",
       "    <tr>\n",
       "      <th>44</th>\n",
       "      <td>Korean</td>\n",
       "      <td>151</td>\n",
       "      <td>16</td>\n",
       "    </tr>\n",
       "    <tr>\n",
       "      <th>92</th>\n",
       "      <td>World War I</td>\n",
       "      <td>106</td>\n",
       "      <td>15</td>\n",
       "    </tr>\n",
       "    <tr>\n",
       "      <th>34</th>\n",
       "      <td>Gulf War</td>\n",
       "      <td>211</td>\n",
       "      <td>14</td>\n",
       "    </tr>\n",
       "    <tr>\n",
       "      <th>70</th>\n",
       "      <td>Seven Weeks</td>\n",
       "      <td>55</td>\n",
       "      <td>11</td>\n",
       "    </tr>\n",
       "    <tr>\n",
       "      <th>86</th>\n",
       "      <td>War for Kosovo</td>\n",
       "      <td>221</td>\n",
       "      <td>8</td>\n",
       "    </tr>\n",
       "    <tr>\n",
       "      <th>84</th>\n",
       "      <td>Vietnam War, Phase 2</td>\n",
       "      <td>163</td>\n",
       "      <td>8</td>\n",
       "    </tr>\n",
       "    <tr>\n",
       "      <th>94</th>\n",
       "      <td>Yom Kippur War</td>\n",
       "      <td>181</td>\n",
       "      <td>6</td>\n",
       "    </tr>\n",
       "    <tr>\n",
       "      <th>1</th>\n",
       "      <td>Arab-Israeli</td>\n",
       "      <td>148</td>\n",
       "      <td>6</td>\n",
       "    </tr>\n",
       "    <tr>\n",
       "      <th>8</th>\n",
       "      <td>Boxer Rebellion</td>\n",
       "      <td>82</td>\n",
       "      <td>6</td>\n",
       "    </tr>\n",
       "  </tbody>\n",
       "</table>\n",
       "</div>"
      ],
      "text/plain": [
       "                 WarName  WarNum  total_instances\n",
       "93          World War II     139               29\n",
       "44                Korean     151               16\n",
       "92           World War I     106               15\n",
       "34              Gulf War     211               14\n",
       "70           Seven Weeks      55               11\n",
       "86        War for Kosovo     221                8\n",
       "84  Vietnam War, Phase 2     163                8\n",
       "94        Yom Kippur War     181                6\n",
       "1           Arab-Israeli     148                6\n",
       "8        Boxer Rebellion      82                6"
      ]
     },
     "execution_count": 4,
     "metadata": {},
     "output_type": "execute_result"
    }
   ],
   "source": [
    "df = pd.read_csv('../../../international_armed_conflict/Data Sources/Inter-StateWarData_v4.0.csv', encoding = 'latin-1')\n",
    "# df = pd.read_csv('../../../international_armed_conflict/Data Sources/Intra-StateWarData_v4.1.csv', encoding = 'latin-1')\n",
    "\n",
    "aggregations = {\n",
    "    'ccode': 'count'\n",
    "    }\n",
    "\n",
    "grouped_df = df.groupby(['WarName', 'WarNum']).agg(aggregations).reset_index()\n",
    "grouped_df.rename({'ccode': 'total_instances'}, axis = 1, inplace = True)\n",
    "grouped_df.sort_values(by = 'total_instances', ascending = False).head(10)"
   ]
  },
  {
   "cell_type": "code",
   "execution_count": 5,
   "metadata": {},
   "outputs": [],
   "source": [
    "dyad_df = pd.read_csv('../../../international_armed_conflict/Data Sources/directed_dyadic_war.csv', encoding = 'latin-1')\n",
    "dyad_df.rename({'warnum': 'war_num', 'statea': 'c_code_a', 'stateb': 'c_code_b'}, axis = 1, inplace = True)\n",
    "dyad_df = deepcopy(dyad_df[(dyad_df['war_num']==211) & (dyad_df['durindx']==1)][['war_num', 'c_code_a', 'c_code_b', 'year']])\n",
    "\n",
    "c_code_df = pd.read_pickle('../../../international_armed_conflict/Pickles/c_code_df.pkl')\n",
    "c_code_df.rename({'c_code': 'c_code_a', 'state_name': 'state_name_a'}, axis = 1, inplace = True)\n",
    "dyad_df = deepcopy(pd.merge(c_code_df, dyad_df, on = 'c_code_a'))\n",
    "c_code_df.rename({'c_code_a': 'c_code_b', 'state_name_a': 'state_name_b'}, axis = 1, inplace = True)\n",
    "dyad_df = deepcopy(pd.merge(c_code_df, dyad_df, on = 'c_code_b'))\n",
    "\n",
    "participant_df = pd.read_csv('../../../international_armed_conflict/Data Sources/Inter-StateWarData_v4.0.csv', encoding = 'latin-1')\n",
    "participant_df = deepcopy(participant_df[participant_df['WarNum']==211][['WarNum', 'WarName', 'WarType', 'ccode', 'Side', 'BatDeath']])\n",
    "participant_df.rename({'WarNum': 'war_num', 'WarName': 'war_name', 'WarType': 'war_type', 'ccode': 'c_code_a', 'Side': 'side_a', 'BatDeath': 'battle_deaths_a'}, axis = 1, inplace = True)\n",
    "dyad_df = deepcopy(pd.merge(dyad_df, participant_df, on = ['war_num', 'c_code_a']))\n",
    "participant_df.drop(['war_name', 'war_type'], axis = 1, inplace = True)\n",
    "participant_df.rename({'c_code_a': 'c_code_b', 'side_a': 'side_b', 'battle_deaths_a': 'battle_deaths_b'}, axis = 1, inplace = True)\n",
    "dyad_df = deepcopy(pd.merge(dyad_df, participant_df, on = ['war_num', 'c_code_b']))\n",
    "\n",
    "dyad_union_df = deepcopy(dyad_df)\n",
    "## doing these inefficient column name changes to fill in for a much needed sql union of mismatching column names\n",
    "dyad_union_df.rename({'c_code_a': 'c_code_new_a', 'c_code_b': 'c_code_new_b', 'state_name_a': 'state_name_new_a', 'state_name_b': 'state_name_new_b', 'side_a': 'side_a_new', 'side_b': 'side_b_new', 'battle_deaths_a': 'battle_deaths_a_new', 'battle_deaths_b': 'battle_deaths_b_new'}, axis = 1, inplace = True)\n",
    "dyad_union_df.rename({'c_code_new_a': 'c_code_b', 'c_code_new_b': 'c_code_a', 'state_name_new_a': 'state_name_b', 'state_name_new_b': 'state_name_a', 'side_a_new': 'side_b', 'side_b_new': 'side_a', 'battle_deaths_a_new': 'battle_deaths_b', 'battle_deaths_b_new': 'battle_deaths_a'}, axis = 1, inplace = True)\n",
    "\n",
    "dyad_df = deepcopy(pd.concat([dyad_df, dyad_union_df])).reset_index()"
   ]
  },
  {
   "cell_type": "code",
   "execution_count": 6,
   "metadata": {},
   "outputs": [],
   "source": [
    "for i, country_code_a in enumerate(dyad_df['c_code_a']):\n",
    "    if int(country_code_a) < int(dyad_df.loc[i, 'c_code_b']):\n",
    "        dyad_df.loc[i, 'conflict_pair'] = str(country_code_a) + \" \" + str(dyad_df.loc[i, 'c_code_b'])\n",
    "    else:\n",
    "        dyad_df.loc[i, 'conflict_pair'] = str(dyad_df.loc[i, 'c_code_b']) + \" \" + str(country_code_a)\n",
    "\n",
    "dyad_df.sort_values(by = 'year', ascending = True, inplace = True)\n",
    "connections_df = deepcopy(dyad_df[['war_num', 'war_name', 'war_type', 'c_code_a', 'state_name_a', 'c_code_b', 'state_name_b', 'conflict_pair']])\n",
    "duplicate_list = ['conflict_pair']\n",
    "connections_df.drop_duplicates(subset = duplicate_list, keep = 'first', inplace = True)\n",
    "connections_df = deepcopy(connections_df.reset_index(drop = True))\n",
    "\n",
    "## keeping final non-null value recorded for total lost in battle\n",
    "dyad_df.sort_values(by = ['c_code_a','battle_deaths_a'], ascending = (True, False), inplace = True)\n",
    "countries_df = deepcopy(dyad_df[['war_num', 'war_name', 'war_type','c_code_a', 'state_name_a', 'battle_deaths_a', 'side_a']])\n",
    "duplicate_list = ['c_code_a']\n",
    "countries_df.drop_duplicates(subset = duplicate_list, keep = 'first', inplace = True)\n",
    "countries_df = deepcopy(countries_df.reset_index(drop=True))"
   ]
  },
  {
   "cell_type": "code",
   "execution_count": 7,
   "metadata": {
    "code_folding": [],
    "scrolled": true
   },
   "outputs": [],
   "source": [
    "## manually filling in missing battle numbers from google search.\n",
    "## https://en.wikipedia.org/wiki/World_War_II_casualties\n",
    "## to be investigated across all cow datasets later for whether they are located elsewhere.\n",
    "\n",
    "# countries_df.loc[(countries_df['state_name_a']=='Japan') & (countries_df['warnum']==139), 'batdtha'] = 2300000\n",
    "# countries_df.loc[(countries_df['state_name_a']=='France') & (countries_df['warnum']==139), 'batdtha'] = 600000"
   ]
  },
  {
   "cell_type": "code",
   "execution_count": 9,
   "metadata": {},
   "outputs": [
    {
     "data": {
      "text/plain": [
       "6"
      ]
     },
     "execution_count": 9,
     "metadata": {},
     "output_type": "execute_result"
    }
   ],
   "source": [
    "network_nodes = list(countries_df['state_name_a'])\n",
    "\n",
    "graph_file = open(\"the_networks_of_wars.json\", 'w+')\n",
    "\n",
    "json_dic = {}\n",
    "json_dic['nodes'] = {}\n",
    "json_dic['links'] = {}\n",
    "start_line = '{\\n  \"nodes\": [\\n'\n",
    "middle_line = '  ],\\n  \"links\": [\\n'\n",
    "end_line = '\\n  ]\\n}'\n",
    "\n",
    "graph_file.write(start_line)\n",
    "for i, node in enumerate(countries_df['state_name_a']):\n",
    "    if node == network_nodes[-1]:\n",
    "        add_line = (\n",
    "            '    {\"country\": \"' + node\n",
    "            + '\", \"side\": ' + str(countries_df.loc[i, 'side_a'])\n",
    "            + ', \"size\": ' + str(countries_df.loc[i, 'battle_deaths_a'])\n",
    "            + '}\\n'\n",
    "        )\n",
    "        graph_file.write(add_line)\n",
    "    else:\n",
    "        add_line = (\n",
    "            '    {\"country\": \"' + node\n",
    "            + '\", \"side\": ' + str(countries_df.loc[i, 'side_a'])\n",
    "            + ', \"size\": ' + str(countries_df.loc[i, 'battle_deaths_a'])\n",
    "            + '},\\n'\n",
    "        )\n",
    "        graph_file.write(add_line)        \n",
    "\n",
    "graph_file.write(middle_line)\n",
    "\n",
    "for i, node_1 in enumerate(connections_df['state_name_a']):\n",
    "    if i+1 != len(connections_df['state_name_a']):\n",
    "        add_line = (\n",
    "            '    {\"source\": ' + str(network_nodes.index(node_1))\n",
    "            + ', \"target\": ' + str(network_nodes.index(connections_df.loc[i, 'state_name_b']))\n",
    "            + ', \"bond\": ' + str(1)\n",
    "            + '},\\n'\n",
    "        )\n",
    "        graph_file.write(add_line)\n",
    "    else:\n",
    "        add_line = (\n",
    "            '    {\"source\": ' + str(network_nodes.index(node_1))\n",
    "            + ', \"target\": ' + str(network_nodes.index(connections_df.loc[i, 'state_name_b']))\n",
    "            + ', \"bond\": ' + str(1)\n",
    "            + '}\\n'\n",
    "        )\n",
    "        graph_file.write(add_line)\n",
    "\n",
    "graph_file.write(end_line)"
   ]
  },
  {
   "cell_type": "code",
   "execution_count": null,
   "metadata": {},
   "outputs": [],
   "source": []
  },
  {
   "cell_type": "code",
   "execution_count": null,
   "metadata": {},
   "outputs": [],
   "source": []
  },
  {
   "cell_type": "code",
   "execution_count": null,
   "metadata": {},
   "outputs": [],
   "source": []
  }
 ],
 "metadata": {
  "kernelspec": {
   "display_name": "Python 3",
   "language": "python",
   "name": "python3"
  },
  "language_info": {
   "codemirror_mode": {
    "name": "ipython",
    "version": 3
   },
   "file_extension": ".py",
   "mimetype": "text/x-python",
   "name": "python",
   "nbconvert_exporter": "python",
   "pygments_lexer": "ipython3",
   "version": "3.6.4"
  }
 },
 "nbformat": 4,
 "nbformat_minor": 2
}
